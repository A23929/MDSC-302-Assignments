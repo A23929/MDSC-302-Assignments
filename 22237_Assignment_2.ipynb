{
  "nbformat": 4,
  "nbformat_minor": 0,
  "metadata": {
    "colab": {
      "provenance": [],
      "gpuType": "T4",
      "authorship_tag": "ABX9TyOuVerYr2DnaHpj6yrU22vS",
      "include_colab_link": true
    },
    "kernelspec": {
      "name": "python3",
      "display_name": "Python 3"
    },
    "language_info": {
      "name": "python"
    },
    "accelerator": "GPU"
  },
  "cells": [
    {
      "cell_type": "markdown",
      "metadata": {
        "id": "view-in-github",
        "colab_type": "text"
      },
      "source": [
        "<a href=\"https://colab.research.google.com/github/A23929/MDSC-302-Assignments/blob/main/22237_Assignment_2.ipynb\" target=\"_parent\"><img src=\"https://colab.research.google.com/assets/colab-badge.svg\" alt=\"Open In Colab\"/></a>"
      ]
    },
    {
      "cell_type": "code",
      "execution_count": null,
      "metadata": {
        "id": "aGYF58DA2tN5",
        "colab": {
          "base_uri": "https://localhost:8080/"
        },
        "outputId": "93b5cb5f-e78a-495f-8e5c-387187364fb1"
      },
      "outputs": [
        {
          "output_type": "stream",
          "name": "stdout",
          "text": [
            "Downloading http://yann.lecun.com/exdb/mnist/train-images-idx3-ubyte.gz\n",
            "Downloading http://yann.lecun.com/exdb/mnist/train-images-idx3-ubyte.gz to data/MNIST/raw/train-images-idx3-ubyte.gz\n"
          ]
        },
        {
          "output_type": "stream",
          "name": "stderr",
          "text": [
            "100%|██████████| 9912422/9912422 [00:00<00:00, 75528483.69it/s]\n"
          ]
        },
        {
          "output_type": "stream",
          "name": "stdout",
          "text": [
            "Extracting data/MNIST/raw/train-images-idx3-ubyte.gz to data/MNIST/raw\n",
            "\n",
            "Downloading http://yann.lecun.com/exdb/mnist/train-labels-idx1-ubyte.gz\n",
            "Downloading http://yann.lecun.com/exdb/mnist/train-labels-idx1-ubyte.gz to data/MNIST/raw/train-labels-idx1-ubyte.gz\n"
          ]
        },
        {
          "output_type": "stream",
          "name": "stderr",
          "text": [
            "100%|██████████| 28881/28881 [00:00<00:00, 132244207.23it/s]\n"
          ]
        },
        {
          "output_type": "stream",
          "name": "stdout",
          "text": [
            "Extracting data/MNIST/raw/train-labels-idx1-ubyte.gz to data/MNIST/raw\n",
            "\n",
            "Downloading http://yann.lecun.com/exdb/mnist/t10k-images-idx3-ubyte.gz\n",
            "Downloading http://yann.lecun.com/exdb/mnist/t10k-images-idx3-ubyte.gz to data/MNIST/raw/t10k-images-idx3-ubyte.gz\n"
          ]
        },
        {
          "output_type": "stream",
          "name": "stderr",
          "text": [
            "100%|██████████| 1648877/1648877 [00:00<00:00, 23726324.41it/s]\n"
          ]
        },
        {
          "output_type": "stream",
          "name": "stdout",
          "text": [
            "Extracting data/MNIST/raw/t10k-images-idx3-ubyte.gz to data/MNIST/raw\n",
            "\n",
            "Downloading http://yann.lecun.com/exdb/mnist/t10k-labels-idx1-ubyte.gz\n",
            "Downloading http://yann.lecun.com/exdb/mnist/t10k-labels-idx1-ubyte.gz to data/MNIST/raw/t10k-labels-idx1-ubyte.gz\n"
          ]
        },
        {
          "output_type": "stream",
          "name": "stderr",
          "text": [
            "100%|██████████| 4542/4542 [00:00<00:00, 20484439.54it/s]"
          ]
        },
        {
          "output_type": "stream",
          "name": "stdout",
          "text": [
            "Extracting data/MNIST/raw/t10k-labels-idx1-ubyte.gz to data/MNIST/raw\n",
            "\n"
          ]
        },
        {
          "output_type": "stream",
          "name": "stderr",
          "text": [
            "\n"
          ]
        }
      ],
      "source": [
        "import torch\n",
        "from torch.utils.data import Dataset, DataLoader, random_split\n",
        "from torchvision import datasets\n",
        "from torchvision.transforms import ToTensor\n",
        "import matplotlib.pyplot as plt\n",
        "\n",
        "\n",
        "training_data = datasets.MNIST(\n",
        "    root=\"data\",\n",
        "    train=True,\n",
        "    download=True,\n",
        "    transform=ToTensor()\n",
        ")\n",
        "\n",
        "test_data = datasets.MNIST(\n",
        "    root=\"data\",\n",
        "    train=False,\n",
        "    download=True,\n",
        "    transform=ToTensor()\n",
        ")"
      ]
    },
    {
      "cell_type": "code",
      "source": [
        "train_size = int(0.9*(len(training_data)))"
      ],
      "metadata": {
        "id": "phtEcwM2-81d"
      },
      "execution_count": null,
      "outputs": []
    },
    {
      "cell_type": "code",
      "source": [
        "val_size = len(training_data) - train_size"
      ],
      "metadata": {
        "id": "WXw-Fc-y_kgP"
      },
      "execution_count": null,
      "outputs": []
    },
    {
      "cell_type": "code",
      "source": [
        "train_set, val_set = random_split(training_data, [train_size, val_size])"
      ],
      "metadata": {
        "id": "qz16rNyh_z7l"
      },
      "execution_count": null,
      "outputs": []
    },
    {
      "cell_type": "code",
      "source": [
        "train_set.__len__()"
      ],
      "metadata": {
        "colab": {
          "base_uri": "https://localhost:8080/"
        },
        "id": "v2nWqlsUAFod",
        "outputId": "7e7a162e-763f-4236-abe6-7c2afb848a67"
      },
      "execution_count": null,
      "outputs": [
        {
          "output_type": "execute_result",
          "data": {
            "text/plain": [
              "54000"
            ]
          },
          "metadata": {},
          "execution_count": 6
        }
      ]
    },
    {
      "cell_type": "code",
      "source": [
        "val_set.__len__()"
      ],
      "metadata": {
        "colab": {
          "base_uri": "https://localhost:8080/"
        },
        "id": "T4-YQ8F5ALoW",
        "outputId": "03039601-8567-424f-c40f-8fc5e0794416"
      },
      "execution_count": null,
      "outputs": [
        {
          "output_type": "execute_result",
          "data": {
            "text/plain": [
              "6000"
            ]
          },
          "metadata": {},
          "execution_count": 7
        }
      ]
    },
    {
      "cell_type": "code",
      "source": [
        "train_dataloader = DataLoader(training_data,batch_size = 64,shuffle=True)\n",
        "test_dataloader = DataLoader(test_data,batch_size = 64,shuffle=True)\n",
        "val_dataloader = DataLoader(val_set,batch_size = 64,shuffle=True)"
      ],
      "metadata": {
        "id": "ZqOP4gVr4f12"
      },
      "execution_count": null,
      "outputs": []
    },
    {
      "cell_type": "code",
      "source": [
        "train_features,train_labels = next(iter(train_dataloader))\n",
        "print(f\"Feature batch shape: {train_features.size()}\")\n",
        "print(f\"Labels batch shape: {train_labels.size()}\")\n",
        "img = train_features[0].squeeze()\n",
        "label = train_labels[0]\n",
        "plt.imshow(img,cmap='gray')\n",
        "plt.show()\n",
        "print(f\"Label: {label}\")"
      ],
      "metadata": {
        "colab": {
          "base_uri": "https://localhost:8080/",
          "height": 484
        },
        "id": "DtB3F6LA-QwV",
        "outputId": "fa96a236-d5ff-419d-8b07-cd2f012108d8"
      },
      "execution_count": null,
      "outputs": [
        {
          "output_type": "stream",
          "name": "stdout",
          "text": [
            "Feature batch shape: torch.Size([64, 1, 28, 28])\n",
            "Labels batch shape: torch.Size([64])\n"
          ]
        },
        {
          "output_type": "display_data",
          "data": {
            "text/plain": [
              "<Figure size 640x480 with 1 Axes>"
            ],
            "image/png": "[encoded data removed]"
          },
          "metadata": {}
        },
        {
          "output_type": "stream",
          "name": "stdout",
          "text": [
            "Label: 9\n"
          ]
        }
      ]
    },
    {
      "cell_type": "code",
      "source": [
        "from torch import nn"
      ],
      "metadata": {
        "id": "0xGD_SMJAQRU"
      },
      "execution_count": null,
      "outputs": []
    },
    {
      "cell_type": "code",
      "source": [
        "device = (\n",
        "    \"cuda\"\n",
        "    if torch.cuda.is_available()\n",
        "    else \"cpu\"\n",
        ")\n",
        "print(f\"Using {device} device\")"
      ],
      "metadata": {
        "colab": {
          "base_uri": "https://localhost:8080/"
        },
        "id": "pqr25j4qBbNW",
        "outputId": "242b4cc6-08f7-4701-d3e1-0249c76ce312"
      },
      "execution_count": null,
      "outputs": [
        {
          "output_type": "stream",
          "name": "stdout",
          "text": [
            "Using cuda device\n"
          ]
        }
      ]
    },
    {
      "cell_type": "code",
      "source": [
        "class NeuralNetwork(nn.Module):\n",
        "    def __init__(self):\n",
        "        super().__init__()\n",
        "        self.flatten = nn.Flatten()\n",
        "        self.linear_relu_stack = nn.Sequential(\n",
        "            nn.Linear(28*28, 512),\n",
        "            nn.ReLU(),\n",
        "            nn.Linear(512, 512),\n",
        "            nn.ReLU(),\n",
        "            nn.Linear(512, 10),\n",
        "        )\n",
        "\n",
        "    def forward(self, x):\n",
        "        x = self.flatten(x)\n",
        "        logits = self.linear_relu_stack(x)\n",
        "        return logits"
      ],
      "metadata": {
        "id": "jFuGWzd1C0TG"
      },
      "execution_count": null,
      "outputs": []
    },
    {
      "cell_type": "code",
      "source": [
        "model = NeuralNetwork()"
      ],
      "metadata": {
        "id": "QbJOBAtoceXx"
      },
      "execution_count": null,
      "outputs": []
    },
    {
      "cell_type": "code",
      "source": [
        "learning_rate = 1e-3\n",
        "batch_size = 64\n",
        "epochs = 5"
      ],
      "metadata": {
        "id": "_cP8t-bdct-E"
      },
      "execution_count": null,
      "outputs": []
    },
    {
      "cell_type": "code",
      "source": [
        "# Initialize the loss function\n",
        "loss_fn = nn.CrossEntropyLoss()"
      ],
      "metadata": {
        "id": "UMNR6vyIcxME"
      },
      "execution_count": null,
      "outputs": []
    },
    {
      "cell_type": "code",
      "source": [
        "optimizer = torch.optim.SGD(model.parameters(), lr=learning_rate)"
      ],
      "metadata": {
        "id": "M4OwF2IAc080"
      },
      "execution_count": null,
      "outputs": []
    },
    {
      "cell_type": "code",
      "source": [
        "def train_loop(dataloader, model, loss_fn, optimizer):\n",
        "  size = len(dataloader.dataset)\n",
        "  # Set the model to training mode - important for batch normalization and dropout layers\n",
        "  # Unnecessary in this situation but added for best practices\n",
        "  model.train()\n",
        "  for batch, (X, y) in enumerate(dataloader):\n",
        "    # Compute prediction and loss\n",
        "    pred = model(X)\n",
        "    loss = loss_fn(pred, y)\n",
        "\n",
        "    # Backpropagation\n",
        "    loss.backward()\n",
        "    optimizer.step()\n",
        "    optimizer.zero_grad()\n",
        "\n",
        "    if batch % 100 == 0:\n",
        "      loss, current = loss.item(), (batch + 1) * len(X)\n",
        "      print(f\"loss: {loss:>7f} [{current:>5d}/{size:>5d}]\")\n",
        "\n",
        "def test_loop(dataloader, model, loss_fn):\n",
        "  # Set the model to evaluation mode - important for batch normalization and dropout layers\n",
        "  # Unnecessary in this situation but added for best practices\n",
        "  model.eval()\n",
        "  size = len(dataloader.dataset)\n",
        "  num_batches = len(dataloader)\n",
        "  test_loss, correct = 0, 0\n",
        "\n",
        "  # Evaluating the model with torch.no_grad() ensures that no gradients are computed during test mode\n",
        "  # Also serves to reduce unnecessary gradient computations and memory usage for tensors\n",
        "  with torch.no_grad():\n",
        "    for X, y in dataloader:\n",
        "      pred = model(X)\n",
        "      test_loss += loss_fn(pred, y).item()\n",
        "      correct += (pred.argmax(1) == y).type(torch.float).sum().item()\n",
        "\n",
        "    test_loss /= num_batches\n",
        "    correct /= size\n",
        "    print(f\"Test error : \\n Accuracy: {(100 * correct):>0.1f}%, Avg loss: {test_loss:>8f} \\n\")\n",
        "\n",
        "def val_loop(dataloader, model, loss_fn):\n",
        "  # Set the model to evaluation mode - important for batch normalization and dropout layers\n",
        "  # Unnecessary in this situation but added for best practices\n",
        "  model.eval()\n",
        "  size = len(dataloader.dataset)\n",
        "  num_batches = len(dataloader)\n",
        "  test_loss, correct = 0, 0\n",
        "\n",
        "  # Evaluating the model with torch.no_grad() ensures that no gradients are computed during test mode\n",
        "  # Also serves to reduce unnecessary gradient computations and memory usage for tensors\n",
        "  with torch.no_grad():\n",
        "    for X, y in dataloader:\n",
        "      pred = model(X)\n",
        "      test_loss += loss_fn(pred, y).item()\n",
        "      correct += (pred.argmax(1) == y).type(torch.float).sum().item()\n",
        "\n",
        "    test_loss /= num_batches\n",
        "    correct /= size\n",
        "    print(f\"Validation error : \\n Accuracy: {(100 * correct):>0.1f}%, Avg loss: {test_loss:>8f} \\n\")"
      ],
      "metadata": {
        "id": "Eukp0oFhc26M"
      },
      "execution_count": null,
      "outputs": []
    },
    {
      "cell_type": "code",
      "source": [
        "loss_fn = nn.CrossEntropyLoss()\n",
        "optimizer = torch.optim.SGD(model.parameters(), lr=learning_rate)\n",
        "\n",
        "epochs = 20\n",
        "for t in range(epochs):\n",
        "  print(f\"Epoch {t+1}\\n------------------------------------------\")\n",
        "  train_loop(train_dataloader, model, loss_fn, optimizer)\n",
        "  val_loop(val_dataloader, model, loss_fn)\n",
        "  test_loop(test_dataloader, model, loss_fn)"
      ],
      "metadata": {
        "colab": {
          "base_uri": "https://localhost:8080/"
        },
        "id": "uV83BSH1vsFE",
        "outputId": "d12056b9-1e03-4019-8549-6dda9f1f575c"
      },
      "execution_count": null,
      "outputs": [
        {
          "output_type": "stream",
          "name": "stdout",
          "text": [
            "Epoch 1\n",
            "------------------------------------------\n",
            "loss: 2.304466 [   64/60000]\n",
            "loss: 2.300231 [ 6464/60000]\n",
            "loss: 2.294884 [12864/60000]\n",
            "loss: 2.286346 [19264/60000]\n",
            "loss: 2.286783 [25664/60000]\n",
            "loss: 2.280002 [32064/60000]\n",
            "loss: 2.271542 [38464/60000]\n",
            "loss: 2.266351 [44864/60000]\n",
            "loss: 2.276125 [51264/60000]\n",
            "loss: 2.270389 [57664/60000]\n",
            "Validation error : \n",
            " Accuracy: 49.5%, Avg loss: 2.262115 \n",
            "\n",
            "Test error : \n",
            " Accuracy: 51.0%, Avg loss: 2.260840 \n",
            "\n",
            "Epoch 2\n",
            "------------------------------------------\n",
            "loss: 2.268809 [   64/60000]\n",
            "loss: 2.255421 [ 6464/60000]\n",
            "loss: 2.252072 [12864/60000]\n",
            "loss: 2.249449 [19264/60000]\n",
            "loss: 2.239784 [25664/60000]\n",
            "loss: 2.236688 [32064/60000]\n",
            "loss: 2.230093 [38464/60000]\n",
            "loss: 2.210936 [44864/60000]\n",
            "loss: 2.215844 [51264/60000]\n",
            "loss: 2.216633 [57664/60000]\n",
            "Validation error : \n",
            " Accuracy: 63.2%, Avg loss: 2.203293 \n",
            "\n",
            "Test error : \n",
            " Accuracy: 63.5%, Avg loss: 2.200460 \n",
            "\n",
            "Epoch 3\n",
            "------------------------------------------\n",
            "loss: 2.209453 [   64/60000]\n",
            "loss: 2.205516 [ 6464/60000]\n",
            "loss: 2.188248 [12864/60000]\n",
            "loss: 2.151611 [19264/60000]\n",
            "loss: 2.163575 [25664/60000]\n",
            "loss: 2.162841 [32064/60000]\n",
            "loss: 2.157295 [38464/60000]\n",
            "loss: 2.139499 [44864/60000]\n",
            "loss: 2.118877 [51264/60000]\n",
            "loss: 2.098805 [57664/60000]\n",
            "Validation error : \n",
            " Accuracy: 66.7%, Avg loss: 2.103280 \n",
            "\n",
            "Test error : \n",
            " Accuracy: 67.3%, Avg loss: 2.097779 \n",
            "\n",
            "Epoch 4\n",
            "------------------------------------------\n",
            "loss: 2.094799 [   64/60000]\n",
            "loss: 2.089223 [ 6464/60000]\n",
            "loss: 2.057051 [12864/60000]\n",
            "loss: 2.097399 [19264/60000]\n",
            "loss: 2.079715 [25664/60000]\n",
            "loss: 2.050899 [32064/60000]\n",
            "loss: 2.000350 [38464/60000]\n",
            "loss: 1.951939 [44864/60000]\n",
            "loss: 1.995784 [51264/60000]\n",
            "loss: 1.924273 [57664/60000]\n",
            "Validation error : \n",
            " Accuracy: 67.6%, Avg loss: 1.922907 \n",
            "\n",
            "Test error : \n",
            " Accuracy: 68.2%, Avg loss: 1.912711 \n",
            "\n",
            "Epoch 5\n",
            "------------------------------------------\n",
            "loss: 1.903746 [   64/60000]\n",
            "loss: 1.804872 [ 6464/60000]\n",
            "loss: 1.854369 [12864/60000]\n",
            "loss: 1.889639 [19264/60000]\n",
            "loss: 1.862371 [25664/60000]\n",
            "loss: 1.751063 [32064/60000]\n",
            "loss: 1.686411 [38464/60000]\n",
            "loss: 1.684125 [44864/60000]\n",
            "loss: 1.636060 [51264/60000]\n",
            "loss: 1.669178 [57664/60000]\n",
            "Validation error : \n",
            " Accuracy: 69.3%, Avg loss: 1.635652 \n",
            "\n",
            "Test error : \n",
            " Accuracy: 69.7%, Avg loss: 1.619957 \n",
            "\n",
            "Epoch 6\n",
            "------------------------------------------\n",
            "loss: 1.648541 [   64/60000]\n",
            "loss: 1.587586 [ 6464/60000]\n",
            "loss: 1.526649 [12864/60000]\n",
            "loss: 1.536389 [19264/60000]\n",
            "loss: 1.466056 [25664/60000]\n",
            "loss: 1.558446 [32064/60000]\n",
            "loss: 1.429931 [38464/60000]\n",
            "loss: 1.372673 [44864/60000]\n",
            "loss: 1.252727 [51264/60000]\n",
            "loss: 1.326701 [57664/60000]\n",
            "Validation error : \n",
            " Accuracy: 73.5%, Avg loss: 1.308138 \n",
            "\n",
            "Test error : \n",
            " Accuracy: 74.2%, Avg loss: 1.290595 \n",
            "\n",
            "Epoch 7\n",
            "------------------------------------------\n",
            "loss: 1.419032 [   64/60000]\n",
            "loss: 1.366023 [ 6464/60000]\n",
            "loss: 1.240856 [12864/60000]\n",
            "loss: 1.277208 [19264/60000]\n",
            "loss: 1.138399 [25664/60000]\n",
            "loss: 1.138101 [32064/60000]\n",
            "loss: 1.085447 [38464/60000]\n",
            "loss: 1.171394 [44864/60000]\n",
            "loss: 1.010838 [51264/60000]\n",
            "loss: 1.128512 [57664/60000]\n",
            "Validation error : \n",
            " Accuracy: 78.7%, Avg loss: 1.044366 \n",
            "\n",
            "Test error : \n",
            " Accuracy: 79.0%, Avg loss: 1.027697 \n",
            "\n",
            "Epoch 8\n",
            "------------------------------------------\n",
            "loss: 1.153569 [   64/60000]\n",
            "loss: 1.061355 [ 6464/60000]\n",
            "loss: 0.900995 [12864/60000]\n",
            "loss: 0.888468 [19264/60000]\n",
            "loss: 0.990781 [25664/60000]\n",
            "loss: 1.086815 [32064/60000]\n",
            "loss: 1.042533 [38464/60000]\n",
            "loss: 0.981387 [44864/60000]\n",
            "loss: 0.847226 [51264/60000]\n",
            "loss: 1.082217 [57664/60000]\n",
            "Validation error : \n",
            " Accuracy: 81.4%, Avg loss: 0.863302 \n",
            "\n",
            "Test error : \n",
            " Accuracy: 81.3%, Avg loss: 0.852279 \n",
            "\n",
            "Epoch 9\n",
            "------------------------------------------\n",
            "loss: 0.833562 [   64/60000]\n",
            "loss: 0.697759 [ 6464/60000]\n",
            "loss: 0.770531 [12864/60000]\n",
            "loss: 0.880132 [19264/60000]\n",
            "loss: 0.714813 [25664/60000]\n",
            "loss: 0.885286 [32064/60000]\n",
            "loss: 0.849951 [38464/60000]\n",
            "loss: 0.946006 [44864/60000]\n",
            "loss: 0.927348 [51264/60000]\n",
            "loss: 0.631083 [57664/60000]\n",
            "Validation error : \n",
            " Accuracy: 83.0%, Avg loss: 0.740824 \n",
            "\n",
            "Test error : \n",
            " Accuracy: 83.2%, Avg loss: 0.734789 \n",
            "\n",
            "Epoch 10\n",
            "------------------------------------------\n",
            "loss: 0.679200 [   64/60000]\n",
            "loss: 0.695058 [ 6464/60000]\n",
            "loss: 0.737983 [12864/60000]\n",
            "loss: 0.810703 [19264/60000]\n",
            "loss: 0.582010 [25664/60000]\n",
            "loss: 0.669729 [32064/60000]\n",
            "loss: 0.855623 [38464/60000]\n",
            "loss: 0.657190 [44864/60000]\n",
            "loss: 0.688236 [51264/60000]\n",
            "loss: 0.487472 [57664/60000]\n",
            "Validation error : \n",
            " Accuracy: 84.2%, Avg loss: 0.655403 \n",
            "\n",
            "Test error : \n",
            " Accuracy: 84.4%, Avg loss: 0.648322 \n",
            "\n",
            "Epoch 11\n",
            "------------------------------------------\n",
            "loss: 0.653573 [   64/60000]\n",
            "loss: 0.731356 [ 6464/60000]\n",
            "loss: 0.627858 [12864/60000]\n",
            "loss: 0.829756 [19264/60000]\n",
            "loss: 0.717609 [25664/60000]\n",
            "loss: 0.526703 [32064/60000]\n",
            "loss: 0.576994 [38464/60000]\n",
            "loss: 0.639748 [44864/60000]\n",
            "loss: 0.557131 [51264/60000]\n",
            "loss: 0.686815 [57664/60000]\n",
            "Validation error : \n",
            " Accuracy: 85.3%, Avg loss: 0.593003 \n",
            "\n",
            "Test error : \n",
            " Accuracy: 85.6%, Avg loss: 0.587869 \n",
            "\n",
            "Epoch 12\n",
            "------------------------------------------\n",
            "loss: 0.607908 [   64/60000]\n",
            "loss: 0.611133 [ 6464/60000]\n",
            "loss: 0.506065 [12864/60000]\n",
            "loss: 0.484685 [19264/60000]\n",
            "loss: 0.651120 [25664/60000]\n",
            "loss: 0.528585 [32064/60000]\n",
            "loss: 0.480355 [38464/60000]\n",
            "loss: 0.413579 [44864/60000]\n",
            "loss: 0.433102 [51264/60000]\n",
            "loss: 0.554897 [57664/60000]\n",
            "Validation error : \n",
            " Accuracy: 86.2%, Avg loss: 0.546124 \n",
            "\n",
            "Test error : \n",
            " Accuracy: 86.5%, Avg loss: 0.542709 \n",
            "\n",
            "Epoch 13\n",
            "------------------------------------------\n",
            "loss: 0.631006 [   64/60000]\n",
            "loss: 0.539169 [ 6464/60000]\n",
            "loss: 0.495352 [12864/60000]\n",
            "loss: 0.572272 [19264/60000]\n",
            "loss: 0.705178 [25664/60000]\n",
            "loss: 0.683503 [32064/60000]\n",
            "loss: 0.626857 [38464/60000]\n",
            "loss: 0.535155 [44864/60000]\n",
            "loss: 0.586459 [51264/60000]\n",
            "loss: 0.393782 [57664/60000]\n",
            "Validation error : \n",
            " Accuracy: 86.8%, Avg loss: 0.509730 \n",
            "\n",
            "Test error : \n",
            " Accuracy: 87.0%, Avg loss: 0.506386 \n",
            "\n",
            "Epoch 14\n",
            "------------------------------------------\n",
            "loss: 0.609570 [   64/60000]\n",
            "loss: 0.492953 [ 6464/60000]\n",
            "loss: 0.417455 [12864/60000]\n",
            "loss: 0.541236 [19264/60000]\n",
            "loss: 0.542557 [25664/60000]\n",
            "loss: 0.714088 [32064/60000]\n",
            "loss: 0.424969 [38464/60000]\n",
            "loss: 0.621439 [44864/60000]\n",
            "loss: 0.428390 [51264/60000]\n",
            "loss: 0.488526 [57664/60000]\n",
            "Validation error : \n",
            " Accuracy: 87.2%, Avg loss: 0.481600 \n",
            "\n",
            "Test error : \n",
            " Accuracy: 87.6%, Avg loss: 0.479840 \n",
            "\n",
            "Epoch 15\n",
            "------------------------------------------\n",
            "loss: 0.322276 [   64/60000]\n",
            "loss: 0.372205 [ 6464/60000]\n",
            "loss: 0.499219 [12864/60000]\n",
            "loss: 0.534492 [19264/60000]\n",
            "loss: 0.546453 [25664/60000]\n",
            "loss: 0.474810 [32064/60000]\n",
            "loss: 0.513728 [38464/60000]\n",
            "loss: 0.366284 [44864/60000]\n",
            "loss: 0.397006 [51264/60000]\n",
            "loss: 0.625117 [57664/60000]\n",
            "Validation error : \n",
            " Accuracy: 87.5%, Avg loss: 0.456861 \n",
            "\n",
            "Test error : \n",
            " Accuracy: 88.1%, Avg loss: 0.455722 \n",
            "\n",
            "Epoch 16\n",
            "------------------------------------------\n",
            "loss: 0.598935 [   64/60000]\n",
            "loss: 0.552362 [ 6464/60000]\n",
            "loss: 0.458213 [12864/60000]\n",
            "loss: 0.371532 [19264/60000]\n",
            "loss: 0.583540 [25664/60000]\n",
            "loss: 0.746979 [32064/60000]\n",
            "loss: 0.419251 [38464/60000]\n",
            "loss: 0.391729 [44864/60000]\n",
            "loss: 0.529713 [51264/60000]\n",
            "loss: 0.282019 [57664/60000]\n",
            "Validation error : \n",
            " Accuracy: 88.1%, Avg loss: 0.437884 \n",
            "\n",
            "Test error : \n",
            " Accuracy: 88.5%, Avg loss: 0.437833 \n",
            "\n",
            "Epoch 17\n",
            "------------------------------------------\n",
            "loss: 0.329396 [   64/60000]\n",
            "loss: 0.364957 [ 6464/60000]\n",
            "loss: 0.438721 [12864/60000]\n",
            "loss: 0.586573 [19264/60000]\n",
            "loss: 0.564008 [25664/60000]\n",
            "loss: 0.407548 [32064/60000]\n",
            "loss: 0.475390 [38464/60000]\n",
            "loss: 0.432995 [44864/60000]\n",
            "loss: 0.395427 [51264/60000]\n",
            "loss: 0.402776 [57664/60000]\n",
            "Validation error : \n",
            " Accuracy: 88.3%, Avg loss: 0.421739 \n",
            "\n",
            "Test error : \n",
            " Accuracy: 88.6%, Avg loss: 0.422169 \n",
            "\n",
            "Epoch 18\n",
            "------------------------------------------\n",
            "loss: 0.580440 [   64/60000]\n",
            "loss: 0.484997 [ 6464/60000]\n",
            "loss: 0.514203 [12864/60000]\n",
            "loss: 0.493421 [19264/60000]\n",
            "loss: 0.290491 [25664/60000]\n",
            "loss: 0.436371 [32064/60000]\n",
            "loss: 0.271775 [38464/60000]\n",
            "loss: 0.436102 [44864/60000]\n",
            "loss: 0.258248 [51264/60000]\n",
            "loss: 0.584666 [57664/60000]\n",
            "Validation error : \n",
            " Accuracy: 88.4%, Avg loss: 0.408234 \n",
            "\n",
            "Test error : \n",
            " Accuracy: 88.9%, Avg loss: 0.409136 \n",
            "\n",
            "Epoch 19\n",
            "------------------------------------------\n",
            "loss: 0.578611 [   64/60000]\n",
            "loss: 0.526495 [ 6464/60000]\n",
            "loss: 0.438987 [12864/60000]\n",
            "loss: 0.300616 [19264/60000]\n",
            "loss: 0.397056 [25664/60000]\n",
            "loss: 0.339173 [32064/60000]\n",
            "loss: 0.418571 [38464/60000]\n",
            "loss: 0.338632 [44864/60000]\n",
            "loss: 0.597700 [51264/60000]\n",
            "loss: 0.336441 [57664/60000]\n",
            "Validation error : \n",
            " Accuracy: 88.8%, Avg loss: 0.395545 \n",
            "\n",
            "Test error : \n",
            " Accuracy: 89.2%, Avg loss: 0.396203 \n",
            "\n",
            "Epoch 20\n",
            "------------------------------------------\n",
            "loss: 0.344407 [   64/60000]\n",
            "loss: 0.418229 [ 6464/60000]\n",
            "loss: 0.535207 [12864/60000]\n",
            "loss: 0.426869 [19264/60000]\n",
            "loss: 0.447913 [25664/60000]\n",
            "loss: 0.402733 [32064/60000]\n",
            "loss: 0.408433 [38464/60000]\n",
            "loss: 0.275436 [44864/60000]\n",
            "loss: 0.330669 [51264/60000]\n",
            "loss: 0.464503 [57664/60000]\n",
            "Validation error : \n",
            " Accuracy: 89.1%, Avg loss: 0.385249 \n",
            "\n",
            "Test error : \n",
            " Accuracy: 89.4%, Avg loss: 0.387670 \n",
            "\n"
          ]
        }
      ]
    }
  ]
}
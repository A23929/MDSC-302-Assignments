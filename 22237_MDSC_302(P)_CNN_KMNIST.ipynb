{
  "nbformat": 4,
  "nbformat_minor": 0,
  "metadata": {
    "colab": {
      "provenance": [],
      "toc_visible": true,
      "gpuType": "T4",
      "authorship_tag": "ABX9TyOznO9fykfWGMLrr8WOHXf3",
      "include_colab_link": true
    },
    "kernelspec": {
      "name": "python3",
      "display_name": "Python 3"
    },
    "language_info": {
      "name": "python"
    },
    "accelerator": "GPU"
  },
  "cells": [
    {
      "cell_type": "markdown",
      "metadata": {
        "id": "view-in-github",
        "colab_type": "text"
      },
      "source": [
        "<a href=\"https://colab.research.google.com/github/A23929/MDSC-302-Assignments/blob/main/22237_MDSC_302(P)_CNN_KMNIST.ipynb\" target=\"_parent\"><img src=\"https://colab.research.google.com/assets/colab-badge.svg\" alt=\"Open In Colab\"/></a>"
      ]
    },
    {
      "cell_type": "code",
      "execution_count": 1,
      "metadata": {
        "id": "muZkq58zgut6"
      },
      "outputs": [],
      "source": [
        "! pip install -q kaggle"
      ]
    },
    {
      "cell_type": "code",
      "source": [
        "from google.colab import files\n",
        "files.upload()"
      ],
      "metadata": {
        "colab": {
          "base_uri": "https://localhost:8080/",
          "height": 90
        },
        "id": "xtNL3qiNg-1A",
        "outputId": "21bab820-c1ed-4f92-d65f-a88a81179b40"
      },
      "execution_count": 2,
      "outputs": [
        {
          "output_type": "display_data",
          "data": {
            "text/plain": [
              "<IPython.core.display.HTML object>"
            ],
            "text/html": [
              "\n",
              "     <input type=\"file\" id=\"files-14a2a7ab-1757-404e-87cb-0bf5ac943682\" name=\"files[]\" multiple disabled\n",
              "        style=\"border:none\" />\n",
              "     <output id=\"result-14a2a7ab-1757-404e-87cb-0bf5ac943682\">\n",
              "      Upload widget is only available when the cell has been executed in the\n",
              "      current browser session. Please rerun this cell to enable.\n",
              "      </output>\n",
              "      <script>// Copyright 2017 Google LLC\n",
              "//\n",
              "// Licensed under the Apache License, Version 2.0 (the \"License\");\n",
              "// you may not use this file except in compliance with the License.\n",
              "// You may obtain a copy of the License at\n",
              "//\n",
              "//      http://www.apache.org/licenses/LICENSE-2.0\n",
              "//\n",
              "// Unless required by applicable law or agreed to in writing, software\n",
              "// distributed under the License is distributed on an \"AS IS\" BASIS,\n",
              "// WITHOUT WARRANTIES OR CONDITIONS OF ANY KIND, either express or implied.\n",
              "// See the License for the specific language governing permissions and\n",
              "// limitations under the License.\n",
              "\n",
              "/**\n",
              " * @fileoverview Helpers for google.colab Python module.\n",
              " */\n",
              "(function(scope) {\n",
              "function span(text, styleAttributes = {}) {\n",
              "  const element = document.createElement('span');\n",
              "  element.textContent = text;\n",
              "  for (const key of Object.keys(styleAttributes)) {\n",
              "    element.style[key] = styleAttributes[key];\n",
              "  }\n",
              "  return element;\n",
              "}\n",
              "\n",
              "// Max number of bytes which will be uploaded at a time.\n",
              "const MAX_PAYLOAD_SIZE = 100 * 1024;\n",
              "\n",
              "function _uploadFiles(inputId, outputId) {\n",
              "  const steps = uploadFilesStep(inputId, outputId);\n",
              "  const outputElement = document.getElementById(outputId);\n",
              "  // Cache steps on the outputElement to make it available for the next call\n",
              "  // to uploadFilesContinue from Python.\n",
              "  outputElement.steps = steps;\n",
              "\n",
              "  return _uploadFilesContinue(outputId);\n",
              "}\n",
              "\n",
              "// This is roughly an async generator (not supported in the browser yet),\n",
              "// where there are multiple asynchronous steps and the Python side is going\n",
              "// to poll for completion of each step.\n",
              "// This uses a Promise to block the python side on completion of each step,\n",
              "// then passes the result of the previous step as the input to the next step.\n",
              "function _uploadFilesContinue(outputId) {\n",
              "  const outputElement = document.getElementById(outputId);\n",
              "  const steps = outputElement.steps;\n",
              "\n",
              "  const next = steps.next(outputElement.lastPromiseValue);\n",
              "  return Promise.resolve(next.value.promise).then((value) => {\n",
              "    // Cache the last promise value to make it available to the next\n",
              "    // step of the generator.\n",
              "    outputElement.lastPromiseValue = value;\n",
              "    return next.value.response;\n",
              "  });\n",
              "}\n",
              "\n",
              "/**\n",
              " * Generator function which is called between each async step of the upload\n",
              " * process.\n",
              " * @param {string} inputId Element ID of the input file picker element.\n",
              " * @param {string} outputId Element ID of the output display.\n",
              " * @return {!Iterable<!Object>} Iterable of next steps.\n",
              " */\n",
              "function* uploadFilesStep(inputId, outputId) {\n",
              "  const inputElement = document.getElementById(inputId);\n",
              "  inputElement.disabled = false;\n",
              "\n",
              "  const outputElement = document.getElementById(outputId);\n",
              "  outputElement.innerHTML = '';\n",
              "\n",
              "  const pickedPromise = new Promise((resolve) => {\n",
              "    inputElement.addEventListener('change', (e) => {\n",
              "      resolve(e.target.files);\n",
              "    });\n",
              "  });\n",
              "\n",
              "  const cancel = document.createElement('button');\n",
              "  inputElement.parentElement.appendChild(cancel);\n",
              "  cancel.textContent = 'Cancel upload';\n",
              "  const cancelPromise = new Promise((resolve) => {\n",
              "    cancel.onclick = () => {\n",
              "      resolve(null);\n",
              "    };\n",
              "  });\n",
              "\n",
              "  // Wait for the user to pick the files.\n",
              "  const files = yield {\n",
              "    promise: Promise.race([pickedPromise, cancelPromise]),\n",
              "    response: {\n",
              "      action: 'starting',\n",
              "    }\n",
              "  };\n",
              "\n",
              "  cancel.remove();\n",
              "\n",
              "  // Disable the input element since further picks are not allowed.\n",
              "  inputElement.disabled = true;\n",
              "\n",
              "  if (!files) {\n",
              "    return {\n",
              "      response: {\n",
              "        action: 'complete',\n",
              "      }\n",
              "    };\n",
              "  }\n",
              "\n",
              "  for (const file of files) {\n",
              "    const li = document.createElement('li');\n",
              "    li.append(span(file.name, {fontWeight: 'bold'}));\n",
              "    li.append(span(\n",
              "        `(${file.type || 'n/a'}) - ${file.size} bytes, ` +\n",
              "        `last modified: ${\n",
              "            file.lastModifiedDate ? file.lastModifiedDate.toLocaleDateString() :\n",
              "                                    'n/a'} - `));\n",
              "    const percent = span('0% done');\n",
              "    li.appendChild(percent);\n",
              "\n",
              "    outputElement.appendChild(li);\n",
              "\n",
              "    const fileDataPromise = new Promise((resolve) => {\n",
              "      const reader = new FileReader();\n",
              "      reader.onload = (e) => {\n",
              "        resolve(e.target.result);\n",
              "      };\n",
              "      reader.readAsArrayBuffer(file);\n",
              "    });\n",
              "    // Wait for the data to be ready.\n",
              "    let fileData = yield {\n",
              "      promise: fileDataPromise,\n",
              "      response: {\n",
              "        action: 'continue',\n",
              "      }\n",
              "    };\n",
              "\n",
              "    // Use a chunked sending to avoid message size limits. See b/62115660.\n",
              "    let position = 0;\n",
              "    do {\n",
              "      const length = Math.min(fileData.byteLength - position, MAX_PAYLOAD_SIZE);\n",
              "      const chunk = new Uint8Array(fileData, position, length);\n",
              "      position += length;\n",
              "\n",
              "      const base64 = btoa(String.fromCharCode.apply(null, chunk));\n",
              "      yield {\n",
              "        response: {\n",
              "          action: 'append',\n",
              "          file: file.name,\n",
              "          data: base64,\n",
              "        },\n",
              "      };\n",
              "\n",
              "      let percentDone = fileData.byteLength === 0 ?\n",
              "          100 :\n",
              "          Math.round((position / fileData.byteLength) * 100);\n",
              "      percent.textContent = `${percentDone}% done`;\n",
              "\n",
              "    } while (position < fileData.byteLength);\n",
              "  }\n",
              "\n",
              "  // All done.\n",
              "  yield {\n",
              "    response: {\n",
              "      action: 'complete',\n",
              "    }\n",
              "  };\n",
              "}\n",
              "\n",
              "scope.google = scope.google || {};\n",
              "scope.google.colab = scope.google.colab || {};\n",
              "scope.google.colab._files = {\n",
              "  _uploadFiles,\n",
              "  _uploadFilesContinue,\n",
              "};\n",
              "})(self);\n",
              "</script> "
            ]
          },
          "metadata": {}
        },
        {
          "output_type": "stream",
          "name": "stdout",
          "text": [
            "Saving kaggle.json to kaggle.json\n"
          ]
        },
        {
          "output_type": "execute_result",
          "data": {
            "text/plain": [
              "{'kaggle.json': b'{\"username\":\"aniruddhapadmanaban\",\"key\":\"f9fdfef7b2009572f9a4768f540991fd\"}'}"
            ]
          },
          "metadata": {},
          "execution_count": 2
        }
      ]
    },
    {
      "cell_type": "code",
      "source": [
        "! mkdir ~/.kaggle"
      ],
      "metadata": {
        "id": "Y_OOWtduhKFU"
      },
      "execution_count": 3,
      "outputs": []
    },
    {
      "cell_type": "code",
      "source": [
        "! cp kaggle.json ~/.kaggle/"
      ],
      "metadata": {
        "id": "f3JokRK7ik4O"
      },
      "execution_count": 4,
      "outputs": []
    },
    {
      "cell_type": "code",
      "source": [
        "! chmod 600 ~/.kaggle/kaggle.json\n",
        "! kaggle datasets list"
      ],
      "metadata": {
        "id": "bzv2qV7Tht0E",
        "colab": {
          "base_uri": "https://localhost:8080/"
        },
        "outputId": "273af7ab-f86d-417a-8b8b-38897bbf71e7"
      },
      "execution_count": 5,
      "outputs": [
        {
          "output_type": "stream",
          "name": "stdout",
          "text": [
            "ref                                                          title                                          size  lastUpdated          downloadCount  voteCount  usabilityRating  \n",
            "-----------------------------------------------------------  --------------------------------------------  -----  -------------------  -------------  ---------  ---------------  \n",
            "nelgiriyewithana/top-spotify-songs-2023                      Most Streamed Spotify Songs 2023               47KB  2023-08-26 11:04:57          23948        732  1.0              \n",
            "fortuneuwha/world-instant-noodles-consumption-2022           World Instant Noodles Consumption 2022          2KB  2023-10-02 17:06:28            691         23  1.0              \n",
            "joebeachcapital/students-performance                         Students Performance                            2KB  2023-08-31 00:50:11           8723        202  1.0              \n",
            "nelgiriyewithana/credit-card-fraud-detection-dataset-2023    Credit Card Fraud Detection Dataset 2023      143MB  2023-09-18 10:00:19           3370        115  1.0              \n",
            "asaniczka/amazon-products-dataset-2023-1-4m-products         Amazon Products Dataset 2023 (1.4M Products)   99MB  2023-09-30 10:44:48            635         30  1.0              \n",
            "tawfikelmetwally/employee-dataset                            Employee dataset                               19KB  2023-09-06 18:15:55           6162        101  0.9411765        \n",
            "nelgiriyewithana/billionaires-statistics-dataset             Billionaires Statistics Dataset (2023)        139KB  2023-09-29 13:39:28           1158         40  1.0              \n",
            "aemyjutt/indianhousesdataanalysis                            IndianHousesDataAnalysis                      395KB  2023-09-18 07:16:53            948         32  1.0              \n",
            "iamsouravbanerjee/customer-shopping-trends-dataset           Customer Shopping Trends Dataset              146KB  2023-10-05 06:45:37           1087         34  1.0              \n",
            "mohamedyosef101/economic-growth-and-unemployment-rate        Economic growth and unemployment rate          412B  2023-09-26 14:39:50            667         28  1.0              \n",
            "emilrueh/laptops-and-notebooks-from-2020-2023                Laptops and Notebooks from 2020-2023           79KB  2023-09-29 15:14:05           1318         37  1.0              \n",
            "iamsouravbanerjee/heart-attack-prediction-dataset            Heart Attack Risk Prediction Dataset          519KB  2023-09-27 07:07:50           1366         44  1.0              \n",
            "iamsouravbanerjee/airline-dataset                            Airline Dataset                                13MB  2023-09-26 01:01:28           8444        167  1.0              \n",
            "ddosad/timesworlduniversityrankings2024                      Times World University Rankings 2024          277KB  2023-09-29 11:36:45            781         30  1.0              \n",
            "willianoliveiragibin/diabetesdataanslysis                    diabetesDataAnslysis                            9KB  2023-09-27 19:54:22            878         25  1.0              \n",
            "yutodennou/visa-issuance-by-nationality-and-region-in-japan  Visa Application by Nationality  in Japan      67KB  2023-09-29 03:54:15            322         23  1.0              \n",
            "carlmcbrideellis/zzzs-lightweight-training-dataset-target    Zzzs: Lightweight training dataset + target   185MB  2023-09-20 19:52:40            828         83  1.0              \n",
            "zsinghrahulk/national-nutritional-survey                     National Nutritional Survey                    19KB  2023-09-26 10:45:58            575         22  1.0              \n",
            "yapwh1208/supermarket-sales-data                             Supermarket Sales Data                          8MB  2023-09-22 01:06:21           2534         55  1.0              \n",
            "aemyjutt/diabetesdataanslysis                                DiabetesDataAnslysis                            9KB  2023-09-23 13:48:24           1459         36  1.0              \n"
          ]
        }
      ]
    },
    {
      "cell_type": "code",
      "source": [
        "!kaggle competitions download -c Kannada-MNIST"
      ],
      "metadata": {
        "id": "IAtggPEwi2sU",
        "outputId": "38827e19-918d-47b1-9d1d-6cf0591bd2ca",
        "colab": {
          "base_uri": "https://localhost:8080/"
        }
      },
      "execution_count": 6,
      "outputs": [
        {
          "output_type": "stream",
          "name": "stdout",
          "text": [
            "Downloading Kannada-MNIST.zip to /content\n",
            " 40% 5.00M/12.4M [00:00<00:00, 26.5MB/s]\n",
            "100% 12.4M/12.4M [00:00<00:00, 53.9MB/s]\n"
          ]
        }
      ]
    },
    {
      "cell_type": "code",
      "source": [
        "import os\n",
        "import pandas as pd\n",
        "from torchvision.io import read_image\n"
      ],
      "metadata": {
        "id": "ExlBY8ugj5rO"
      },
      "execution_count": 7,
      "outputs": []
    },
    {
      "cell_type": "code",
      "source": [
        "import torch\n",
        "from torch.utils.data import Dataset\n",
        "from torchvision import datasets\n",
        "from torchvision.transforms import ToTensor\n",
        "import matplotlib.pyplot as plt"
      ],
      "metadata": {
        "id": "5LzA2Gr7kEJV"
      },
      "execution_count": 8,
      "outputs": []
    },
    {
      "cell_type": "code",
      "source": [
        "! mkdir train"
      ],
      "metadata": {
        "id": "1cIXjC1DkGSV"
      },
      "execution_count": 9,
      "outputs": []
    },
    {
      "cell_type": "code",
      "source": [
        "! unzip Kannada-MNIST.zip -d train"
      ],
      "metadata": {
        "colab": {
          "base_uri": "https://localhost:8080/"
        },
        "id": "RURCQDBZlCET",
        "outputId": "50fc793d-8d12-404b-d8c0-3d05ec2a0133"
      },
      "execution_count": 10,
      "outputs": [
        {
          "output_type": "stream",
          "name": "stdout",
          "text": [
            "Archive:  Kannada-MNIST.zip\n",
            "  inflating: train/Dig-MNIST.csv     \n",
            "  inflating: train/sample_submission.csv  \n",
            "  inflating: train/test.csv          \n",
            "  inflating: train/train.csv         \n"
          ]
        }
      ]
    },
    {
      "cell_type": "code",
      "source": [
        "import pandas as pd"
      ],
      "metadata": {
        "id": "zAhzXEY2llbc"
      },
      "execution_count": 11,
      "outputs": []
    },
    {
      "cell_type": "code",
      "source": [
        "\n",
        "class K(Dataset):\n",
        "    def __init__(self, df, transform=None, target_transform=None):\n",
        "        self.img_labels = df.iloc[:,0]\n",
        "        # self.img_dir = img_dir\n",
        "        self.transform = transform\n",
        "        self.target_transform = target_transform\n",
        "        self.df = df\n",
        "\n",
        "    def __len__(self):\n",
        "        return len(self.img_labels)\n",
        "\n",
        "    def __getitem__(self, idx):\n",
        "        #img_path = os.path.join( self.img_labels.iloc[idx, 0])\n",
        "        image = (self.df.iloc[idx,1:].values)\n",
        "        image = torch.tensor(image)\n",
        "        image = torch.reshape(image,(1,28,28))\n",
        "        label = self.img_labels.iloc[idx]\n",
        "        if self.transform:\n",
        "            image = self.transform(image)\n",
        "\n",
        "        if self.target_transform:\n",
        "            label = self.target_transform(label)\n",
        "        return image, label"
      ],
      "metadata": {
        "id": "0AZ6qTEVz__o"
      },
      "execution_count": 26,
      "outputs": []
    },
    {
      "cell_type": "code",
      "source": [
        "train_data = pd.read_csv('/content/train/train.csv')"
      ],
      "metadata": {
        "id": "tXn2nkmFtfVz"
      },
      "execution_count": 27,
      "outputs": []
    },
    {
      "cell_type": "code",
      "source": [
        "train_data = K(train_data)"
      ],
      "metadata": {
        "id": "zjIGmxuepUKr"
      },
      "execution_count": 28,
      "outputs": []
    },
    {
      "cell_type": "code",
      "source": [
        "from torch.utils.data import random_split"
      ],
      "metadata": {
        "id": "RbbwbMJZwTMQ"
      },
      "execution_count": 29,
      "outputs": []
    },
    {
      "cell_type": "code",
      "source": [
        "train_size = int(0.9 * (len(train_data)))"
      ],
      "metadata": {
        "id": "mib8bd1Zv9U5"
      },
      "execution_count": 30,
      "outputs": []
    },
    {
      "cell_type": "code",
      "source": [
        "val_size = len(train_data) - train_size"
      ],
      "metadata": {
        "id": "VuN4iQOVwP3A"
      },
      "execution_count": 31,
      "outputs": []
    },
    {
      "cell_type": "code",
      "source": [
        "train_set , val_set = random_split(train_data, [train_size, val_size])"
      ],
      "metadata": {
        "id": "m0K2_9TKwRcw"
      },
      "execution_count": 32,
      "outputs": []
    },
    {
      "cell_type": "code",
      "source": [
        "test_data = pd.read_csv('/content/train/train.csv')"
      ],
      "metadata": {
        "id": "XwNirwSRwn_M"
      },
      "execution_count": 35,
      "outputs": []
    },
    {
      "cell_type": "code",
      "source": [
        "test_data = K(test_data)"
      ],
      "metadata": {
        "id": "1F4CdOiqw6KJ"
      },
      "execution_count": 36,
      "outputs": []
    },
    {
      "cell_type": "code",
      "source": [
        "from torch.utils.data import DataLoader"
      ],
      "metadata": {
        "id": "0saYfTSqxEUR"
      },
      "execution_count": 37,
      "outputs": []
    },
    {
      "cell_type": "code",
      "source": [
        "train_dataloader = DataLoader(train_set,batch_size = 64,shuffle = True)\n",
        "val_dataloader = DataLoader(val_set,batch_size = 64,shuffle = True)\n",
        "test_dataloader = DataLoader(test_data,batch_size = 64,shuffle = True)"
      ],
      "metadata": {
        "id": "Mb0nbRazwlwE"
      },
      "execution_count": 38,
      "outputs": []
    },
    {
      "cell_type": "code",
      "source": [
        "train_features,train_labels = next(iter(train_dataloader))"
      ],
      "metadata": {
        "id": "gyUG7RrtxUsB"
      },
      "execution_count": 39,
      "outputs": []
    },
    {
      "cell_type": "code",
      "source": [
        "print(f\"Feature batch shape: {train_features.size()}\")\n",
        "print(f\"Labels batch shape: {train_labels.size()}\")\n",
        "img = train_features[0].squeeze()\n",
        "label = train_labels[0]\n",
        "plt.imshow(img, cmap=\"gray\")\n",
        "plt.show()\n",
        "print(f\"Label: {label}\")"
      ],
      "metadata": {
        "id": "FrVlMt5qxO1x",
        "colab": {
          "base_uri": "https://localhost:8080/",
          "height": 482
        },
        "outputId": "f8476c39-c33c-468c-e5c6-d5527d99b63c"
      },
      "execution_count": 41,
      "outputs": [
        {
          "output_type": "stream",
          "name": "stdout",
          "text": [
            "Feature batch shape: torch.Size([64, 1, 28, 28])\n",
            "Labels batch shape: torch.Size([64])\n"
          ]
        },
        {
          "output_type": "display_data",
          "data": {
            "text/plain": [
              "<Figure size 640x480 with 1 Axes>"
            ],
            "image/png": "[encoded data removed]"
          },
          "metadata": {}
        },
        {
          "output_type": "stream",
          "name": "stdout",
          "text": [
            "Label: 5\n"
          ]
        }
      ]
    },
    {
      "cell_type": "code",
      "source": [
        "from torch import nn"
      ],
      "metadata": {
        "id": "y-JZsgz8zD_Q"
      },
      "execution_count": 42,
      "outputs": []
    },
    {
      "cell_type": "code",
      "source": [
        "device = (\n",
        "    \"cuda\"\n",
        "    if torch.cuda.is_available()\n",
        "    else \"cpu\"\n",
        ")\n",
        "print(f\"Using {device} device\")"
      ],
      "metadata": {
        "id": "pD9xgvx28lsg",
        "colab": {
          "base_uri": "https://localhost:8080/"
        },
        "outputId": "96dd54b7-07f7-412f-bec4-74ba0ccbeb45"
      },
      "execution_count": 43,
      "outputs": [
        {
          "output_type": "stream",
          "name": "stdout",
          "text": [
            "Using cuda device\n"
          ]
        }
      ]
    },
    {
      "cell_type": "code",
      "source": [
        "import torch.nn.functional as F"
      ],
      "metadata": {
        "id": "Uv-wdfJt-AK9"
      },
      "execution_count": 44,
      "outputs": []
    },
    {
      "cell_type": "code",
      "source": [
        "class net(nn.Module):\n",
        "    def __init__(self):\n",
        "        super().__init__()\n",
        "        self.conv1 = nn.Sequential(\n",
        "        nn.Conv2d(1, 32, 5, padding='same'),\n",
        "        nn.ReLU(),\n",
        "        nn.MaxPool2d(2)\n",
        "        )\n",
        "        self.conv2 = nn.Sequential(\n",
        "        nn.Conv2d(32, 64, 5, padding='same'),\n",
        "        nn.ReLU(),\n",
        "        nn.MaxPool2d(2)\n",
        "        )\n",
        "        self.fc1 = nn.Sequential(\n",
        "        nn.Flatten(),\n",
        "        nn.Linear(7*7*64, 1024),\n",
        "        nn.Dropout(0.5),\n",
        "        nn.Linear(1024, 10)\n",
        "        )\n",
        "\n",
        "    def forward(self, x):\n",
        "        x = self.conv1(x.float())\n",
        "        x = self.conv2(x)\n",
        "        return F.softmax(self.fc1(x),dim=1)\n",
        "\n"
      ],
      "metadata": {
        "id": "uyAIjM26-DU8"
      },
      "execution_count": 45,
      "outputs": []
    },
    {
      "cell_type": "code",
      "source": [
        "model = net()# loading THe Model"
      ],
      "metadata": {
        "id": "KDQsV4zn-M8U"
      },
      "execution_count": 46,
      "outputs": []
    },
    {
      "cell_type": "code",
      "source": [
        "model.cuda()"
      ],
      "metadata": {
        "id": "M8A48CUy-PPU",
        "colab": {
          "base_uri": "https://localhost:8080/"
        },
        "outputId": "bcbaee8c-dfaa-4464-d31c-c9eaeb1a2b79"
      },
      "execution_count": 47,
      "outputs": [
        {
          "output_type": "execute_result",
          "data": {
            "text/plain": [
              "net(\n",
              "  (conv1): Sequential(\n",
              "    (0): Conv2d(1, 32, kernel_size=(5, 5), stride=(1, 1), padding=same)\n",
              "    (1): ReLU()\n",
              "    (2): MaxPool2d(kernel_size=2, stride=2, padding=0, dilation=1, ceil_mode=False)\n",
              "  )\n",
              "  (conv2): Sequential(\n",
              "    (0): Conv2d(32, 64, kernel_size=(5, 5), stride=(1, 1), padding=same)\n",
              "    (1): ReLU()\n",
              "    (2): MaxPool2d(kernel_size=2, stride=2, padding=0, dilation=1, ceil_mode=False)\n",
              "  )\n",
              "  (fc1): Sequential(\n",
              "    (0): Flatten(start_dim=1, end_dim=-1)\n",
              "    (1): Linear(in_features=3136, out_features=1024, bias=True)\n",
              "    (2): Dropout(p=0.5, inplace=False)\n",
              "    (3): Linear(in_features=1024, out_features=10, bias=True)\n",
              "  )\n",
              ")"
            ]
          },
          "metadata": {},
          "execution_count": 47
        }
      ]
    },
    {
      "cell_type": "code",
      "source": [
        "device = torch.device(\"cuda:0\")\n",
        "model.to(device)"
      ],
      "metadata": {
        "id": "dgK8GDoT-Rt-",
        "colab": {
          "base_uri": "https://localhost:8080/"
        },
        "outputId": "de860d98-a431-4c57-faa9-2f53425bd89a"
      },
      "execution_count": 48,
      "outputs": [
        {
          "output_type": "execute_result",
          "data": {
            "text/plain": [
              "net(\n",
              "  (conv1): Sequential(\n",
              "    (0): Conv2d(1, 32, kernel_size=(5, 5), stride=(1, 1), padding=same)\n",
              "    (1): ReLU()\n",
              "    (2): MaxPool2d(kernel_size=2, stride=2, padding=0, dilation=1, ceil_mode=False)\n",
              "  )\n",
              "  (conv2): Sequential(\n",
              "    (0): Conv2d(32, 64, kernel_size=(5, 5), stride=(1, 1), padding=same)\n",
              "    (1): ReLU()\n",
              "    (2): MaxPool2d(kernel_size=2, stride=2, padding=0, dilation=1, ceil_mode=False)\n",
              "  )\n",
              "  (fc1): Sequential(\n",
              "    (0): Flatten(start_dim=1, end_dim=-1)\n",
              "    (1): Linear(in_features=3136, out_features=1024, bias=True)\n",
              "    (2): Dropout(p=0.5, inplace=False)\n",
              "    (3): Linear(in_features=1024, out_features=10, bias=True)\n",
              "  )\n",
              ")"
            ]
          },
          "metadata": {},
          "execution_count": 48
        }
      ]
    },
    {
      "cell_type": "code",
      "source": [
        "criterion = nn.CrossEntropyLoss()\n",
        "optimizer = torch.optim.Adam(model.parameters(), lr = 1e-4)"
      ],
      "metadata": {
        "id": "USEgo9RR_ZrF"
      },
      "execution_count": 49,
      "outputs": []
    },
    {
      "cell_type": "code",
      "source": [
        "epochs = 10"
      ],
      "metadata": {
        "id": "m5CPz8Twg_5j"
      },
      "execution_count": 50,
      "outputs": []
    },
    {
      "cell_type": "code",
      "source": [
        "train_losses = []\n",
        "val_losses = []\n",
        "train_accuracies = []\n",
        "val_accuracies = []"
      ],
      "metadata": {
        "id": "i538zFcThBjb"
      },
      "execution_count": 51,
      "outputs": []
    },
    {
      "cell_type": "code",
      "source": [
        "for e in range(epochs):\n",
        "    train_loss = 0.0\n",
        "    val_loss = 0.0\n",
        "    train_correct = 0\n",
        "    train_total = 0\n",
        "    val_correct = 0\n",
        "    val_total = 0\n",
        "    model.train()\n",
        "\n",
        "    # Training loop\n",
        "    for images, labels in train_dataloader:\n",
        "        images, labels = images.to(device), labels.to(device)\n",
        "        optimizer.zero_grad()\n",
        "        outputs = model(images)\n",
        "        loss = criterion(outputs, labels)\n",
        "        loss.backward()\n",
        "        optimizer.step()\n",
        "        train_loss += loss.item()\n",
        "        _, predicted = torch.max(outputs, 1)\n",
        "        train_total += labels.size(0)\n",
        "        train_correct += (predicted == labels).sum().item()\n",
        "\n",
        "    # Validation loop\n",
        "    model.eval()\n",
        "    with torch.no_grad():\n",
        "        for val_images, val_labels in val_dataloader:\n",
        "            val_images, val_labels = val_images.to(device), val_labels.to(device)\n",
        "            val_outputs = model(val_images)\n",
        "            val_loss += criterion(val_outputs, val_labels).item()\n",
        "            _, val_predicted = torch.max(val_outputs, 1)\n",
        "            val_total += val_labels.size(0)\n",
        "            val_correct += (val_predicted == val_labels).sum().item()\n",
        "\n",
        "    # Calculate average losses for this epoch\n",
        "    average_train_loss = train_loss / len(train_dataloader)\n",
        "    average_val_loss = val_loss / len(val_dataloader)\n",
        "    train_accuracy = train_correct / train_total * 100\n",
        "    val_accuracy = val_correct / val_total * 100\n",
        "    average_train_accuracy = train_accuracy / len(train_dataloader)\n",
        "    average_val_accuracy = val_accuracy / len(val_dataloader)\n",
        "\n",
        "    train_losses.append(average_train_loss)\n",
        "    val_losses.append(average_val_loss)\n",
        "    train_accuracies.append(train_accuracy)\n",
        "    val_accuracies.append(val_accuracy)\n",
        "\n",
        "    print(f'Epoch [{e+1}/{epochs}],Train Accuracy: {average_train_accuracy:.4f}, Val Accuracy: {average_val_accuracy:.4f}, Train Loss: {average_train_loss:.4f}, Val Loss: {average_val_loss:.4f}')\n",
        "\n",
        "print(\"Training finished\")"
      ],
      "metadata": {
        "id": "SPMSOiBXhDSl",
        "colab": {
          "base_uri": "https://localhost:8080/"
        },
        "outputId": "d376438c-4028-493c-e362-417bc4d5b029"
      },
      "execution_count": 52,
      "outputs": [
        {
          "output_type": "stream",
          "name": "stdout",
          "text": [
            "Epoch [1/10],Train Accuracy: 0.0320, Val Accuracy: 0.5213, Train Loss: 2.1905, Val Loss: 1.9709\n",
            "Epoch [2/10],Train Accuracy: 0.0607, Val Accuracy: 0.6262, Train Loss: 1.9481, Val Loss: 1.8717\n",
            "Epoch [3/10],Train Accuracy: 0.0718, Val Accuracy: 0.7259, Train Loss: 1.8548, Val Loss: 1.7778\n",
            "Epoch [4/10],Train Accuracy: 0.0818, Val Accuracy: 0.7324, Train Loss: 1.7703, Val Loss: 1.7716\n",
            "Epoch [5/10],Train Accuracy: 0.0821, Val Accuracy: 0.7321, Train Loss: 1.7674, Val Loss: 1.7727\n",
            "Epoch [6/10],Train Accuracy: 0.0822, Val Accuracy: 0.7337, Train Loss: 1.7669, Val Loss: 1.7711\n",
            "Epoch [7/10],Train Accuracy: 0.0831, Val Accuracy: 0.8310, Train Loss: 1.7598, Val Loss: 1.6796\n",
            "Epoch [8/10],Train Accuracy: 0.0936, Val Accuracy: 0.8429, Train Loss: 1.6710, Val Loss: 1.6683\n",
            "Epoch [9/10],Train Accuracy: 0.0939, Val Accuracy: 0.8348, Train Loss: 1.6688, Val Loss: 1.6763\n",
            "Epoch [10/10],Train Accuracy: 0.0940, Val Accuracy: 0.8431, Train Loss: 1.6678, Val Loss: 1.6683\n",
            "Training finished\n"
          ]
        }
      ]
    },
    {
      "cell_type": "code",
      "source": [
        "# Plotting the loss and accuracy curves\n",
        "fig, (ax1, ax2) = plt.subplots(2, 1, figsize=(10, 8))\n",
        "\n",
        "ax1.plot(range(1, epochs+1), train_losses, label='Train Loss')\n",
        "ax1.plot(range(1, epochs+1), val_losses, label='Validation Loss', linestyle='dashed')\n",
        "ax1.set_xlabel('Epoch')\n",
        "ax1.set_ylabel('Loss')\n",
        "ax1.legend()\n",
        "\n",
        "ax2.plot(range(1, epochs+1), train_accuracies, label='Train Accuracy')\n",
        "ax2.plot(range(1, epochs+1), val_accuracies, label='Validation Accuracy', linestyle='dashed')\n",
        "ax2.set_xlabel('Epoch')\n",
        "ax2.set_ylabel('Accuracy (%)')\n",
        "ax2.legend()\n",
        "\n",
        "plt.tight_layout()\n",
        "plt.show()"
      ],
      "metadata": {
        "id": "9QkK08ZSrkKk",
        "colab": {
          "base_uri": "https://localhost:8080/",
          "height": 807
        },
        "outputId": "2a7181ce-f96c-4c09-a656-df899aaeaeea"
      },
      "execution_count": 53,
      "outputs": [
        {
          "output_type": "display_data",
          "data": {
            "text/plain": [
              "<Figure size 1000x800 with 2 Axes>"
            ],
            "image/png": "[encoded data removed]"
          },
          "metadata": {}
        }
      ]
    },
    {
      "cell_type": "code",
      "source": [
        "\n",
        "model.eval()  # Set the model to evaluation mode\n",
        "test_loss = 0.0\n",
        "test_correct = 0\n",
        "test_total = 0\n",
        "\n",
        "with torch.no_grad():\n",
        "    for test_images, test_labels in test_dataloader:\n",
        "        test_images, test_labels = test_images.to(device), test_labels.to(device)\n",
        "        test_outputs = model(test_images)\n",
        "        test_loss += criterion(test_outputs, test_labels).item()\n",
        "        _, test_predicted = torch.max(test_outputs, 1)\n",
        "        test_total += test_labels.size(0)\n",
        "        test_correct += (test_predicted == test_labels).sum().item()\n",
        "\n",
        "average_test_loss = test_loss / len(test_dataloader)\n",
        "test_accuracy = test_correct / test_total * 100\n",
        "\n",
        "print(f'Test Loss: {average_test_loss:.4f}, Test Accuracy: {test_accuracy:.2f}%')\n"
      ],
      "metadata": {
        "id": "jEbvIvvmhSK8",
        "colab": {
          "base_uri": "https://localhost:8080/"
        },
        "outputId": "eab7245e-e377-4cc8-874f-5bc70ae30f46"
      },
      "execution_count": 54,
      "outputs": [
        {
          "output_type": "stream",
          "name": "stdout",
          "text": [
            "Test Loss: 1.6668, Test Accuracy: 79.41%\n"
          ]
        }
      ]
    },
    {
      "cell_type": "code",
      "source": [
        "class net(nn.Module):\n",
        "    def __init__(self):\n",
        "        super().__init__()\n",
        "        self.conv1 = nn.Sequential(\n",
        "        nn.Conv2d(1, 32, 5, padding='same'),\n",
        "        nn.BatchNorm2d(32),#added batch Norm\n",
        "        nn.ReLU(),\n",
        "        nn.MaxPool2d(2)\n",
        "        )\n",
        "        self.conv2 = nn.Sequential(\n",
        "        nn.Conv2d(32, 64, 5, padding='same'),\n",
        "        nn.BatchNorm2d(64),#added batch Norm\n",
        "        nn.ReLU(),\n",
        "        nn.MaxPool2d(2)\n",
        "        )\n",
        "        self.fc1 = nn.Sequential(\n",
        "        nn.Flatten(),\n",
        "        nn.Linear(7*7*64, 1024),\n",
        "        nn.Dropout(0.5),\n",
        "        nn.Linear(1024, 10)\n",
        "        )\n",
        "\n",
        "    def forward(self, x):\n",
        "        x = self.conv1(x.float())\n",
        "        x = self.conv2(x)\n",
        "        return F.softmax(self.fc1(x),dim=1)\n",
        "\n"
      ],
      "metadata": {
        "id": "tzCiLnjBKk0G"
      },
      "execution_count": 55,
      "outputs": []
    },
    {
      "cell_type": "code",
      "source": [
        "model = net()# loading THe Model"
      ],
      "metadata": {
        "id": "4J2z1TjwKk0H"
      },
      "execution_count": 56,
      "outputs": []
    },
    {
      "cell_type": "code",
      "source": [
        "model.cuda()"
      ],
      "metadata": {
        "colab": {
          "base_uri": "https://localhost:8080/"
        },
        "outputId": "294d6abc-427f-433a-d888-2a15a86ca4ce",
        "id": "-bingPirKk0I"
      },
      "execution_count": 57,
      "outputs": [
        {
          "output_type": "execute_result",
          "data": {
            "text/plain": [
              "net(\n",
              "  (conv1): Sequential(\n",
              "    (0): Conv2d(1, 32, kernel_size=(5, 5), stride=(1, 1), padding=same)\n",
              "    (1): BatchNorm2d(32, eps=1e-05, momentum=0.1, affine=True, track_running_stats=True)\n",
              "    (2): ReLU()\n",
              "    (3): MaxPool2d(kernel_size=2, stride=2, padding=0, dilation=1, ceil_mode=False)\n",
              "  )\n",
              "  (conv2): Sequential(\n",
              "    (0): Conv2d(32, 64, kernel_size=(5, 5), stride=(1, 1), padding=same)\n",
              "    (1): BatchNorm2d(64, eps=1e-05, momentum=0.1, affine=True, track_running_stats=True)\n",
              "    (2): ReLU()\n",
              "    (3): MaxPool2d(kernel_size=2, stride=2, padding=0, dilation=1, ceil_mode=False)\n",
              "  )\n",
              "  (fc1): Sequential(\n",
              "    (0): Flatten(start_dim=1, end_dim=-1)\n",
              "    (1): Linear(in_features=3136, out_features=1024, bias=True)\n",
              "    (2): Dropout(p=0.5, inplace=False)\n",
              "    (3): Linear(in_features=1024, out_features=10, bias=True)\n",
              "  )\n",
              ")"
            ]
          },
          "metadata": {},
          "execution_count": 57
        }
      ]
    },
    {
      "cell_type": "code",
      "source": [
        "device = torch.device(\"cuda:0\")\n",
        "model.to(device)"
      ],
      "metadata": {
        "colab": {
          "base_uri": "https://localhost:8080/"
        },
        "outputId": "7557be00-2dd8-4760-e12b-78a0dd7f4c48",
        "id": "j7gKQdmeKk0J"
      },
      "execution_count": 58,
      "outputs": [
        {
          "output_type": "execute_result",
          "data": {
            "text/plain": [
              "net(\n",
              "  (conv1): Sequential(\n",
              "    (0): Conv2d(1, 32, kernel_size=(5, 5), stride=(1, 1), padding=same)\n",
              "    (1): BatchNorm2d(32, eps=1e-05, momentum=0.1, affine=True, track_running_stats=True)\n",
              "    (2): ReLU()\n",
              "    (3): MaxPool2d(kernel_size=2, stride=2, padding=0, dilation=1, ceil_mode=False)\n",
              "  )\n",
              "  (conv2): Sequential(\n",
              "    (0): Conv2d(32, 64, kernel_size=(5, 5), stride=(1, 1), padding=same)\n",
              "    (1): BatchNorm2d(64, eps=1e-05, momentum=0.1, affine=True, track_running_stats=True)\n",
              "    (2): ReLU()\n",
              "    (3): MaxPool2d(kernel_size=2, stride=2, padding=0, dilation=1, ceil_mode=False)\n",
              "  )\n",
              "  (fc1): Sequential(\n",
              "    (0): Flatten(start_dim=1, end_dim=-1)\n",
              "    (1): Linear(in_features=3136, out_features=1024, bias=True)\n",
              "    (2): Dropout(p=0.5, inplace=False)\n",
              "    (3): Linear(in_features=1024, out_features=10, bias=True)\n",
              "  )\n",
              ")"
            ]
          },
          "metadata": {},
          "execution_count": 58
        }
      ]
    },
    {
      "cell_type": "code",
      "source": [
        "criterion = nn.CrossEntropyLoss()\n",
        "optimizer = torch.optim.Adam(model.parameters(), lr = 1e-4)"
      ],
      "metadata": {
        "id": "TV7rmSanKk0J"
      },
      "execution_count": 59,
      "outputs": []
    },
    {
      "cell_type": "code",
      "source": [
        "epochs = 10"
      ],
      "metadata": {
        "id": "xSQL5DUeKk0J"
      },
      "execution_count": 60,
      "outputs": []
    },
    {
      "cell_type": "code",
      "source": [
        "train_losses = []\n",
        "val_losses = []\n",
        "train_accuracies = []\n",
        "val_accuracies = []"
      ],
      "metadata": {
        "id": "mfpk8q4hKk0K"
      },
      "execution_count": 61,
      "outputs": []
    },
    {
      "cell_type": "code",
      "source": [
        "for e in range(epochs):\n",
        "    train_loss = 0.0\n",
        "    val_loss = 0.0\n",
        "    train_correct = 0\n",
        "    train_total = 0\n",
        "    val_correct = 0\n",
        "    val_total = 0\n",
        "    model.train()  # Set the model to training mode\n",
        "\n",
        "    # Training loop\n",
        "    for images, labels in train_dataloader:\n",
        "        images, labels = images.to(device), labels.to(device)\n",
        "        optimizer.zero_grad()\n",
        "        outputs = model(images)\n",
        "        loss = criterion(outputs, labels)\n",
        "        loss.backward()\n",
        "        optimizer.step()\n",
        "        train_loss += loss.item()\n",
        "        _, predicted = torch.max(outputs, 1)\n",
        "        train_total += labels.size(0)\n",
        "        train_correct += (predicted == labels).sum().item()\n",
        "\n",
        "    # Validation loop\n",
        "    model.eval()  # Set the model to evaluation mode\n",
        "    with torch.no_grad():\n",
        "        for val_images, val_labels in val_dataloader:\n",
        "            val_images, val_labels = val_images.to(device), val_labels.to(device)\n",
        "            val_outputs = model(val_images)\n",
        "            val_loss += criterion(val_outputs, val_labels).item()\n",
        "            _, val_predicted = torch.max(val_outputs, 1)\n",
        "            val_total += val_labels.size(0)\n",
        "            val_correct += (val_predicted == val_labels).sum().item()\n",
        "\n",
        "    # Calculate average losses for this epoch\n",
        "    average_train_loss = train_loss / len(train_dataloader)\n",
        "    average_val_loss = val_loss / len(val_dataloader)\n",
        "    train_accuracy = train_correct / train_total * 100\n",
        "    val_accuracy = val_correct / val_total * 100\n",
        "    average_train_accuracy = train_accuracy / len(train_dataloader)\n",
        "    average_val_accuracy = val_accuracy / len(val_dataloader)\n",
        "\n",
        "    train_losses.append(average_train_loss)\n",
        "    val_losses.append(average_val_loss)\n",
        "    train_accuracies.append(train_accuracy)\n",
        "    val_accuracies.append(val_accuracy)\n",
        "\n",
        "    print(f'Epoch [{e+1}/{epochs}],Train Accuracy: {average_train_accuracy:.4f}, Val Accuracy: {average_val_accuracy:.4f}, Train Loss: {average_train_loss:.4f}, Val Loss: {average_val_loss:.4f}')\n",
        "\n",
        "print(\"Training finished\")"
      ],
      "metadata": {
        "colab": {
          "base_uri": "https://localhost:8080/"
        },
        "outputId": "73f3a1d5-2b1c-46ca-eaad-82405265cf21",
        "id": "0Tu_8g03Kk0K"
      },
      "execution_count": 62,
      "outputs": [
        {
          "output_type": "stream",
          "name": "stdout",
          "text": [
            "Epoch [1/10],Train Accuracy: 0.1126, Val Accuracy: 1.0482, Train Loss: 1.5197, Val Loss: 1.4777\n",
            "Epoch [2/10],Train Accuracy: 0.1169, Val Accuracy: 1.0504, Train Loss: 1.4764, Val Loss: 1.4740\n",
            "Epoch [3/10],Train Accuracy: 0.1173, Val Accuracy: 1.0532, Train Loss: 1.4727, Val Loss: 1.4724\n",
            "Epoch [4/10],Train Accuracy: 0.1173, Val Accuracy: 1.0520, Train Loss: 1.4715, Val Loss: 1.4729\n",
            "Epoch [5/10],Train Accuracy: 0.1175, Val Accuracy: 1.0559, Train Loss: 1.4701, Val Loss: 1.4689\n",
            "Epoch [6/10],Train Accuracy: 0.1175, Val Accuracy: 1.0553, Train Loss: 1.4694, Val Loss: 1.4697\n",
            "Epoch [7/10],Train Accuracy: 0.1176, Val Accuracy: 1.0530, Train Loss: 1.4689, Val Loss: 1.4716\n",
            "Epoch [8/10],Train Accuracy: 0.1176, Val Accuracy: 1.0551, Train Loss: 1.4688, Val Loss: 1.4701\n",
            "Epoch [9/10],Train Accuracy: 0.1176, Val Accuracy: 1.0553, Train Loss: 1.4686, Val Loss: 1.4693\n",
            "Epoch [10/10],Train Accuracy: 0.1177, Val Accuracy: 1.0535, Train Loss: 1.4678, Val Loss: 1.4712\n",
            "Training finished\n"
          ]
        }
      ]
    },
    {
      "cell_type": "code",
      "source": [
        "# Plotting the loss and accuracy curves\n",
        "fig, (ax1, ax2) = plt.subplots(2, 1, figsize=(10, 8))\n",
        "\n",
        "ax1.plot(range(1, epochs+1), train_losses, label='Train Loss')\n",
        "ax1.plot(range(1, epochs+1), val_losses, label='Validation Loss', linestyle='dashed')\n",
        "ax1.set_xlabel('Epoch')\n",
        "ax1.set_ylabel('Loss')\n",
        "ax1.legend()\n",
        "\n",
        "ax2.plot(range(1, epochs+1), train_accuracies, label='Train Accuracy')\n",
        "ax2.plot(range(1, epochs+1), val_accuracies, label='Validation Accuracy', linestyle='dashed')\n",
        "ax2.set_xlabel('Epoch')\n",
        "ax2.set_ylabel('Accuracy (%)')\n",
        "ax2.legend()\n",
        "\n",
        "plt.tight_layout()\n",
        "plt.show()"
      ],
      "metadata": {
        "colab": {
          "base_uri": "https://localhost:8080/",
          "height": 807
        },
        "outputId": "9dc3e1ea-12b7-42a5-91d7-777624802e8a",
        "id": "aoXAD_LgKk0K"
      },
      "execution_count": 63,
      "outputs": [
        {
          "output_type": "display_data",
          "data": {
            "text/plain": [
              "<Figure size 1000x800 with 2 Axes>"
            ],
            "image/png": "[encoded data removed]"
          },
          "metadata": {}
        }
      ]
    },
    {
      "cell_type": "code",
      "source": [
        "model.eval()  # Set the model to evaluation mode\n",
        "test_loss = 0.0\n",
        "test_correct = 0\n",
        "test_total = 0\n",
        "\n",
        "with torch.no_grad():\n",
        "    for test_images, test_labels in test_dataloader:  # Assuming you have a DataLoader named 'test_loader'\n",
        "        test_images, test_labels = test_images.to(device), test_labels.to(device)\n",
        "        test_outputs = model(test_images)\n",
        "        test_loss += criterion(test_outputs, test_labels).item()\n",
        "        _, test_predicted = torch.max(test_outputs, 1)\n",
        "        test_total += test_labels.size(0)\n",
        "        test_correct += (test_predicted == test_labels).sum().item()\n",
        "\n",
        "average_test_loss = test_loss / len(test_dataloader)\n",
        "test_accuracy = test_correct / test_total * 100\n",
        "\n",
        "print(f'Test Loss: {average_test_loss:.4f}, Test Accuracy: {test_accuracy:.2f}%')\n"
      ],
      "metadata": {
        "colab": {
          "base_uri": "https://localhost:8080/"
        },
        "outputId": "d2f0c179-a41a-412f-d90c-4f7c1a443ce4",
        "id": "jy6V66hNKk0K"
      },
      "execution_count": 64,
      "outputs": [
        {
          "output_type": "stream",
          "name": "stdout",
          "text": [
            "Test Loss: 1.4690, Test Accuracy: 99.22%\n"
          ]
        }
      ]
    }
  ]
}
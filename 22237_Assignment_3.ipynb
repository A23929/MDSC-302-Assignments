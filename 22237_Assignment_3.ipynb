{
  "nbformat": 4,
  "nbformat_minor": 0,
  "metadata": {
    "colab": {
      "provenance": [],
      "gpuType": "T4",
      "authorship_tag": "ABX9TyMpYmjBgUe6YIfNnByy+mFn",
      "include_colab_link": true
    },
    "kernelspec": {
      "name": "python3",
      "display_name": "Python 3"
    },
    "language_info": {
      "name": "python"
    },
    "accelerator": "GPU"
  },
  "cells": [
    {
      "cell_type": "markdown",
      "metadata": {
        "id": "view-in-github",
        "colab_type": "text"
      },
      "source": [
        "<a href=\"https://colab.research.google.com/github/A23929/MDSC-302-Assignments/blob/main/22237_Assignment_3.ipynb\" target=\"_parent\"><img src=\"https://colab.research.google.com/assets/colab-badge.svg\" alt=\"Open In Colab\"/></a>"
      ]
    },
    {
      "cell_type": "code",
      "source": [
        "from google.colab import files\n",
        "import pandas as pd\n",
        "import torch\n",
        "from torch.utils.data import Dataset,random_split\n",
        "from torchvision import datasets\n",
        "from torchvision.transforms import ToTensor\n",
        "import matplotlib.pyplot as plt\n",
        "import os"
      ],
      "metadata": {
        "id": "8LSV_GFehPPT"
      },
      "execution_count": null,
      "outputs": []
    },
    {
      "cell_type": "code",
      "source": [
        "files.upload()"
      ],
      "metadata": {
        "colab": {
          "base_uri": "https://localhost:8080/",
          "height": 90
        },
        "id": "3uC-McdehVzE",
        "outputId": "7abc3608-6697-4e59-9719-88f8fcbf5aed"
      },
      "execution_count": null,
      "outputs": [
        {
          "output_type": "display_data",
          "data": {
            "text/plain": [
              "<IPython.core.display.HTML object>"
            ],
            "text/html": [
              "\n",
              "     <input type=\"file\" id=\"files-112f50c4-ad96-4844-9ff2-8ec517450bb7\" name=\"files[]\" multiple disabled\n",
              "        style=\"border:none\" />\n",
              "     <output id=\"result-112f50c4-ad96-4844-9ff2-8ec517450bb7\">\n",
              "      Upload widget is only available when the cell has been executed in the\n",
              "      current browser session. Please rerun this cell to enable.\n",
              "      </output>\n",
              "      <script>// Copyright 2017 Google LLC\n",
              "//\n",
              "// Licensed under the Apache License, Version 2.0 (the \"License\");\n",
              "// you may not use this file except in compliance with the License.\n",
              "// You may obtain a copy of the License at\n",
              "//\n",
              "//      http://www.apache.org/licenses/LICENSE-2.0\n",
              "//\n",
              "// Unless required by applicable law or agreed to in writing, software\n",
              "// distributed under the License is distributed on an \"AS IS\" BASIS,\n",
              "// WITHOUT WARRANTIES OR CONDITIONS OF ANY KIND, either express or implied.\n",
              "// See the License for the specific language governing permissions and\n",
              "// limitations under the License.\n",
              "\n",
              "/**\n",
              " * @fileoverview Helpers for google.colab Python module.\n",
              " */\n",
              "(function(scope) {\n",
              "function span(text, styleAttributes = {}) {\n",
              "  const element = document.createElement('span');\n",
              "  element.textContent = text;\n",
              "  for (const key of Object.keys(styleAttributes)) {\n",
              "    element.style[key] = styleAttributes[key];\n",
              "  }\n",
              "  return element;\n",
              "}\n",
              "\n",
              "// Max number of bytes which will be uploaded at a time.\n",
              "const MAX_PAYLOAD_SIZE = 100 * 1024;\n",
              "\n",
              "function _uploadFiles(inputId, outputId) {\n",
              "  const steps = uploadFilesStep(inputId, outputId);\n",
              "  const outputElement = document.getElementById(outputId);\n",
              "  // Cache steps on the outputElement to make it available for the next call\n",
              "  // to uploadFilesContinue from Python.\n",
              "  outputElement.steps = steps;\n",
              "\n",
              "  return _uploadFilesContinue(outputId);\n",
              "}\n",
              "\n",
              "// This is roughly an async generator (not supported in the browser yet),\n",
              "// where there are multiple asynchronous steps and the Python side is going\n",
              "// to poll for completion of each step.\n",
              "// This uses a Promise to block the python side on completion of each step,\n",
              "// then passes the result of the previous step as the input to the next step.\n",
              "function _uploadFilesContinue(outputId) {\n",
              "  const outputElement = document.getElementById(outputId);\n",
              "  const steps = outputElement.steps;\n",
              "\n",
              "  const next = steps.next(outputElement.lastPromiseValue);\n",
              "  return Promise.resolve(next.value.promise).then((value) => {\n",
              "    // Cache the last promise value to make it available to the next\n",
              "    // step of the generator.\n",
              "    outputElement.lastPromiseValue = value;\n",
              "    return next.value.response;\n",
              "  });\n",
              "}\n",
              "\n",
              "/**\n",
              " * Generator function which is called between each async step of the upload\n",
              " * process.\n",
              " * @param {string} inputId Element ID of the input file picker element.\n",
              " * @param {string} outputId Element ID of the output display.\n",
              " * @return {!Iterable<!Object>} Iterable of next steps.\n",
              " */\n",
              "function* uploadFilesStep(inputId, outputId) {\n",
              "  const inputElement = document.getElementById(inputId);\n",
              "  inputElement.disabled = false;\n",
              "\n",
              "  const outputElement = document.getElementById(outputId);\n",
              "  outputElement.innerHTML = '';\n",
              "\n",
              "  const pickedPromise = new Promise((resolve) => {\n",
              "    inputElement.addEventListener('change', (e) => {\n",
              "      resolve(e.target.files);\n",
              "    });\n",
              "  });\n",
              "\n",
              "  const cancel = document.createElement('button');\n",
              "  inputElement.parentElement.appendChild(cancel);\n",
              "  cancel.textContent = 'Cancel upload';\n",
              "  const cancelPromise = new Promise((resolve) => {\n",
              "    cancel.onclick = () => {\n",
              "      resolve(null);\n",
              "    };\n",
              "  });\n",
              "\n",
              "  // Wait for the user to pick the files.\n",
              "  const files = yield {\n",
              "    promise: Promise.race([pickedPromise, cancelPromise]),\n",
              "    response: {\n",
              "      action: 'starting',\n",
              "    }\n",
              "  };\n",
              "\n",
              "  cancel.remove();\n",
              "\n",
              "  // Disable the input element since further picks are not allowed.\n",
              "  inputElement.disabled = true;\n",
              "\n",
              "  if (!files) {\n",
              "    return {\n",
              "      response: {\n",
              "        action: 'complete',\n",
              "      }\n",
              "    };\n",
              "  }\n",
              "\n",
              "  for (const file of files) {\n",
              "    const li = document.createElement('li');\n",
              "    li.append(span(file.name, {fontWeight: 'bold'}));\n",
              "    li.append(span(\n",
              "        `(${file.type || 'n/a'}) - ${file.size} bytes, ` +\n",
              "        `last modified: ${\n",
              "            file.lastModifiedDate ? file.lastModifiedDate.toLocaleDateString() :\n",
              "                                    'n/a'} - `));\n",
              "    const percent = span('0% done');\n",
              "    li.appendChild(percent);\n",
              "\n",
              "    outputElement.appendChild(li);\n",
              "\n",
              "    const fileDataPromise = new Promise((resolve) => {\n",
              "      const reader = new FileReader();\n",
              "      reader.onload = (e) => {\n",
              "        resolve(e.target.result);\n",
              "      };\n",
              "      reader.readAsArrayBuffer(file);\n",
              "    });\n",
              "    // Wait for the data to be ready.\n",
              "    let fileData = yield {\n",
              "      promise: fileDataPromise,\n",
              "      response: {\n",
              "        action: 'continue',\n",
              "      }\n",
              "    };\n",
              "\n",
              "    // Use a chunked sending to avoid message size limits. See b/62115660.\n",
              "    let position = 0;\n",
              "    do {\n",
              "      const length = Math.min(fileData.byteLength - position, MAX_PAYLOAD_SIZE);\n",
              "      const chunk = new Uint8Array(fileData, position, length);\n",
              "      position += length;\n",
              "\n",
              "      const base64 = btoa(String.fromCharCode.apply(null, chunk));\n",
              "      yield {\n",
              "        response: {\n",
              "          action: 'append',\n",
              "          file: file.name,\n",
              "          data: base64,\n",
              "        },\n",
              "      };\n",
              "\n",
              "      let percentDone = fileData.byteLength === 0 ?\n",
              "          100 :\n",
              "          Math.round((position / fileData.byteLength) * 100);\n",
              "      percent.textContent = `${percentDone}% done`;\n",
              "\n",
              "    } while (position < fileData.byteLength);\n",
              "  }\n",
              "\n",
              "  // All done.\n",
              "  yield {\n",
              "    response: {\n",
              "      action: 'complete',\n",
              "    }\n",
              "  };\n",
              "}\n",
              "\n",
              "scope.google = scope.google || {};\n",
              "scope.google.colab = scope.google.colab || {};\n",
              "scope.google.colab._files = {\n",
              "  _uploadFiles,\n",
              "  _uploadFilesContinue,\n",
              "};\n",
              "})(self);\n",
              "</script> "
            ]
          },
          "metadata": {}
        },
        {
          "output_type": "stream",
          "name": "stdout",
          "text": [
            "Saving kaggle.json to kaggle.json\n"
          ]
        },
        {
          "output_type": "execute_result",
          "data": {
            "text/plain": [
              "{'kaggle.json': b'{\"username\":\"aniruddhapadmanaban\",\"key\":\"f9fdfef7b2009572f9a4768f540991fd\"}'}"
            ]
          },
          "metadata": {},
          "execution_count": 2
        }
      ]
    },
    {
      "cell_type": "code",
      "execution_count": null,
      "metadata": {
        "id": "jxy1abXegsxH"
      },
      "outputs": [],
      "source": [
        "! pip install -q kaggle"
      ]
    },
    {
      "cell_type": "code",
      "source": [
        "! mkdir ~/.kaggle\n",
        "! cp kaggle.json ~/.kaggle/"
      ],
      "metadata": {
        "id": "j9xSl-75hZs0"
      },
      "execution_count": null,
      "outputs": []
    },
    {
      "cell_type": "code",
      "source": [
        "! chmod 600 ~/.kaggle/kaggle.json"
      ],
      "metadata": {
        "id": "bmfErI15j_qs"
      },
      "execution_count": null,
      "outputs": []
    },
    {
      "cell_type": "code",
      "source": [
        "! kaggle datasets list"
      ],
      "metadata": {
        "colab": {
          "base_uri": "https://localhost:8080/"
        },
        "id": "FXfYTkSbkEHZ",
        "outputId": "7b850b5d-0b00-47ee-8ff3-a6f97b686bf2"
      },
      "execution_count": null,
      "outputs": [
        {
          "output_type": "stream",
          "name": "stdout",
          "text": [
            "ref                                                        title                                           size  lastUpdated          downloadCount  voteCount  usabilityRating  \n",
            "---------------------------------------------------------  ---------------------------------------------  -----  -------------------  -------------  ---------  ---------------  \n",
            "nelgiriyewithana/top-spotify-songs-2023                    Most Streamed Spotify Songs 2023                47KB  2023-08-26 11:04:57           8889        292  1.0              \n",
            "josephinelsy/spotify-top-hit-playlist-2010-2022            Spotify Top Hit Playlist (2010-2022)           210KB  2023-09-08 06:11:44           1581         47  1.0              \n",
            "nelgiriyewithana/global-youtube-statistics-2023            Global YouTube Statistics 2023                  60KB  2023-07-28 15:36:38          18592        585  1.0              \n",
            "muhammadtalhaawan/world-export-and-import-dataset          World Export & Import Dataset (1989 - 2023)    721KB  2023-09-09 18:59:41            777         23  1.0              \n",
            "joebeachcapital/students-performance                       Students Performance                             2KB  2023-08-31 00:50:11           2872         72  1.0              \n",
            "iamsouravbanerjee/airline-dataset                          Airline Dataset                                  8MB  2023-09-13 06:47:17           3513         82  1.0              \n",
            "mohammadrizwansajjad/top-200-movies-of-2023                 Top 200 Movies of 2023 Dataset                  6KB  2023-08-31 04:40:32            726         21  1.0              \n",
            "berkayeserr/phone-prices                                   Phone Prices                                    27KB  2023-09-06 15:09:29           1210         29  0.88235295       \n",
            "lorentzyeung/all-japanese-anime-titles-in-imdb             Japanese Anime: An In-Depth IMDb Data Set        3MB  2023-09-08 21:41:29            490         24  1.0              \n",
            "joebeachcapital/restaurant-reviews                         Restaurant Reviews                               1MB  2023-09-03 23:56:41           1267         34  1.0              \n",
            "carlmcbrideellis/zzzs-lightweight-training-dataset-target  Zzzs: Lightweight training dataset + target    185MB  2023-09-11 07:21:51            261         40  1.0              \n",
            "mjshri23/life-expectancy-and-socio-economic-world-bank     Life expectancy & Socio-Economic (world bank)  168KB  2023-09-05 07:09:14           1045         32  1.0              \n",
            "nelgiriyewithana/world-stock-prices-daily-updating         World Stock Prices ( Daily Updating )           10MB  2023-09-15 23:16:10            912         34  1.0              \n",
            "farahalarbeed/car-prices-jordan                            Car Prices Jordan 2023                           5KB  2023-09-14 10:17:03            293         22  1.0              \n",
            "akhiljethwa/global-electricity-statistics                  Global Electricity Statistics (1980-2021)      149KB  2023-09-04 07:45:42            706         32  1.0              \n",
            "sazidthe1/global-happiness-scores-and-factors              World Happiness Report Up to 2023               46KB  2023-09-09 03:23:06            633         27  1.0              \n",
            "imtkaggleteam/renewable-energy-1960-2023                   Renewable Energy (1960-2023)                    88KB  2023-09-13 13:29:23            272         34  1.0              \n",
            "ahmedsayed564/amazon-sales-dataset                         Amazon Sales Dataset 📦                           2MB  2023-09-08 10:14:34            590         23  0.7647059        \n",
            "alitaqi000/world-university-rankings-2023                  World University Rankings 2023                  70KB  2023-08-31 14:35:38           2158         51  1.0              \n",
            "aemyjutt/salesdata                                         SalesDataAnalysis                                5MB  2023-09-04 03:29:58           1157         32  0.9411765        \n"
          ]
        }
      ]
    },
    {
      "cell_type": "code",
      "source": [
        "! kaggle competitions download -c Kannada-MNIST"
      ],
      "metadata": {
        "colab": {
          "base_uri": "https://localhost:8080/"
        },
        "id": "hKB62j2tkIWp",
        "outputId": "0ac0cca2-fe65-42eb-8397-4f4297d3c4e5"
      },
      "execution_count": null,
      "outputs": [
        {
          "output_type": "stream",
          "name": "stdout",
          "text": [
            "Downloading Kannada-MNIST.zip to /content\n",
            "\r  0% 0.00/12.4M [00:00<?, ?B/s]\n",
            "\r100% 12.4M/12.4M [00:00<00:00, 132MB/s]\n"
          ]
        }
      ]
    },
    {
      "cell_type": "code",
      "source": [
        "! mkdir Kannada-MNIST"
      ],
      "metadata": {
        "id": "MOi-1KMmlXeB"
      },
      "execution_count": null,
      "outputs": []
    },
    {
      "cell_type": "code",
      "source": [
        "! unzip Kannada-MNIST.zip -d Kannada-MNIST"
      ],
      "metadata": {
        "colab": {
          "base_uri": "https://localhost:8080/"
        },
        "id": "5wo9beqokq0k",
        "outputId": "85caa14c-943f-443e-f5a8-c3f117b7054e"
      },
      "execution_count": null,
      "outputs": [
        {
          "output_type": "stream",
          "name": "stdout",
          "text": [
            "Archive:  Kannada-MNIST.zip\n",
            "  inflating: Kannada-MNIST/Dig-MNIST.csv  \n",
            "  inflating: Kannada-MNIST/sample_submission.csv  \n",
            "  inflating: Kannada-MNIST/test.csv  \n",
            "  inflating: Kannada-MNIST/train.csv  \n"
          ]
        }
      ]
    },
    {
      "cell_type": "code",
      "source": [
        "training_data = pd.read_csv('/content/Kannada-MNIST/train.csv')\n",
        "test_data = pd.read_csv('/content/Kannada-MNIST/test.csv')"
      ],
      "metadata": {
        "id": "USrmKsLMpShD"
      },
      "execution_count": null,
      "outputs": []
    },
    {
      "cell_type": "code",
      "source": [
        "import os\n",
        "import pandas as pd\n",
        "from torchvision.io import read_image\n",
        "\n",
        "class K(Dataset):\n",
        "    def __init__(self, df, transform=None, target_transform=None):\n",
        "        self.img_labels = df.iloc[:,0]\n",
        "        # self.data = df.iloc[:,1:]\n",
        "        self.transform = transform\n",
        "        self.target_transform = target_transform\n",
        "        self.df = df\n",
        "\n",
        "    def __len__(self):\n",
        "        return len(self.img_labels)\n",
        "\n",
        "    def __getitem__(self, idx):\n",
        "        # img_path = os.path.join(self.img_labels.iloc[idx, 0])\n",
        "        image = torch.tensor((self.df.iloc[idx,1:].values))\n",
        "        label = self.img_labels.iloc[idx]\n",
        "        if self.transform:\n",
        "            image = self.transform(image)\n",
        "        if self.target_transform:\n",
        "            label = self.target_transform(label)\n",
        "        return image, label"
      ],
      "metadata": {
        "id": "kQeAR7S6lmWY"
      },
      "execution_count": null,
      "outputs": []
    },
    {
      "cell_type": "code",
      "source": [
        "tr = K(training_data)"
      ],
      "metadata": {
        "id": "GrdDv0zluiuK"
      },
      "execution_count": null,
      "outputs": []
    },
    {
      "cell_type": "code",
      "source": [
        "ts = K(training_data)"
      ],
      "metadata": {
        "id": "EXO2dV9xvUW-"
      },
      "execution_count": null,
      "outputs": []
    },
    {
      "cell_type": "code",
      "source": [
        "train_size = int(0.9*(len(tr)))\n",
        "val_size = len(tr) - train_size\n",
        "train_set, val_set = random_split(tr, [train_size, val_size])"
      ],
      "metadata": {
        "id": "cM4_aQ6trndp"
      },
      "execution_count": null,
      "outputs": []
    },
    {
      "cell_type": "code",
      "source": [
        "labels_map = {\n",
        "    0: \"0\",\n",
        "    1: \"1\",\n",
        "    2: \"2\",\n",
        "    3: \"3\",\n",
        "    4: \"4\",\n",
        "    5: \"5\",\n",
        "    6: \"6\",\n",
        "    7: \"7\",\n",
        "    8: \"8\",\n",
        "    9: \"9\",\n",
        "}\n",
        "figure = plt.figure(figsize=(8, 8))\n",
        "cols, rows = 3, 3\n",
        "for i in range(1, cols * rows + 1):\n",
        "    sample_idx = torch.randint(len(train_set), size=(1,)).item()\n",
        "    img, label = train_set[sample_idx]\n",
        "    figure.add_subplot(rows, cols, i)\n",
        "    plt.title(labels_map[label])\n",
        "    plt.axis(\"off\")\n",
        "    plt.imshow(img.reshape(28,28).squeeze(), cmap=\"gray\")\n",
        "plt.show()"
      ],
      "metadata": {
        "colab": {
          "base_uri": "https://localhost:8080/",
          "height": 675
        },
        "id": "VVZAQoz74zIs",
        "outputId": "0ebfb2c0-ce40-40a8-c740-5f89ca2c8ffb"
      },
      "execution_count": null,
      "outputs": [
        {
          "output_type": "display_data",
          "data": {
            "text/plain": [
              "<Figure size 800x800 with 9 Axes>"
            ],
            "image/png": "[encoded data removed]"
          },
          "metadata": {}
        }
      ]
    },
    {
      "cell_type": "code",
      "source": [
        "from torch.utils.data import DataLoader, random_split\n",
        "\n",
        "train_dataloader = DataLoader(train_set, batch_size=64, shuffle=True)\n",
        "test_dataloader = DataLoader(ts, batch_size=64, shuffle=True)\n",
        "val_dataloader = DataLoader(val_set,batch_size = 64,shuffle=True)"
      ],
      "metadata": {
        "id": "PBsDYyj_op_0"
      },
      "execution_count": null,
      "outputs": []
    },
    {
      "cell_type": "code",
      "source": [
        "train_features,train_labels = next(iter(train_dataloader))\n",
        "print(f\"Feature batch shape: {train_features.size()}\")\n",
        "print(f\"Labels batch shape: {train_labels.size()}\")\n",
        "img = train_features[0].reshape(28,28).squeeze()\n",
        "label = train_labels[0]\n",
        "plt.imshow(img,cmap='gray')\n",
        "plt.show()\n",
        "print(f\"Label: {label}\")"
      ],
      "metadata": {
        "id": "yMu09TkWwcQR",
        "colab": {
          "base_uri": "https://localhost:8080/",
          "height": 482
        },
        "outputId": "cbb2e746-f160-4440-94b1-85877bf95514"
      },
      "execution_count": null,
      "outputs": [
        {
          "output_type": "stream",
          "name": "stdout",
          "text": [
            "Feature batch shape: torch.Size([64, 784])\n",
            "Labels batch shape: torch.Size([64])\n"
          ]
        },
        {
          "output_type": "display_data",
          "data": {
            "text/plain": [
              "<Figure size 640x480 with 1 Axes>"
            ],
            "image/png": "[encoded data removed]"
          },
          "metadata": {}
        },
        {
          "output_type": "stream",
          "name": "stdout",
          "text": [
            "Label: 7\n"
          ]
        }
      ]
    },
    {
      "cell_type": "code",
      "source": [
        "import os\n",
        "import torch\n",
        "from torch import nn\n",
        "from torch.utils.data import DataLoader\n",
        "from torchvision import datasets, transforms"
      ],
      "metadata": {
        "id": "CiNu1ESh2x0V"
      },
      "execution_count": null,
      "outputs": []
    },
    {
      "cell_type": "code",
      "source": [
        "import torch.nn.functional as F"
      ],
      "metadata": {
        "id": "ZyEvbxzEfee0"
      },
      "execution_count": null,
      "outputs": []
    },
    {
      "cell_type": "markdown",
      "source": [
        "## Without batch normalization"
      ],
      "metadata": {
        "id": "Zm51yL-Dm8rn"
      }
    },
    {
      "cell_type": "code",
      "source": [
        "class NeuralNetwork(nn.Module):\n",
        "    def __init__(self):\n",
        "        super().__init__()\n",
        "        self.fc1 = nn.Linear(28*28,4096)\n",
        "        self.fc2 = nn.Linear(4096,512)\n",
        "        self.fc3 = nn.Linear(512,256)\n",
        "\n",
        "    def forward(self, x):\n",
        "        x = F.relu(self.fc1(x.float()))\n",
        "        x = F.relu(self.fc2(x))\n",
        "        return self.fc3(x)"
      ],
      "metadata": {
        "id": "flLqAADd460w"
      },
      "execution_count": null,
      "outputs": []
    },
    {
      "cell_type": "code",
      "source": [
        "model = NeuralNetwork()\n",
        "print(model)"
      ],
      "metadata": {
        "colab": {
          "base_uri": "https://localhost:8080/"
        },
        "id": "SgXLl5rd5KfI",
        "outputId": "9d44dff0-07bf-45ef-f181-9a5481d3f7b0"
      },
      "execution_count": null,
      "outputs": [
        {
          "output_type": "stream",
          "name": "stdout",
          "text": [
            "NeuralNetwork(\n",
            "  (fc1): Linear(in_features=784, out_features=4096, bias=True)\n",
            "  (fc2): Linear(in_features=4096, out_features=512, bias=True)\n",
            "  (fc3): Linear(in_features=512, out_features=256, bias=True)\n",
            ")\n"
          ]
        }
      ]
    },
    {
      "cell_type": "code",
      "source": [
        "learning_rate = 1e-3\n",
        "batch_size = 64\n",
        "epochs = 10"
      ],
      "metadata": {
        "id": "W7JMepkQ6nRn"
      },
      "execution_count": null,
      "outputs": []
    },
    {
      "cell_type": "code",
      "source": [
        "# Initialize the loss function\n",
        "loss_fn = nn.CrossEntropyLoss()"
      ],
      "metadata": {
        "id": "QloH7g357enw"
      },
      "execution_count": null,
      "outputs": []
    },
    {
      "cell_type": "code",
      "source": [
        "optimizer = torch.optim.SGD(model.parameters(), lr=learning_rate)"
      ],
      "metadata": {
        "id": "vQuqYvTs7tMv"
      },
      "execution_count": null,
      "outputs": []
    },
    {
      "cell_type": "code",
      "source": [
        "model.cuda()"
      ],
      "metadata": {
        "colab": {
          "base_uri": "https://localhost:8080/"
        },
        "id": "mnWBFCch4NWB",
        "outputId": "8714f9d5-2c22-49f8-e884-27bbb987b168"
      },
      "execution_count": null,
      "outputs": [
        {
          "output_type": "execute_result",
          "data": {
            "text/plain": [
              "NeuralNetwork(\n",
              "  (fc1): Linear(in_features=784, out_features=4096, bias=True)\n",
              "  (fc2): Linear(in_features=4096, out_features=512, bias=True)\n",
              "  (fc3): Linear(in_features=512, out_features=256, bias=True)\n",
              ")"
            ]
          },
          "metadata": {},
          "execution_count": 25
        }
      ]
    },
    {
      "cell_type": "code",
      "source": [
        "device = torch.device(\"cuda:0\")\n",
        "model.to(device)"
      ],
      "metadata": {
        "colab": {
          "base_uri": "https://localhost:8080/"
        },
        "id": "pWZXuU6YdIMK",
        "outputId": "fc8f38ad-09e8-49b0-f4f2-f45bdfd552a5"
      },
      "execution_count": null,
      "outputs": [
        {
          "output_type": "execute_result",
          "data": {
            "text/plain": [
              "NeuralNetwork(\n",
              "  (fc1): Linear(in_features=784, out_features=4096, bias=True)\n",
              "  (fc2): Linear(in_features=4096, out_features=512, bias=True)\n",
              "  (fc3): Linear(in_features=512, out_features=256, bias=True)\n",
              ")"
            ]
          },
          "metadata": {},
          "execution_count": 26
        }
      ]
    },
    {
      "cell_type": "code",
      "source": [
        "def train_loop(dataloader, model, loss_fn, optimizer):\n",
        "  size = len(dataloader.dataset)\n",
        "  # Set the model to training mode - important for batch normalization and dropout layers\n",
        "  # Unnecessary in this situation but added for best practices\n",
        "  model.train()\n",
        "  for batch, (X, y) in enumerate(dataloader):\n",
        "    X = X.cuda()\n",
        "    y = y.cuda()\n",
        "    # Compute prediction and loss\n",
        "    pred = model(X)\n",
        "    loss = loss_fn(pred, y)\n",
        "\n",
        "    # Backpropagation\n",
        "    loss.backward()\n",
        "    optimizer.step()\n",
        "    optimizer.zero_grad()\n",
        "\n",
        "    if batch % 100 == 0:\n",
        "      loss, current = loss.item(), (batch + 1) * len(X)\n",
        "      print(f\"loss: {loss:>7f} [{current:>5d}/{size:>5d}]\")\n",
        "\n",
        "def test_loop(dataloader, model, loss_fn):\n",
        "  # Set the model to evaluation mode - important for batch normalization and dropout layers\n",
        "  # Unnecessary in this situation but added for best practices\n",
        "  model.eval()\n",
        "  size = len(dataloader.dataset)\n",
        "  num_batches = len(dataloader)\n",
        "  test_loss, correct = 0, 0\n",
        "\n",
        "  # Evaluating the model with torch.no_grad() ensures that no gradients are computed during test mode\n",
        "  # Also serves to reduce unnecessary gradient computations and memory usage for tensors\n",
        "  with torch.no_grad():\n",
        "    for X, y in dataloader:\n",
        "      X = X.cuda()\n",
        "      y = y.cuda()\n",
        "      pred = model(X)\n",
        "      test_loss += loss_fn(pred, y).item()\n",
        "      correct += (pred.argmax(1) == y).type(torch.float).sum().item()\n",
        "\n",
        "    test_loss /= num_batches\n",
        "    correct /= size\n",
        "    print(f\"Test error : \\n Accuracy: {(100 * correct):>0.1f}%, Avg loss: {test_loss:>8f} \\n\")\n",
        "\n",
        "def val_loop(dataloader, model, loss_fn):\n",
        "  # Set the model to evaluation mode - important for batch normalization and dropout layers\n",
        "  # Unnecessary in this situation but added for best practices\n",
        "  model.eval()\n",
        "  size = len(dataloader.dataset)\n",
        "  num_batches = len(dataloader)\n",
        "  test_loss, correct = 0, 0\n",
        "\n",
        "  # Evaluating the model with torch.no_grad() ensures that no gradients are computed during test mode\n",
        "  # Also serves to reduce unnecessary gradient computations and memory usage for tensors\n",
        "  with torch.no_grad():\n",
        "    for X, y in dataloader:\n",
        "      X = X.cuda()\n",
        "      y = y.cuda()\n",
        "      pred = model(X)\n",
        "      test_loss += loss_fn(pred, y).item()\n",
        "      correct += (pred.argmax(1) == y).type(torch.float).sum().item()\n",
        "\n",
        "    test_loss /= num_batches\n",
        "    correct /= size\n",
        "    print(f\"Validation error : \\n Accuracy: {(100 * correct):>0.1f}%, Avg loss: {test_loss:>8f} \\n\")"
      ],
      "metadata": {
        "id": "UeeQt6wJ7xZv"
      },
      "execution_count": null,
      "outputs": []
    },
    {
      "cell_type": "code",
      "source": [
        "for t in range(epochs):\n",
        "  print(f\"Epoch {t+1}\\n------------------------------------------\")\n",
        "  train_loop(train_dataloader, model, loss_fn, optimizer)\n",
        "  val_loop(val_dataloader, model, loss_fn )\n",
        "\n",
        "test_loop(test_dataloader, model, loss_fn)"
      ],
      "metadata": {
        "colab": {
          "base_uri": "https://localhost:8080/"
        },
        "id": "J3DM1LOQ8Rif",
        "outputId": "7bbece86-7daa-4142-92dc-11c0e774985e"
      },
      "execution_count": null,
      "outputs": [
        {
          "output_type": "stream",
          "name": "stdout",
          "text": [
            "Epoch 1\n",
            "------------------------------------------\n",
            "loss: 0.026330 [   64/54000]\n",
            "loss: 0.043182 [ 6464/54000]\n",
            "loss: 0.013756 [12864/54000]\n",
            "loss: 0.006894 [19264/54000]\n",
            "loss: 0.006706 [25664/54000]\n",
            "loss: 0.005094 [32064/54000]\n",
            "loss: 0.013635 [38464/54000]\n",
            "loss: 0.024936 [44864/54000]\n",
            "loss: 0.006786 [51264/54000]\n",
            "Validation error : \n",
            " Accuracy: 98.2%, Avg loss: 0.062068 \n",
            "\n",
            "Epoch 2\n",
            "------------------------------------------\n",
            "loss: 0.007065 [   64/54000]\n",
            "loss: 0.008490 [ 6464/54000]\n",
            "loss: 0.010449 [12864/54000]\n",
            "loss: 0.004497 [19264/54000]\n",
            "loss: 0.003842 [25664/54000]\n",
            "loss: 0.016187 [32064/54000]\n",
            "loss: 0.002046 [38464/54000]\n",
            "loss: 0.010787 [44864/54000]\n",
            "loss: 0.004069 [51264/54000]\n",
            "Validation error : \n",
            " Accuracy: 98.3%, Avg loss: 0.056562 \n",
            "\n",
            "Epoch 3\n",
            "------------------------------------------\n",
            "loss: 0.003437 [   64/54000]\n",
            "loss: 0.003135 [ 6464/54000]\n",
            "loss: 0.008052 [12864/54000]\n",
            "loss: 0.014641 [19264/54000]\n",
            "loss: 0.005423 [25664/54000]\n",
            "loss: 0.007154 [32064/54000]\n",
            "loss: 0.002300 [38464/54000]\n",
            "loss: 0.002782 [44864/54000]\n",
            "loss: 0.063617 [51264/54000]\n",
            "Validation error : \n",
            " Accuracy: 98.4%, Avg loss: 0.055072 \n",
            "\n",
            "Epoch 4\n",
            "------------------------------------------\n",
            "loss: 0.100882 [   64/54000]\n",
            "loss: 0.002559 [ 6464/54000]\n",
            "loss: 0.017521 [12864/54000]\n",
            "loss: 0.015718 [19264/54000]\n",
            "loss: 0.008650 [25664/54000]\n",
            "loss: 0.005247 [32064/54000]\n",
            "loss: 0.008214 [38464/54000]\n",
            "loss: 0.007246 [44864/54000]\n",
            "loss: 0.010139 [51264/54000]\n",
            "Validation error : \n",
            " Accuracy: 98.4%, Avg loss: 0.054812 \n",
            "\n",
            "Epoch 5\n",
            "------------------------------------------\n",
            "loss: 0.004955 [   64/54000]\n",
            "loss: 0.003843 [ 6464/54000]\n",
            "loss: 0.005500 [12864/54000]\n",
            "loss: 0.003628 [19264/54000]\n",
            "loss: 0.003200 [25664/54000]\n",
            "loss: 0.011851 [32064/54000]\n",
            "loss: 0.004914 [38464/54000]\n",
            "loss: 0.004497 [44864/54000]\n",
            "loss: 0.009645 [51264/54000]\n",
            "Validation error : \n",
            " Accuracy: 98.4%, Avg loss: 0.055026 \n",
            "\n",
            "Epoch 6\n",
            "------------------------------------------\n",
            "loss: 0.003132 [   64/54000]\n",
            "loss: 0.003339 [ 6464/54000]\n",
            "loss: 0.002406 [12864/54000]\n",
            "loss: 0.003343 [19264/54000]\n",
            "loss: 0.003695 [25664/54000]\n",
            "loss: 0.002944 [32064/54000]\n",
            "loss: 0.002187 [38464/54000]\n",
            "loss: 0.005610 [44864/54000]\n",
            "loss: 0.002822 [51264/54000]\n",
            "Validation error : \n",
            " Accuracy: 98.4%, Avg loss: 0.054942 \n",
            "\n",
            "Epoch 7\n",
            "------------------------------------------\n",
            "loss: 0.001547 [   64/54000]\n",
            "loss: 0.002532 [ 6464/54000]\n",
            "loss: 0.005753 [12864/54000]\n",
            "loss: 0.001541 [19264/54000]\n",
            "loss: 0.001059 [25664/54000]\n",
            "loss: 0.000986 [32064/54000]\n",
            "loss: 0.003517 [38464/54000]\n",
            "loss: 0.000848 [44864/54000]\n",
            "loss: 0.003408 [51264/54000]\n",
            "Validation error : \n",
            " Accuracy: 98.5%, Avg loss: 0.054089 \n",
            "\n",
            "Epoch 8\n",
            "------------------------------------------\n",
            "loss: 0.001332 [   64/54000]\n",
            "loss: 0.002026 [ 6464/54000]\n",
            "loss: 0.002071 [12864/54000]\n",
            "loss: 0.005835 [19264/54000]\n",
            "loss: 0.001995 [25664/54000]\n",
            "loss: 0.004344 [32064/54000]\n",
            "loss: 0.005332 [38464/54000]\n",
            "loss: 0.002300 [44864/54000]\n",
            "loss: 0.002196 [51264/54000]\n",
            "Validation error : \n",
            " Accuracy: 98.5%, Avg loss: 0.054040 \n",
            "\n",
            "Epoch 9\n",
            "------------------------------------------\n",
            "loss: 0.001297 [   64/54000]\n",
            "loss: 0.003330 [ 6464/54000]\n",
            "loss: 0.002425 [12864/54000]\n",
            "loss: 0.002714 [19264/54000]\n",
            "loss: 0.002125 [25664/54000]\n",
            "loss: 0.002593 [32064/54000]\n",
            "loss: 0.001188 [38464/54000]\n",
            "loss: 0.002543 [44864/54000]\n",
            "loss: 0.001873 [51264/54000]\n",
            "Validation error : \n",
            " Accuracy: 98.4%, Avg loss: 0.055282 \n",
            "\n",
            "Epoch 10\n",
            "------------------------------------------\n",
            "loss: 0.001947 [   64/54000]\n",
            "loss: 0.002475 [ 6464/54000]\n",
            "loss: 0.002454 [12864/54000]\n",
            "loss: 0.002334 [19264/54000]\n",
            "loss: 0.001380 [25664/54000]\n",
            "loss: 0.003978 [32064/54000]\n",
            "loss: 0.002452 [38464/54000]\n",
            "loss: 0.003227 [44864/54000]\n",
            "loss: 0.000900 [51264/54000]\n",
            "Validation error : \n",
            " Accuracy: 98.5%, Avg loss: 0.054193 \n",
            "\n",
            "Test error : \n",
            " Accuracy: 99.9%, Avg loss: 0.007052 \n",
            "\n"
          ]
        }
      ]
    },
    {
      "cell_type": "markdown",
      "source": [
        "## With batch normalization"
      ],
      "metadata": {
        "id": "qIxqedbLnCYb"
      }
    },
    {
      "cell_type": "code",
      "source": [
        "class NeuralNetwork(nn.Module):\n",
        "    def __init__(self):\n",
        "        super().__init__()\n",
        "        self.fc1 = nn.Linear(28*28,4096)\n",
        "        self.bn1 = nn.BatchNorm1d(4096)\n",
        "        self.fc2 = nn.Linear(4096,512)\n",
        "        self.bn2 = nn.BatchNorm1d(512)\n",
        "        self.fc3 = nn.Linear(512,256)\n",
        "\n",
        "    def forward(self, x):\n",
        "        x = F.relu(self.bn1(self.fc1(x.float())))\n",
        "        x = F.relu(self.bn2(self.fc2(x)))\n",
        "        return self.fc3(x)"
      ],
      "metadata": {
        "id": "APEBxLSCm4V5"
      },
      "execution_count": null,
      "outputs": []
    },
    {
      "cell_type": "code",
      "source": [
        "model = NeuralNetwork()\n",
        "print(model)"
      ],
      "metadata": {
        "colab": {
          "base_uri": "https://localhost:8080/"
        },
        "outputId": "865a89e0-0053-4ec8-93f2-734558358ed4",
        "id": "BbCGpPotm4V7"
      },
      "execution_count": null,
      "outputs": [
        {
          "output_type": "stream",
          "name": "stdout",
          "text": [
            "NeuralNetwork(\n",
            "  (fc1): Linear(in_features=784, out_features=4096, bias=True)\n",
            "  (bn1): BatchNorm1d(4096, eps=1e-05, momentum=0.1, affine=True, track_running_stats=True)\n",
            "  (fc2): Linear(in_features=4096, out_features=512, bias=True)\n",
            "  (bn2): BatchNorm1d(512, eps=1e-05, momentum=0.1, affine=True, track_running_stats=True)\n",
            "  (fc3): Linear(in_features=512, out_features=256, bias=True)\n",
            ")\n"
          ]
        }
      ]
    },
    {
      "cell_type": "code",
      "source": [
        "learning_rate = 1e-3\n",
        "batch_size = 64\n",
        "epochs = 10"
      ],
      "metadata": {
        "id": "pP-Vb2L-m4V8"
      },
      "execution_count": null,
      "outputs": []
    },
    {
      "cell_type": "code",
      "source": [
        "# Initialize the loss function\n",
        "loss_fn = nn.CrossEntropyLoss()"
      ],
      "metadata": {
        "id": "HdkxXHSCm4V9"
      },
      "execution_count": null,
      "outputs": []
    },
    {
      "cell_type": "code",
      "source": [
        "optimizer = torch.optim.Adam(model.parameters(), lr=learning_rate)"
      ],
      "metadata": {
        "id": "8Vk9Owu-m4V-"
      },
      "execution_count": null,
      "outputs": []
    },
    {
      "cell_type": "code",
      "source": [
        "model.cuda()"
      ],
      "metadata": {
        "colab": {
          "base_uri": "https://localhost:8080/"
        },
        "outputId": "c749d7e8-ff24-4227-fe46-adc38346778d",
        "id": "bhXVOw8Gm4V-"
      },
      "execution_count": null,
      "outputs": [
        {
          "output_type": "execute_result",
          "data": {
            "text/plain": [
              "NeuralNetwork(\n",
              "  (fc1): Linear(in_features=784, out_features=4096, bias=True)\n",
              "  (bn1): BatchNorm1d(4096, eps=1e-05, momentum=0.1, affine=True, track_running_stats=True)\n",
              "  (fc2): Linear(in_features=4096, out_features=512, bias=True)\n",
              "  (bn2): BatchNorm1d(512, eps=1e-05, momentum=0.1, affine=True, track_running_stats=True)\n",
              "  (fc3): Linear(in_features=512, out_features=256, bias=True)\n",
              ")"
            ]
          },
          "metadata": {},
          "execution_count": 39
        }
      ]
    },
    {
      "cell_type": "code",
      "source": [
        "device = torch.device(\"cuda:0\")\n",
        "model.to(device)"
      ],
      "metadata": {
        "colab": {
          "base_uri": "https://localhost:8080/"
        },
        "outputId": "49511eaf-2bb6-4552-be37-bdb140a63bf7",
        "id": "Qulhf75-m4V_"
      },
      "execution_count": null,
      "outputs": [
        {
          "output_type": "execute_result",
          "data": {
            "text/plain": [
              "NeuralNetwork(\n",
              "  (fc1): Linear(in_features=784, out_features=4096, bias=True)\n",
              "  (bn1): BatchNorm1d(4096, eps=1e-05, momentum=0.1, affine=True, track_running_stats=True)\n",
              "  (fc2): Linear(in_features=4096, out_features=512, bias=True)\n",
              "  (bn2): BatchNorm1d(512, eps=1e-05, momentum=0.1, affine=True, track_running_stats=True)\n",
              "  (fc3): Linear(in_features=512, out_features=256, bias=True)\n",
              ")"
            ]
          },
          "metadata": {},
          "execution_count": 40
        }
      ]
    },
    {
      "cell_type": "code",
      "source": [
        "def train_loop(dataloader, model, loss_fn, optimizer):\n",
        "  size = len(dataloader.dataset)\n",
        "  # Set the model to training mode - important for batch normalization and dropout layers\n",
        "  # Unnecessary in this situation but added for best practices\n",
        "  model.train()\n",
        "  for batch, (X, y) in enumerate(dataloader):\n",
        "    X = X.cuda()\n",
        "    y = y.cuda()\n",
        "    # Compute prediction and loss\n",
        "    pred = model(X)\n",
        "    loss = loss_fn(pred, y)\n",
        "\n",
        "    # Backpropagation\n",
        "    loss.backward()\n",
        "    optimizer.step()\n",
        "    optimizer.zero_grad()\n",
        "\n",
        "    if batch % 100 == 0:\n",
        "      loss, current = loss.item(), (batch + 1) * len(X)\n",
        "      print(f\"loss: {loss:>7f} [{current:>5d}/{size:>5d}]\")\n",
        "\n",
        "def test_loop(dataloader, model, loss_fn):\n",
        "  # Set the model to evaluation mode - important for batch normalization and dropout layers\n",
        "  # Unnecessary in this situation but added for best practices\n",
        "  model.eval()\n",
        "  size = len(dataloader.dataset)\n",
        "  num_batches = len(dataloader)\n",
        "  test_loss, correct = 0, 0\n",
        "\n",
        "  # Evaluating the model with torch.no_grad() ensures that no gradients are computed during test mode\n",
        "  # Also serves to reduce unnecessary gradient computations and memory usage for tensors\n",
        "  with torch.no_grad():\n",
        "    for X, y in dataloader:\n",
        "      X = X.cuda()\n",
        "      y = y.cuda()\n",
        "      pred = model(X)\n",
        "      test_loss += loss_fn(pred, y).item()\n",
        "      correct += (pred.argmax(1) == y).type(torch.float).sum().item()\n",
        "\n",
        "    test_loss /= num_batches\n",
        "    correct /= size\n",
        "    print(f\"Test error : \\n Accuracy: {(100 * correct):>0.1f}%, Avg loss: {test_loss:>8f} \\n\")\n",
        "\n",
        "def val_loop(dataloader, model, loss_fn):\n",
        "  # Set the model to evaluation mode - important for batch normalization and dropout layers\n",
        "  # Unnecessary in this situation but added for best practices\n",
        "  model.eval()\n",
        "  size = len(dataloader.dataset)\n",
        "  num_batches = len(dataloader)\n",
        "  test_loss, correct = 0, 0\n",
        "\n",
        "  # Evaluating the model with torch.no_grad() ensures that no gradients are computed during test mode\n",
        "  # Also serves to reduce unnecessary gradient computations and memory usage for tensors\n",
        "  with torch.no_grad():\n",
        "    for X, y in dataloader:\n",
        "      X = X.cuda()\n",
        "      y = y.cuda()\n",
        "      pred = model(X)\n",
        "      test_loss += loss_fn(pred, y).item()\n",
        "      correct += (pred.argmax(1) == y).type(torch.float).sum().item()\n",
        "\n",
        "    test_loss /= num_batches\n",
        "    correct /= size\n",
        "    print(f\"Validation error : \\n Accuracy: {(100 * correct):>0.1f}%, Avg loss: {test_loss:>8f} \\n\")"
      ],
      "metadata": {
        "id": "4EStla7dm4V_"
      },
      "execution_count": null,
      "outputs": []
    },
    {
      "cell_type": "code",
      "source": [
        "for t in range(epochs):\n",
        "  print(f\"Epoch {t+1}\\n------------------------------------------\")\n",
        "  train_loop(train_dataloader, model, loss_fn, optimizer)\n",
        "  val_loop(val_dataloader, model, loss_fn )\n",
        "\n",
        "test_loop(test_dataloader, model, loss_fn)"
      ],
      "metadata": {
        "colab": {
          "base_uri": "https://localhost:8080/"
        },
        "outputId": "544b9cda-6041-4f40-f26d-08e11c03290e",
        "id": "WARjQGkum4WA"
      },
      "execution_count": null,
      "outputs": [
        {
          "output_type": "stream",
          "name": "stdout",
          "text": [
            "Epoch 1\n",
            "------------------------------------------\n",
            "loss: 5.710872 [   64/54000]\n",
            "loss: 0.220550 [ 6464/54000]\n",
            "loss: 0.080759 [12864/54000]\n",
            "loss: 0.050463 [19264/54000]\n",
            "loss: 0.181262 [25664/54000]\n",
            "loss: 0.020371 [32064/54000]\n",
            "loss: 0.086194 [38464/54000]\n",
            "loss: 0.017826 [44864/54000]\n",
            "loss: 0.071427 [51264/54000]\n",
            "Validation error : \n",
            " Accuracy: 98.6%, Avg loss: 0.052232 \n",
            "\n",
            "Epoch 2\n",
            "------------------------------------------\n",
            "loss: 0.013205 [   64/54000]\n",
            "loss: 0.011676 [ 6464/54000]\n",
            "loss: 0.078105 [12864/54000]\n",
            "loss: 0.010759 [19264/54000]\n",
            "loss: 0.066089 [25664/54000]\n",
            "loss: 0.010371 [32064/54000]\n",
            "loss: 0.052798 [38464/54000]\n",
            "loss: 0.013600 [44864/54000]\n",
            "loss: 0.005797 [51264/54000]\n",
            "Validation error : \n",
            " Accuracy: 98.4%, Avg loss: 0.050273 \n",
            "\n",
            "Epoch 3\n",
            "------------------------------------------\n",
            "loss: 0.006109 [   64/54000]\n",
            "loss: 0.027266 [ 6464/54000]\n",
            "loss: 0.017294 [12864/54000]\n",
            "loss: 0.025445 [19264/54000]\n",
            "loss: 0.067577 [25664/54000]\n",
            "loss: 0.110610 [32064/54000]\n",
            "loss: 0.109966 [38464/54000]\n",
            "loss: 0.005118 [44864/54000]\n",
            "loss: 0.013838 [51264/54000]\n",
            "Validation error : \n",
            " Accuracy: 98.7%, Avg loss: 0.044325 \n",
            "\n",
            "Epoch 4\n",
            "------------------------------------------\n",
            "loss: 0.035272 [   64/54000]\n",
            "loss: 0.004631 [ 6464/54000]\n",
            "loss: 0.011153 [12864/54000]\n",
            "loss: 0.007385 [19264/54000]\n",
            "loss: 0.025902 [25664/54000]\n",
            "loss: 0.140682 [32064/54000]\n",
            "loss: 0.022838 [38464/54000]\n",
            "loss: 0.088498 [44864/54000]\n",
            "loss: 0.004289 [51264/54000]\n",
            "Validation error : \n",
            " Accuracy: 97.8%, Avg loss: 0.072336 \n",
            "\n",
            "Epoch 5\n",
            "------------------------------------------\n",
            "loss: 0.074154 [   64/54000]\n",
            "loss: 0.008259 [ 6464/54000]\n",
            "loss: 0.002900 [12864/54000]\n",
            "loss: 0.032566 [19264/54000]\n",
            "loss: 0.002696 [25664/54000]\n",
            "loss: 0.018591 [32064/54000]\n",
            "loss: 0.001019 [38464/54000]\n",
            "loss: 0.057114 [44864/54000]\n",
            "loss: 0.007869 [51264/54000]\n",
            "Validation error : \n",
            " Accuracy: 98.8%, Avg loss: 0.043920 \n",
            "\n",
            "Epoch 6\n",
            "------------------------------------------\n",
            "loss: 0.003453 [   64/54000]\n",
            "loss: 0.019263 [ 6464/54000]\n",
            "loss: 0.019563 [12864/54000]\n",
            "loss: 0.001214 [19264/54000]\n",
            "loss: 0.016261 [25664/54000]\n",
            "loss: 0.049346 [32064/54000]\n",
            "loss: 0.004279 [38464/54000]\n",
            "loss: 0.029730 [44864/54000]\n",
            "loss: 0.000735 [51264/54000]\n",
            "Validation error : \n",
            " Accuracy: 98.7%, Avg loss: 0.048270 \n",
            "\n",
            "Epoch 7\n",
            "------------------------------------------\n",
            "loss: 0.003732 [   64/54000]\n",
            "loss: 0.003679 [ 6464/54000]\n",
            "loss: 0.003307 [12864/54000]\n",
            "loss: 0.008877 [19264/54000]\n",
            "loss: 0.070041 [25664/54000]\n",
            "loss: 0.051667 [32064/54000]\n",
            "loss: 0.071873 [38464/54000]\n",
            "loss: 0.000216 [44864/54000]\n",
            "loss: 0.001218 [51264/54000]\n",
            "Validation error : \n",
            " Accuracy: 98.9%, Avg loss: 0.044595 \n",
            "\n",
            "Epoch 8\n",
            "------------------------------------------\n",
            "loss: 0.015499 [   64/54000]\n",
            "loss: 0.015331 [ 6464/54000]\n",
            "loss: 0.000945 [12864/54000]\n",
            "loss: 0.003041 [19264/54000]\n",
            "loss: 0.002303 [25664/54000]\n",
            "loss: 0.028850 [32064/54000]\n",
            "loss: 0.021195 [38464/54000]\n",
            "loss: 0.018933 [44864/54000]\n",
            "loss: 0.014709 [51264/54000]\n",
            "Validation error : \n",
            " Accuracy: 98.6%, Avg loss: 0.054242 \n",
            "\n",
            "Epoch 9\n",
            "------------------------------------------\n",
            "loss: 0.001058 [   64/54000]\n",
            "loss: 0.096876 [ 6464/54000]\n",
            "loss: 0.025996 [12864/54000]\n",
            "loss: 0.004911 [19264/54000]\n",
            "loss: 0.015720 [25664/54000]\n",
            "loss: 0.004386 [32064/54000]\n",
            "loss: 0.036445 [38464/54000]\n",
            "loss: 0.005359 [44864/54000]\n",
            "loss: 0.000340 [51264/54000]\n",
            "Validation error : \n",
            " Accuracy: 99.1%, Avg loss: 0.038517 \n",
            "\n",
            "Epoch 10\n",
            "------------------------------------------\n",
            "loss: 0.000190 [   64/54000]\n",
            "loss: 0.000803 [ 6464/54000]\n",
            "loss: 0.000049 [12864/54000]\n",
            "loss: 0.000850 [19264/54000]\n",
            "loss: 0.000078 [25664/54000]\n",
            "loss: 0.006183 [32064/54000]\n",
            "loss: 0.002760 [38464/54000]\n",
            "loss: 0.000158 [44864/54000]\n",
            "loss: 0.000139 [51264/54000]\n",
            "Validation error : \n",
            " Accuracy: 98.9%, Avg loss: 0.043841 \n",
            "\n",
            "Test error : \n",
            " Accuracy: 99.7%, Avg loss: 0.009659 \n",
            "\n"
          ]
        }
      ]
    }
  ]
}
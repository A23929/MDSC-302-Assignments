{
  "nbformat": 4,
  "nbformat_minor": 0,
  "metadata": {
    "colab": {
      "provenance": [],
      "gpuType": "T4",
      "authorship_tag": "ABX9TyPxOsv/p2WhVTMNMPg5w+oE",
      "include_colab_link": true
    },
    "kernelspec": {
      "name": "python3",
      "display_name": "Python 3"
    },
    "language_info": {
      "name": "python"
    },
    "accelerator": "GPU"
  },
  "cells": [
    {
      "cell_type": "markdown",
      "metadata": {
        "id": "view-in-github",
        "colab_type": "text"
      },
      "source": [
        "<a href=\"https://colab.research.google.com/github/A23929/MDSC-302-Assignments/blob/main/22237_MDSC_302(P)_Assignment4.ipynb\" target=\"_parent\"><img src=\"https://colab.research.google.com/assets/colab-badge.svg\" alt=\"Open In Colab\"/></a>"
      ]
    },
    {
      "cell_type": "code",
      "execution_count": null,
      "metadata": {
        "id": "jxy1abXegsxH"
      },
      "outputs": [],
      "source": [
        "! pip install -q kaggle"
      ]
    },
    {
      "cell_type": "code",
      "source": [
        "from google.colab import files\n",
        "import pandas as pd\n",
        "import torch\n",
        "from torch.utils.data import Dataset,random_split\n",
        "from torchvision import datasets\n",
        "from torchvision.transforms import ToTensor\n",
        "import matplotlib.pyplot as plt\n",
        "import numpy as np"
      ],
      "metadata": {
        "id": "8LSV_GFehPPT"
      },
      "execution_count": null,
      "outputs": []
    },
    {
      "cell_type": "code",
      "source": [
        "files.upload()"
      ],
      "metadata": {
        "colab": {
          "base_uri": "https://localhost:8080/",
          "height": 90
        },
        "id": "3uC-McdehVzE",
        "outputId": "e14ad409-310d-4629-e61d-9c32ddc3f0a7"
      },
      "execution_count": null,
      "outputs": [
        {
          "output_type": "display_data",
          "data": {
            "text/plain": [
              "<IPython.core.display.HTML object>"
            ],
            "text/html": [
              "\n",
              "     <input type=\"file\" id=\"files-56d7aae9-04e7-4a09-898e-7d197eb92880\" name=\"files[]\" multiple disabled\n",
              "        style=\"border:none\" />\n",
              "     <output id=\"result-56d7aae9-04e7-4a09-898e-7d197eb92880\">\n",
              "      Upload widget is only available when the cell has been executed in the\n",
              "      current browser session. Please rerun this cell to enable.\n",
              "      </output>\n",
              "      <script>// Copyright 2017 Google LLC\n",
              "//\n",
              "// Licensed under the Apache License, Version 2.0 (the \"License\");\n",
              "// you may not use this file except in compliance with the License.\n",
              "// You may obtain a copy of the License at\n",
              "//\n",
              "//      http://www.apache.org/licenses/LICENSE-2.0\n",
              "//\n",
              "// Unless required by applicable law or agreed to in writing, software\n",
              "// distributed under the License is distributed on an \"AS IS\" BASIS,\n",
              "// WITHOUT WARRANTIES OR CONDITIONS OF ANY KIND, either express or implied.\n",
              "// See the License for the specific language governing permissions and\n",
              "// limitations under the License.\n",
              "\n",
              "/**\n",
              " * @fileoverview Helpers for google.colab Python module.\n",
              " */\n",
              "(function(scope) {\n",
              "function span(text, styleAttributes = {}) {\n",
              "  const element = document.createElement('span');\n",
              "  element.textContent = text;\n",
              "  for (const key of Object.keys(styleAttributes)) {\n",
              "    element.style[key] = styleAttributes[key];\n",
              "  }\n",
              "  return element;\n",
              "}\n",
              "\n",
              "// Max number of bytes which will be uploaded at a time.\n",
              "const MAX_PAYLOAD_SIZE = 100 * 1024;\n",
              "\n",
              "function _uploadFiles(inputId, outputId) {\n",
              "  const steps = uploadFilesStep(inputId, outputId);\n",
              "  const outputElement = document.getElementById(outputId);\n",
              "  // Cache steps on the outputElement to make it available for the next call\n",
              "  // to uploadFilesContinue from Python.\n",
              "  outputElement.steps = steps;\n",
              "\n",
              "  return _uploadFilesContinue(outputId);\n",
              "}\n",
              "\n",
              "// This is roughly an async generator (not supported in the browser yet),\n",
              "// where there are multiple asynchronous steps and the Python side is going\n",
              "// to poll for completion of each step.\n",
              "// This uses a Promise to block the python side on completion of each step,\n",
              "// then passes the result of the previous step as the input to the next step.\n",
              "function _uploadFilesContinue(outputId) {\n",
              "  const outputElement = document.getElementById(outputId);\n",
              "  const steps = outputElement.steps;\n",
              "\n",
              "  const next = steps.next(outputElement.lastPromiseValue);\n",
              "  return Promise.resolve(next.value.promise).then((value) => {\n",
              "    // Cache the last promise value to make it available to the next\n",
              "    // step of the generator.\n",
              "    outputElement.lastPromiseValue = value;\n",
              "    return next.value.response;\n",
              "  });\n",
              "}\n",
              "\n",
              "/**\n",
              " * Generator function which is called between each async step of the upload\n",
              " * process.\n",
              " * @param {string} inputId Element ID of the input file picker element.\n",
              " * @param {string} outputId Element ID of the output display.\n",
              " * @return {!Iterable<!Object>} Iterable of next steps.\n",
              " */\n",
              "function* uploadFilesStep(inputId, outputId) {\n",
              "  const inputElement = document.getElementById(inputId);\n",
              "  inputElement.disabled = false;\n",
              "\n",
              "  const outputElement = document.getElementById(outputId);\n",
              "  outputElement.innerHTML = '';\n",
              "\n",
              "  const pickedPromise = new Promise((resolve) => {\n",
              "    inputElement.addEventListener('change', (e) => {\n",
              "      resolve(e.target.files);\n",
              "    });\n",
              "  });\n",
              "\n",
              "  const cancel = document.createElement('button');\n",
              "  inputElement.parentElement.appendChild(cancel);\n",
              "  cancel.textContent = 'Cancel upload';\n",
              "  const cancelPromise = new Promise((resolve) => {\n",
              "    cancel.onclick = () => {\n",
              "      resolve(null);\n",
              "    };\n",
              "  });\n",
              "\n",
              "  // Wait for the user to pick the files.\n",
              "  const files = yield {\n",
              "    promise: Promise.race([pickedPromise, cancelPromise]),\n",
              "    response: {\n",
              "      action: 'starting',\n",
              "    }\n",
              "  };\n",
              "\n",
              "  cancel.remove();\n",
              "\n",
              "  // Disable the input element since further picks are not allowed.\n",
              "  inputElement.disabled = true;\n",
              "\n",
              "  if (!files) {\n",
              "    return {\n",
              "      response: {\n",
              "        action: 'complete',\n",
              "      }\n",
              "    };\n",
              "  }\n",
              "\n",
              "  for (const file of files) {\n",
              "    const li = document.createElement('li');\n",
              "    li.append(span(file.name, {fontWeight: 'bold'}));\n",
              "    li.append(span(\n",
              "        `(${file.type || 'n/a'}) - ${file.size} bytes, ` +\n",
              "        `last modified: ${\n",
              "            file.lastModifiedDate ? file.lastModifiedDate.toLocaleDateString() :\n",
              "                                    'n/a'} - `));\n",
              "    const percent = span('0% done');\n",
              "    li.appendChild(percent);\n",
              "\n",
              "    outputElement.appendChild(li);\n",
              "\n",
              "    const fileDataPromise = new Promise((resolve) => {\n",
              "      const reader = new FileReader();\n",
              "      reader.onload = (e) => {\n",
              "        resolve(e.target.result);\n",
              "      };\n",
              "      reader.readAsArrayBuffer(file);\n",
              "    });\n",
              "    // Wait for the data to be ready.\n",
              "    let fileData = yield {\n",
              "      promise: fileDataPromise,\n",
              "      response: {\n",
              "        action: 'continue',\n",
              "      }\n",
              "    };\n",
              "\n",
              "    // Use a chunked sending to avoid message size limits. See b/62115660.\n",
              "    let position = 0;\n",
              "    do {\n",
              "      const length = Math.min(fileData.byteLength - position, MAX_PAYLOAD_SIZE);\n",
              "      const chunk = new Uint8Array(fileData, position, length);\n",
              "      position += length;\n",
              "\n",
              "      const base64 = btoa(String.fromCharCode.apply(null, chunk));\n",
              "      yield {\n",
              "        response: {\n",
              "          action: 'append',\n",
              "          file: file.name,\n",
              "          data: base64,\n",
              "        },\n",
              "      };\n",
              "\n",
              "      let percentDone = fileData.byteLength === 0 ?\n",
              "          100 :\n",
              "          Math.round((position / fileData.byteLength) * 100);\n",
              "      percent.textContent = `${percentDone}% done`;\n",
              "\n",
              "    } while (position < fileData.byteLength);\n",
              "  }\n",
              "\n",
              "  // All done.\n",
              "  yield {\n",
              "    response: {\n",
              "      action: 'complete',\n",
              "    }\n",
              "  };\n",
              "}\n",
              "\n",
              "scope.google = scope.google || {};\n",
              "scope.google.colab = scope.google.colab || {};\n",
              "scope.google.colab._files = {\n",
              "  _uploadFiles,\n",
              "  _uploadFilesContinue,\n",
              "};\n",
              "})(self);\n",
              "</script> "
            ]
          },
          "metadata": {}
        },
        {
          "output_type": "stream",
          "name": "stdout",
          "text": [
            "Saving kaggle.json to kaggle.json\n"
          ]
        },
        {
          "output_type": "execute_result",
          "data": {
            "text/plain": [
              "{'kaggle.json': b'{\"username\":\"aniruddhapadmanaban\",\"key\":\"f9fdfef7b2009572f9a4768f540991fd\"}'}"
            ]
          },
          "metadata": {},
          "execution_count": 3
        }
      ]
    },
    {
      "cell_type": "code",
      "source": [
        "! mkdir ~/.kaggle\n",
        "! cp kaggle.json ~/.kaggle/"
      ],
      "metadata": {
        "id": "j9xSl-75hZs0"
      },
      "execution_count": null,
      "outputs": []
    },
    {
      "cell_type": "code",
      "source": [
        "! chmod 600 ~/.kaggle/kaggle.json"
      ],
      "metadata": {
        "id": "bmfErI15j_qs"
      },
      "execution_count": null,
      "outputs": []
    },
    {
      "cell_type": "code",
      "source": [
        "! kaggle datasets list"
      ],
      "metadata": {
        "colab": {
          "base_uri": "https://localhost:8080/"
        },
        "id": "FXfYTkSbkEHZ",
        "outputId": "c66af08b-8b28-4ff4-9ad8-664a553561f9"
      },
      "execution_count": null,
      "outputs": [
        {
          "output_type": "stream",
          "name": "stdout",
          "text": [
            "ref                                                        title                                           size  lastUpdated          downloadCount  voteCount  usabilityRating  \n",
            "---------------------------------------------------------  ---------------------------------------------  -----  -------------------  -------------  ---------  ---------------  \n",
            "nelgiriyewithana/top-spotify-songs-2023                    Most Streamed Spotify Songs 2023                47KB  2023-08-26 11:04:57           8977        295  1.0              \n",
            "josephinelsy/spotify-top-hit-playlist-2010-2022            Spotify Top Hit Playlist (2010-2022)           210KB  2023-09-08 06:11:44           1597         48  1.0              \n",
            "nelgiriyewithana/global-youtube-statistics-2023            Global YouTube Statistics 2023                  60KB  2023-07-28 15:36:38          18654        587  1.0              \n",
            "muhammadtalhaawan/world-export-and-import-dataset          World Export & Import Dataset (1989 - 2023)    721KB  2023-09-09 18:59:41            841         27  1.0              \n",
            "joebeachcapital/students-performance                       Students Performance                             2KB  2023-08-31 00:50:11           2898         72  1.0              \n",
            "iamsouravbanerjee/airline-dataset                          Airline Dataset                                  8MB  2023-09-13 06:47:17           3560         83  1.0              \n",
            "mohammadrizwansajjad/top-200-movies-of-2023                 Top 200 Movies of 2023 Dataset                  6KB  2023-08-31 04:40:32            759         22  1.0              \n",
            "berkayeserr/phone-prices                                   Phone Prices                                    27KB  2023-09-06 15:09:29           1234         29  0.88235295       \n",
            "lorentzyeung/all-japanese-anime-titles-in-imdb             Japanese Anime: An In-Depth IMDb Data Set        3MB  2023-09-08 21:41:29            516         24  1.0              \n",
            "joebeachcapital/restaurant-reviews                         Restaurant Reviews                               1MB  2023-09-03 23:56:41           1282         34  1.0              \n",
            "carlmcbrideellis/zzzs-lightweight-training-dataset-target  Zzzs: Lightweight training dataset + target    185MB  2023-09-11 07:21:51            264         41  1.0              \n",
            "mjshri23/life-expectancy-and-socio-economic-world-bank     Life expectancy & Socio-Economic (world bank)  168KB  2023-09-05 07:09:14           1049         33  1.0              \n",
            "nelgiriyewithana/world-stock-prices-daily-updating         World Stock Prices ( Daily Updating )           10MB  2023-09-15 23:16:10            926         34  1.0              \n",
            "farahalarbeed/car-prices-jordan                            Car Prices Jordan 2023                           5KB  2023-09-14 10:17:03            297         23  1.0              \n",
            "akhiljethwa/global-electricity-statistics                  Global Electricity Statistics (1980-2021)      149KB  2023-09-04 07:45:42            716         32  1.0              \n",
            "sazidthe1/global-happiness-scores-and-factors              World Happiness Report Up to 2023               46KB  2023-09-09 03:23:06            642         27  1.0              \n",
            "imtkaggleteam/renewable-energy-1960-2023                   Renewable Energy (1960-2023)                    88KB  2023-09-13 13:29:23            277         35  1.0              \n",
            "ahmedsayed564/amazon-sales-dataset                         Amazon Sales Dataset 📦                           2MB  2023-09-08 10:14:34            625         23  0.7647059        \n",
            "alitaqi000/world-university-rankings-2023                  World University Rankings 2023                  70KB  2023-08-31 14:35:38           2173         51  1.0              \n",
            "aemyjutt/salesdata                                         SalesDataAnalysis                                5MB  2023-09-04 03:29:58           1166         32  0.9411765        \n"
          ]
        }
      ]
    },
    {
      "cell_type": "code",
      "source": [
        "! kaggle competitions download -c Kannada-MNIST"
      ],
      "metadata": {
        "colab": {
          "base_uri": "https://localhost:8080/"
        },
        "id": "hKB62j2tkIWp",
        "outputId": "0d2c526f-a5e6-4741-f7f4-105ee09c9acd"
      },
      "execution_count": null,
      "outputs": [
        {
          "output_type": "stream",
          "name": "stdout",
          "text": [
            "Downloading Kannada-MNIST.zip to /content\n",
            " 89% 11.0M/12.4M [00:00<00:00, 19.8MB/s]\n",
            "100% 12.4M/12.4M [00:00<00:00, 14.5MB/s]\n"
          ]
        }
      ]
    },
    {
      "cell_type": "code",
      "source": [
        "! mkdir Kannada-MNIST"
      ],
      "metadata": {
        "id": "MOi-1KMmlXeB"
      },
      "execution_count": null,
      "outputs": []
    },
    {
      "cell_type": "code",
      "source": [
        "! unzip Kannada-MNIST.zip -d Kannada-MNIST"
      ],
      "metadata": {
        "colab": {
          "base_uri": "https://localhost:8080/"
        },
        "id": "5wo9beqokq0k",
        "outputId": "d7bd5696-b8bc-423a-bff3-9d1bc7485bd4"
      },
      "execution_count": null,
      "outputs": [
        {
          "output_type": "stream",
          "name": "stdout",
          "text": [
            "Archive:  Kannada-MNIST.zip\n",
            "  inflating: Kannada-MNIST/Dig-MNIST.csv  \n",
            "  inflating: Kannada-MNIST/sample_submission.csv  \n",
            "  inflating: Kannada-MNIST/test.csv  \n",
            "  inflating: Kannada-MNIST/train.csv  \n"
          ]
        }
      ]
    },
    {
      "cell_type": "code",
      "source": [
        "training_data = pd.read_csv('/content/Kannada-MNIST/train.csv')\n",
        "test_data = pd.read_csv('/content/Kannada-MNIST/test.csv')"
      ],
      "metadata": {
        "id": "USrmKsLMpShD"
      },
      "execution_count": null,
      "outputs": []
    },
    {
      "cell_type": "code",
      "source": [
        "training_data"
      ],
      "metadata": {
        "colab": {
          "base_uri": "https://localhost:8080/",
          "height": 424
        },
        "id": "VPrB0aGm7A32",
        "outputId": "a3b0a231-7e63-453a-e6f2-56b34e0c050e"
      },
      "execution_count": null,
      "outputs": [
        {
          "output_type": "execute_result",
          "data": {
            "text/plain": [
              "       label  pixel0  pixel1  pixel2  pixel3  pixel4  pixel5  pixel6  pixel7  \\\n",
              "0          0       0       0       0       0       0       0       0       0   \n",
              "1          1       0       0       0       0       0       0       0       0   \n",
              "2          2       0       0       0       0       0       0       0       0   \n",
              "3          3       0       0       0       0       0       0       0       0   \n",
              "4          4       0       0       0       0       0       0       0       0   \n",
              "...      ...     ...     ...     ...     ...     ...     ...     ...     ...   \n",
              "59995      5       0       0       0       0       0       0       0       0   \n",
              "59996      6       0       0       0       0       0       0       0       0   \n",
              "59997      7       0       0       0       0       0       0       0       0   \n",
              "59998      8       0       0       0       0       0       0       0       0   \n",
              "59999      9       0       0       0       0       0       0       0       0   \n",
              "\n",
              "       pixel8  ...  pixel774  pixel775  pixel776  pixel777  pixel778  \\\n",
              "0           0  ...         0         0         0         0         0   \n",
              "1           0  ...         0         0         0         0         0   \n",
              "2           0  ...         0         0         0         0         0   \n",
              "3           0  ...         0         0         0         0         0   \n",
              "4           0  ...         0         0         0         0         0   \n",
              "...       ...  ...       ...       ...       ...       ...       ...   \n",
              "59995       0  ...         0         0         0         0         0   \n",
              "59996       0  ...         0         0         0         0         0   \n",
              "59997       0  ...         0         0         0         0         0   \n",
              "59998       0  ...         0         0         0         0         0   \n",
              "59999       0  ...         0         0         0         0         0   \n",
              "\n",
              "       pixel779  pixel780  pixel781  pixel782  pixel783  \n",
              "0             0         0         0         0         0  \n",
              "1             0         0         0         0         0  \n",
              "2             0         0         0         0         0  \n",
              "3             0         0         0         0         0  \n",
              "4             0         0         0         0         0  \n",
              "...         ...       ...       ...       ...       ...  \n",
              "59995         0         0         0         0         0  \n",
              "59996         0         0         0         0         0  \n",
              "59997         0         0         0         0         0  \n",
              "59998         0         0         0         0         0  \n",
              "59999         0         0         0         0         0  \n",
              "\n",
              "[60000 rows x 785 columns]"
            ],
            "text/html": [
              "\n",
              "  <div id=\"df-cf8c3cc0-1e26-491c-98bf-48d099f22729\" class=\"colab-df-container\">\n",
              "    <div>\n",
              "<style scoped>\n",
              "    .dataframe tbody tr th:only-of-type {\n",
              "        vertical-align: middle;\n",
              "    }\n",
              "\n",
              "    .dataframe tbody tr th {\n",
              "        vertical-align: top;\n",
              "    }\n",
              "\n",
              "    .dataframe thead th {\n",
              "        text-align: right;\n",
              "    }\n",
              "</style>\n",
              "<table border=\"1\" class=\"dataframe\">\n",
              "  <thead>\n",
              "    <tr style=\"text-align: right;\">\n",
              "      <th></th>\n",
              "      <th>label</th>\n",
              "      <th>pixel0</th>\n",
              "      <th>pixel1</th>\n",
              "      <th>pixel2</th>\n",
              "      <th>pixel3</th>\n",
              "      <th>pixel4</th>\n",
              "      <th>pixel5</th>\n",
              "      <th>pixel6</th>\n",
              "      <th>pixel7</th>\n",
              "      <th>pixel8</th>\n",
              "      <th>...</th>\n",
              "      <th>pixel774</th>\n",
              "      <th>pixel775</th>\n",
              "      <th>pixel776</th>\n",
              "      <th>pixel777</th>\n",
              "      <th>pixel778</th>\n",
              "      <th>pixel779</th>\n",
              "      <th>pixel780</th>\n",
              "      <th>pixel781</th>\n",
              "      <th>pixel782</th>\n",
              "      <th>pixel783</th>\n",
              "    </tr>\n",
              "  </thead>\n",
              "  <tbody>\n",
              "    <tr>\n",
              "      <th>0</th>\n",
              "      <td>0</td>\n",
              "      <td>0</td>\n",
              "      <td>0</td>\n",
              "      <td>0</td>\n",
              "      <td>0</td>\n",
              "      <td>0</td>\n",
              "      <td>0</td>\n",
              "      <td>0</td>\n",
              "      <td>0</td>\n",
              "      <td>0</td>\n",
              "      <td>...</td>\n",
              "      <td>0</td>\n",
              "      <td>0</td>\n",
              "      <td>0</td>\n",
              "      <td>0</td>\n",
              "      <td>0</td>\n",
              "      <td>0</td>\n",
              "      <td>0</td>\n",
              "      <td>0</td>\n",
              "      <td>0</td>\n",
              "      <td>0</td>\n",
              "    </tr>\n",
              "    <tr>\n",
              "      <th>1</th>\n",
              "      <td>1</td>\n",
              "      <td>0</td>\n",
              "      <td>0</td>\n",
              "      <td>0</td>\n",
              "      <td>0</td>\n",
              "      <td>0</td>\n",
              "      <td>0</td>\n",
              "      <td>0</td>\n",
              "      <td>0</td>\n",
              "      <td>0</td>\n",
              "      <td>...</td>\n",
              "      <td>0</td>\n",
              "      <td>0</td>\n",
              "      <td>0</td>\n",
              "      <td>0</td>\n",
              "      <td>0</td>\n",
              "      <td>0</td>\n",
              "      <td>0</td>\n",
              "      <td>0</td>\n",
              "      <td>0</td>\n",
              "      <td>0</td>\n",
              "    </tr>\n",
              "    <tr>\n",
              "      <th>2</th>\n",
              "      <td>2</td>\n",
              "      <td>0</td>\n",
              "      <td>0</td>\n",
              "      <td>0</td>\n",
              "      <td>0</td>\n",
              "      <td>0</td>\n",
              "      <td>0</td>\n",
              "      <td>0</td>\n",
              "      <td>0</td>\n",
              "      <td>0</td>\n",
              "      <td>...</td>\n",
              "      <td>0</td>\n",
              "      <td>0</td>\n",
              "      <td>0</td>\n",
              "      <td>0</td>\n",
              "      <td>0</td>\n",
              "      <td>0</td>\n",
              "      <td>0</td>\n",
              "      <td>0</td>\n",
              "      <td>0</td>\n",
              "      <td>0</td>\n",
              "    </tr>\n",
              "    <tr>\n",
              "      <th>3</th>\n",
              "      <td>3</td>\n",
              "      <td>0</td>\n",
              "      <td>0</td>\n",
              "      <td>0</td>\n",
              "      <td>0</td>\n",
              "      <td>0</td>\n",
              "      <td>0</td>\n",
              "      <td>0</td>\n",
              "      <td>0</td>\n",
              "      <td>0</td>\n",
              "      <td>...</td>\n",
              "      <td>0</td>\n",
              "      <td>0</td>\n",
              "      <td>0</td>\n",
              "      <td>0</td>\n",
              "      <td>0</td>\n",
              "      <td>0</td>\n",
              "      <td>0</td>\n",
              "      <td>0</td>\n",
              "      <td>0</td>\n",
              "      <td>0</td>\n",
              "    </tr>\n",
              "    <tr>\n",
              "      <th>4</th>\n",
              "      <td>4</td>\n",
              "      <td>0</td>\n",
              "      <td>0</td>\n",
              "      <td>0</td>\n",
              "      <td>0</td>\n",
              "      <td>0</td>\n",
              "      <td>0</td>\n",
              "      <td>0</td>\n",
              "      <td>0</td>\n",
              "      <td>0</td>\n",
              "      <td>...</td>\n",
              "      <td>0</td>\n",
              "      <td>0</td>\n",
              "      <td>0</td>\n",
              "      <td>0</td>\n",
              "      <td>0</td>\n",
              "      <td>0</td>\n",
              "      <td>0</td>\n",
              "      <td>0</td>\n",
              "      <td>0</td>\n",
              "      <td>0</td>\n",
              "    </tr>\n",
              "    <tr>\n",
              "      <th>...</th>\n",
              "      <td>...</td>\n",
              "      <td>...</td>\n",
              "      <td>...</td>\n",
              "      <td>...</td>\n",
              "      <td>...</td>\n",
              "      <td>...</td>\n",
              "      <td>...</td>\n",
              "      <td>...</td>\n",
              "      <td>...</td>\n",
              "      <td>...</td>\n",
              "      <td>...</td>\n",
              "      <td>...</td>\n",
              "      <td>...</td>\n",
              "      <td>...</td>\n",
              "      <td>...</td>\n",
              "      <td>...</td>\n",
              "      <td>...</td>\n",
              "      <td>...</td>\n",
              "      <td>...</td>\n",
              "      <td>...</td>\n",
              "      <td>...</td>\n",
              "    </tr>\n",
              "    <tr>\n",
              "      <th>59995</th>\n",
              "      <td>5</td>\n",
              "      <td>0</td>\n",
              "      <td>0</td>\n",
              "      <td>0</td>\n",
              "      <td>0</td>\n",
              "      <td>0</td>\n",
              "      <td>0</td>\n",
              "      <td>0</td>\n",
              "      <td>0</td>\n",
              "      <td>0</td>\n",
              "      <td>...</td>\n",
              "      <td>0</td>\n",
              "      <td>0</td>\n",
              "      <td>0</td>\n",
              "      <td>0</td>\n",
              "      <td>0</td>\n",
              "      <td>0</td>\n",
              "      <td>0</td>\n",
              "      <td>0</td>\n",
              "      <td>0</td>\n",
              "      <td>0</td>\n",
              "    </tr>\n",
              "    <tr>\n",
              "      <th>59996</th>\n",
              "      <td>6</td>\n",
              "      <td>0</td>\n",
              "      <td>0</td>\n",
              "      <td>0</td>\n",
              "      <td>0</td>\n",
              "      <td>0</td>\n",
              "      <td>0</td>\n",
              "      <td>0</td>\n",
              "      <td>0</td>\n",
              "      <td>0</td>\n",
              "      <td>...</td>\n",
              "      <td>0</td>\n",
              "      <td>0</td>\n",
              "      <td>0</td>\n",
              "      <td>0</td>\n",
              "      <td>0</td>\n",
              "      <td>0</td>\n",
              "      <td>0</td>\n",
              "      <td>0</td>\n",
              "      <td>0</td>\n",
              "      <td>0</td>\n",
              "    </tr>\n",
              "    <tr>\n",
              "      <th>59997</th>\n",
              "      <td>7</td>\n",
              "      <td>0</td>\n",
              "      <td>0</td>\n",
              "      <td>0</td>\n",
              "      <td>0</td>\n",
              "      <td>0</td>\n",
              "      <td>0</td>\n",
              "      <td>0</td>\n",
              "      <td>0</td>\n",
              "      <td>0</td>\n",
              "      <td>...</td>\n",
              "      <td>0</td>\n",
              "      <td>0</td>\n",
              "      <td>0</td>\n",
              "      <td>0</td>\n",
              "      <td>0</td>\n",
              "      <td>0</td>\n",
              "      <td>0</td>\n",
              "      <td>0</td>\n",
              "      <td>0</td>\n",
              "      <td>0</td>\n",
              "    </tr>\n",
              "    <tr>\n",
              "      <th>59998</th>\n",
              "      <td>8</td>\n",
              "      <td>0</td>\n",
              "      <td>0</td>\n",
              "      <td>0</td>\n",
              "      <td>0</td>\n",
              "      <td>0</td>\n",
              "      <td>0</td>\n",
              "      <td>0</td>\n",
              "      <td>0</td>\n",
              "      <td>0</td>\n",
              "      <td>...</td>\n",
              "      <td>0</td>\n",
              "      <td>0</td>\n",
              "      <td>0</td>\n",
              "      <td>0</td>\n",
              "      <td>0</td>\n",
              "      <td>0</td>\n",
              "      <td>0</td>\n",
              "      <td>0</td>\n",
              "      <td>0</td>\n",
              "      <td>0</td>\n",
              "    </tr>\n",
              "    <tr>\n",
              "      <th>59999</th>\n",
              "      <td>9</td>\n",
              "      <td>0</td>\n",
              "      <td>0</td>\n",
              "      <td>0</td>\n",
              "      <td>0</td>\n",
              "      <td>0</td>\n",
              "      <td>0</td>\n",
              "      <td>0</td>\n",
              "      <td>0</td>\n",
              "      <td>0</td>\n",
              "      <td>...</td>\n",
              "      <td>0</td>\n",
              "      <td>0</td>\n",
              "      <td>0</td>\n",
              "      <td>0</td>\n",
              "      <td>0</td>\n",
              "      <td>0</td>\n",
              "      <td>0</td>\n",
              "      <td>0</td>\n",
              "      <td>0</td>\n",
              "      <td>0</td>\n",
              "    </tr>\n",
              "  </tbody>\n",
              "</table>\n",
              "<p>60000 rows × 785 columns</p>\n",
              "</div>\n",
              "    <div class=\"colab-df-buttons\">\n",
              "\n",
              "  <div class=\"colab-df-container\">\n",
              "    <button class=\"colab-df-convert\" onclick=\"convertToInteractive('df-cf8c3cc0-1e26-491c-98bf-48d099f22729')\"\n",
              "            title=\"Convert this dataframe to an interactive table.\"\n",
              "            style=\"display:none;\">\n",
              "\n",
              "  <svg xmlns=\"http://www.w3.org/2000/svg\" height=\"24px\" viewBox=\"0 -960 960 960\">\n",
              "    <path d=\"M120-120v-720h720v720H120Zm60-500h600v-160H180v160Zm220 220h160v-160H400v160Zm0 220h160v-160H400v160ZM180-400h160v-160H180v160Zm440 0h160v-160H620v160ZM180-180h160v-160H180v160Zm440 0h160v-160H620v160Z\"/>\n",
              "  </svg>\n",
              "    </button>\n",
              "\n",
              "  <style>\n",
              "    .colab-df-container {\n",
              "      display:flex;\n",
              "      gap: 12px;\n",
              "    }\n",
              "\n",
              "    .colab-df-convert {\n",
              "      background-color: #E8F0FE;\n",
              "      border: none;\n",
              "      border-radius: 50%;\n",
              "      cursor: pointer;\n",
              "      display: none;\n",
              "      fill: #1967D2;\n",
              "      height: 32px;\n",
              "      padding: 0 0 0 0;\n",
              "      width: 32px;\n",
              "    }\n",
              "\n",
              "    .colab-df-convert:hover {\n",
              "      background-color: #E2EBFA;\n",
              "      box-shadow: 0px 1px 2px rgba(60, 64, 67, 0.3), 0px 1px 3px 1px rgba(60, 64, 67, 0.15);\n",
              "      fill: #174EA6;\n",
              "    }\n",
              "\n",
              "    .colab-df-buttons div {\n",
              "      margin-bottom: 4px;\n",
              "    }\n",
              "\n",
              "    [theme=dark] .colab-df-convert {\n",
              "      background-color: #3B4455;\n",
              "      fill: #D2E3FC;\n",
              "    }\n",
              "\n",
              "    [theme=dark] .colab-df-convert:hover {\n",
              "      background-color: #434B5C;\n",
              "      box-shadow: 0px 1px 3px 1px rgba(0, 0, 0, 0.15);\n",
              "      filter: drop-shadow(0px 1px 2px rgba(0, 0, 0, 0.3));\n",
              "      fill: #FFFFFF;\n",
              "    }\n",
              "  </style>\n",
              "\n",
              "    <script>\n",
              "      const buttonEl =\n",
              "        document.querySelector('#df-cf8c3cc0-1e26-491c-98bf-48d099f22729 button.colab-df-convert');\n",
              "      buttonEl.style.display =\n",
              "        google.colab.kernel.accessAllowed ? 'block' : 'none';\n",
              "\n",
              "      async function convertToInteractive(key) {\n",
              "        const element = document.querySelector('#df-cf8c3cc0-1e26-491c-98bf-48d099f22729');\n",
              "        const dataTable =\n",
              "          await google.colab.kernel.invokeFunction('convertToInteractive',\n",
              "                                                    [key], {});\n",
              "        if (!dataTable) return;\n",
              "\n",
              "        const docLinkHtml = 'Like what you see? Visit the ' +\n",
              "          '<a target=\"_blank\" href=https://colab.research.google.com/notebooks/data_table.ipynb>data table notebook</a>'\n",
              "          + ' to learn more about interactive tables.';\n",
              "        element.innerHTML = '';\n",
              "        dataTable['output_type'] = 'display_data';\n",
              "        await google.colab.output.renderOutput(dataTable, element);\n",
              "        const docLink = document.createElement('div');\n",
              "        docLink.innerHTML = docLinkHtml;\n",
              "        element.appendChild(docLink);\n",
              "      }\n",
              "    </script>\n",
              "  </div>\n",
              "\n",
              "\n",
              "<div id=\"df-1416bf77-30f0-44d6-887d-d1c06f34bc11\">\n",
              "  <button class=\"colab-df-quickchart\" onclick=\"quickchart('df-1416bf77-30f0-44d6-887d-d1c06f34bc11')\"\n",
              "            title=\"Suggest charts.\"\n",
              "            style=\"display:none;\">\n",
              "\n",
              "<svg xmlns=\"http://www.w3.org/2000/svg\" height=\"24px\"viewBox=\"0 0 24 24\"\n",
              "     width=\"24px\">\n",
              "    <g>\n",
              "        <path d=\"M19 3H5c-1.1 0-2 .9-2 2v14c0 1.1.9 2 2 2h14c1.1 0 2-.9 2-2V5c0-1.1-.9-2-2-2zM9 17H7v-7h2v7zm4 0h-2V7h2v10zm4 0h-2v-4h2v4z\"/>\n",
              "    </g>\n",
              "</svg>\n",
              "  </button>\n",
              "\n",
              "<style>\n",
              "  .colab-df-quickchart {\n",
              "      --bg-color: #E8F0FE;\n",
              "      --fill-color: #1967D2;\n",
              "      --hover-bg-color: #E2EBFA;\n",
              "      --hover-fill-color: #174EA6;\n",
              "      --disabled-fill-color: #AAA;\n",
              "      --disabled-bg-color: #DDD;\n",
              "  }\n",
              "\n",
              "  [theme=dark] .colab-df-quickchart {\n",
              "      --bg-color: #3B4455;\n",
              "      --fill-color: #D2E3FC;\n",
              "      --hover-bg-color: #434B5C;\n",
              "      --hover-fill-color: #FFFFFF;\n",
              "      --disabled-bg-color: #3B4455;\n",
              "      --disabled-fill-color: #666;\n",
              "  }\n",
              "\n",
              "  .colab-df-quickchart {\n",
              "    background-color: var(--bg-color);\n",
              "    border: none;\n",
              "    border-radius: 50%;\n",
              "    cursor: pointer;\n",
              "    display: none;\n",
              "    fill: var(--fill-color);\n",
              "    height: 32px;\n",
              "    padding: 0;\n",
              "    width: 32px;\n",
              "  }\n",
              "\n",
              "  .colab-df-quickchart:hover {\n",
              "    background-color: var(--hover-bg-color);\n",
              "    box-shadow: 0 1px 2px rgba(60, 64, 67, 0.3), 0 1px 3px 1px rgba(60, 64, 67, 0.15);\n",
              "    fill: var(--button-hover-fill-color);\n",
              "  }\n",
              "\n",
              "  .colab-df-quickchart-complete:disabled,\n",
              "  .colab-df-quickchart-complete:disabled:hover {\n",
              "    background-color: var(--disabled-bg-color);\n",
              "    fill: var(--disabled-fill-color);\n",
              "    box-shadow: none;\n",
              "  }\n",
              "\n",
              "  .colab-df-spinner {\n",
              "    border: 2px solid var(--fill-color);\n",
              "    border-color: transparent;\n",
              "    border-bottom-color: var(--fill-color);\n",
              "    animation:\n",
              "      spin 1s steps(1) infinite;\n",
              "  }\n",
              "\n",
              "  @keyframes spin {\n",
              "    0% {\n",
              "      border-color: transparent;\n",
              "      border-bottom-color: var(--fill-color);\n",
              "      border-left-color: var(--fill-color);\n",
              "    }\n",
              "    20% {\n",
              "      border-color: transparent;\n",
              "      border-left-color: var(--fill-color);\n",
              "      border-top-color: var(--fill-color);\n",
              "    }\n",
              "    30% {\n",
              "      border-color: transparent;\n",
              "      border-left-color: var(--fill-color);\n",
              "      border-top-color: var(--fill-color);\n",
              "      border-right-color: var(--fill-color);\n",
              "    }\n",
              "    40% {\n",
              "      border-color: transparent;\n",
              "      border-right-color: var(--fill-color);\n",
              "      border-top-color: var(--fill-color);\n",
              "    }\n",
              "    60% {\n",
              "      border-color: transparent;\n",
              "      border-right-color: var(--fill-color);\n",
              "    }\n",
              "    80% {\n",
              "      border-color: transparent;\n",
              "      border-right-color: var(--fill-color);\n",
              "      border-bottom-color: var(--fill-color);\n",
              "    }\n",
              "    90% {\n",
              "      border-color: transparent;\n",
              "      border-bottom-color: var(--fill-color);\n",
              "    }\n",
              "  }\n",
              "</style>\n",
              "\n",
              "  <script>\n",
              "    async function quickchart(key) {\n",
              "      const quickchartButtonEl =\n",
              "        document.querySelector('#' + key + ' button');\n",
              "      quickchartButtonEl.disabled = true;  // To prevent multiple clicks.\n",
              "      quickchartButtonEl.classList.add('colab-df-spinner');\n",
              "      try {\n",
              "        const charts = await google.colab.kernel.invokeFunction(\n",
              "            'suggestCharts', [key], {});\n",
              "      } catch (error) {\n",
              "        console.error('Error during call to suggestCharts:', error);\n",
              "      }\n",
              "      quickchartButtonEl.classList.remove('colab-df-spinner');\n",
              "      quickchartButtonEl.classList.add('colab-df-quickchart-complete');\n",
              "    }\n",
              "    (() => {\n",
              "      let quickchartButtonEl =\n",
              "        document.querySelector('#df-1416bf77-30f0-44d6-887d-d1c06f34bc11 button');\n",
              "      quickchartButtonEl.style.display =\n",
              "        google.colab.kernel.accessAllowed ? 'block' : 'none';\n",
              "    })();\n",
              "  </script>\n",
              "</div>\n",
              "    </div>\n",
              "  </div>\n"
            ]
          },
          "metadata": {},
          "execution_count": 11
        }
      ]
    },
    {
      "cell_type": "code",
      "source": [
        "eig_val,eig_vec = np.linalg.eig(np.array((training_data.drop(training_data.columns[0],axis = 1)).cov()))"
      ],
      "metadata": {
        "id": "4-ASLRBTqQzP"
      },
      "execution_count": null,
      "outputs": []
    },
    {
      "cell_type": "code",
      "source": [
        "eig_val = list(eig_val)\n",
        "eig_val_contrib = [i/sum(eig_val) for i in eig_val]"
      ],
      "metadata": {
        "id": "U9xJskNkq-2v"
      },
      "execution_count": null,
      "outputs": []
    },
    {
      "cell_type": "code",
      "source": [
        "sum = 0\n",
        "count = 0\n",
        "for i in eig_val_contrib:\n",
        "    if sum > 0.85:\n",
        "        break\n",
        "    sum = sum+i\n",
        "    count = count + 1\n",
        "print(f\"The no of eigenvalues that contribute {sum} sum is {count}\")"
      ],
      "metadata": {
        "colab": {
          "base_uri": "https://localhost:8080/"
        },
        "id": "qDeNniZLrFIc",
        "outputId": "43e42894-cc2a-46d8-e01f-182cb4a27202"
      },
      "execution_count": null,
      "outputs": [
        {
          "output_type": "stream",
          "name": "stdout",
          "text": [
            "The no of eigenvalues that contribute (0.8514765183226758+0j) sum is 121\n"
          ]
        }
      ]
    },
    {
      "cell_type": "code",
      "source": [
        "import pandas as pd\n",
        "from sklearn.preprocessing import StandardScaler\n",
        "\n",
        "#define columns to use for PCA\n",
        "df = training_data.iloc[:, 1:]\n",
        "\n",
        "#define scaler\n",
        "scaler = StandardScaler()\n",
        "\n",
        "#create copy of DataFrame\n",
        "scaled_df=df.copy()\n",
        "\n",
        "#created scaled version of DataFrame\n",
        "scaled_df=pd.DataFrame(scaler.fit_transform(scaled_df), columns=scaled_df.columns)"
      ],
      "metadata": {
        "id": "WlrEN9SA5-6I"
      },
      "execution_count": null,
      "outputs": []
    },
    {
      "cell_type": "code",
      "source": [
        "from sklearn.decomposition import PCA\n",
        "\n",
        "#define PCA model to use\n",
        "pca = PCA(n_components=4)\n",
        "\n",
        "#fit PCA model to data\n",
        "pca_fit = pca.fit(scaled_df)"
      ],
      "metadata": {
        "id": "2qfuN_vz7Z6m"
      },
      "execution_count": null,
      "outputs": []
    },
    {
      "cell_type": "code",
      "source": [
        "import matplotlib.pyplot as plt\n",
        "import numpy as np\n",
        "\n",
        "PC_values = np.arange(pca.n_components_) + 1\n",
        "plt.plot(PC_values, pca.explained_variance_ratio_, 'o-', linewidth=2, color='blue')\n",
        "plt.title('Scree Plot')\n",
        "plt.xlabel('Principal Component')\n",
        "plt.ylabel('Variance Explained')\n",
        "plt.show()"
      ],
      "metadata": {
        "colab": {
          "base_uri": "https://localhost:8080/",
          "height": 472
        },
        "id": "eoYv_2B07u3k",
        "outputId": "f16dd5d3-2cb0-4c44-f0ca-1436123e8fbe"
      },
      "execution_count": null,
      "outputs": [
        {
          "output_type": "display_data",
          "data": {
            "text/plain": [
              "<Figure size 640x480 with 1 Axes>"
            ],
            "image/png": "[encoded data removed]"
          },
          "metadata": {}
        }
      ]
    },
    {
      "cell_type": "code",
      "source": [
        "desired_variance = 0.85\n",
        "cumulative_variance = np.cumsum(pca.explained_variance_ratio_)\n",
        "best_n_components = np.argmax(cumulative_variance >= desired_variance) + 1\n",
        "\n",
        "print(f\"Number of components to explain {desired_variance*100}% variance: {best_n_components}\")"
      ],
      "metadata": {
        "colab": {
          "base_uri": "https://localhost:8080/"
        },
        "id": "tpXZeJBr72kc",
        "outputId": "6c9e60df-ed4c-4c36-becf-f679b435a3be"
      },
      "execution_count": null,
      "outputs": [
        {
          "output_type": "stream",
          "name": "stdout",
          "text": [
            "Number of components to explain 85.0% variance: 1\n"
          ]
        }
      ]
    },
    {
      "cell_type": "code",
      "source": [
        "#define PCA model to use\n",
        "pca = PCA(n_components=121)\n",
        "\n",
        "#fit PCA model to data\n",
        "pca_fit = pca.fit(scaled_df)"
      ],
      "metadata": {
        "id": "SK-DwhhKsmZm"
      },
      "execution_count": null,
      "outputs": []
    },
    {
      "cell_type": "code",
      "source": [
        "PC_values = np.arange(pca.n_components_) + 1\n",
        "plt.plot(PC_values, pca.explained_variance_ratio_, 'o-', linewidth=2, color='blue')\n",
        "plt.title('Scree Plot')\n",
        "plt.xlabel('Principal Component')\n",
        "plt.ylabel('Variance Explained')\n",
        "plt.show()"
      ],
      "metadata": {
        "colab": {
          "base_uri": "https://localhost:8080/",
          "height": 472
        },
        "id": "M9kdK_Xls3Rt",
        "outputId": "fade0649-c78b-4324-c792-449536e133a3"
      },
      "execution_count": null,
      "outputs": [
        {
          "output_type": "display_data",
          "data": {
            "text/plain": [
              "<Figure size 640x480 with 1 Axes>"
            ],
            "image/png": "[encoded data removed]"
          },
          "metadata": {}
        }
      ]
    },
    {
      "cell_type": "code",
      "source": [
        "data = training_data.drop(training_data.columns[0],axis=1)"
      ],
      "metadata": {
        "id": "YZXGCUw5tOVL"
      },
      "execution_count": null,
      "outputs": []
    },
    {
      "cell_type": "code",
      "source": [
        "data.shape"
      ],
      "metadata": {
        "colab": {
          "base_uri": "https://localhost:8080/"
        },
        "id": "nm1lKLFgt_ij",
        "outputId": "8de88329-bc16-4e84-9373-02b31d88116e"
      },
      "execution_count": null,
      "outputs": [
        {
          "output_type": "execute_result",
          "data": {
            "text/plain": [
              "(60000, 784)"
            ]
          },
          "metadata": {},
          "execution_count": 22
        }
      ]
    },
    {
      "cell_type": "code",
      "source": [
        "projection_matrix = pd.DataFrame(eig_vec[0:121])"
      ],
      "metadata": {
        "id": "869U0HFFuC3r"
      },
      "execution_count": null,
      "outputs": []
    },
    {
      "cell_type": "code",
      "source": [
        "projection_matrix = projection_matrix.T"
      ],
      "metadata": {
        "id": "IUZSV6O-uGhz"
      },
      "execution_count": null,
      "outputs": []
    },
    {
      "cell_type": "code",
      "source": [
        "projection_matrix.head()"
      ],
      "metadata": {
        "colab": {
          "base_uri": "https://localhost:8080/",
          "height": 342
        },
        "id": "wjFYH1OUuIoz",
        "outputId": "b8876d5a-8879-4207-f0fe-717ff347a20c"
      },
      "execution_count": null,
      "outputs": [
        {
          "output_type": "execute_result",
          "data": {
            "text/plain": [
              "        0         1         2         3         4                   5    \\\n",
              "0  0.0+0.0j  0.0+0.0j  0.0+0.0j  0.0+0.0j  0.0+0.0j -0.000012+0.000000j   \n",
              "1  0.0+0.0j  0.0+0.0j  0.0+0.0j  0.0+0.0j  0.0+0.0j -0.000019+0.000000j   \n",
              "2  0.0+0.0j  0.0+0.0j  0.0+0.0j  0.0+0.0j  0.0+0.0j -0.000018+0.000000j   \n",
              "3  0.0+0.0j  0.0+0.0j  0.0+0.0j  0.0+0.0j  0.0+0.0j  0.000022+0.000000j   \n",
              "4  0.0+0.0j  0.0+0.0j  0.0+0.0j  0.0+0.0j  0.0+0.0j -0.000022+0.000000j   \n",
              "\n",
              "                  6                   7                   8    \\\n",
              "0 -0.000049+0.000000j -0.000048+0.000000j -0.000096+0.000000j   \n",
              "1 -0.000043+0.000000j -0.000067+0.000000j -0.000171+0.000000j   \n",
              "2 -0.000088+0.000000j -0.000124+0.000000j -0.000232+0.000000j   \n",
              "3  0.000069+0.000000j  0.000011+0.000000j  0.000070+0.000000j   \n",
              "4 -0.000101+0.000000j -0.000163+0.000000j -0.000271+0.000000j   \n",
              "\n",
              "                  9    ...                 111       112       113       114  \\\n",
              "0 -0.000150+0.000000j  ... -0.000025+0.000000j  0.0+0.0j  0.0+0.0j  0.0+0.0j   \n",
              "1 -0.000211+0.000000j  ...  0.000035+0.000000j  0.0+0.0j  0.0+0.0j  0.0+0.0j   \n",
              "2 -0.000403+0.000000j  ...  0.000013+0.000000j  0.0+0.0j  0.0+0.0j  0.0+0.0j   \n",
              "3  0.000139+0.000000j  ... -0.000016+0.000000j  0.0+0.0j  0.0+0.0j  0.0+0.0j   \n",
              "4 -0.000519+0.000000j  ...  0.000026+0.000000j  0.0+0.0j  0.0+0.0j  0.0+0.0j   \n",
              "\n",
              "        115                         116                 117  \\\n",
              "0  0.0+0.0j -5.746927e-07+0.000000e+00j -0.000138+0.000000j   \n",
              "1  0.0+0.0j -1.160619e-05+0.000000e+00j -0.000003+0.000000j   \n",
              "2  0.0+0.0j -2.200506e-05+0.000000e+00j -0.000111+0.000000j   \n",
              "3  0.0+0.0j -1.090998e-05+0.000000e+00j  0.000003+0.000000j   \n",
              "4  0.0+0.0j -8.332826e-06+0.000000e+00j -0.000027+0.000000j   \n",
              "\n",
              "                  118                 119                 120  \n",
              "0 -0.001555+0.000000j -0.005661+0.000000j -0.016967+0.000000j  \n",
              "1  0.000251+0.000000j  0.001142+0.000000j  0.003994+0.000000j  \n",
              "2 -0.001411+0.000000j -0.005803+0.000000j -0.018019+0.000000j  \n",
              "3  0.000233+0.000000j  0.000605+0.000000j -0.000368+0.000000j  \n",
              "4 -0.000704+0.000000j -0.003455+0.000000j -0.011757+0.000000j  \n",
              "\n",
              "[5 rows x 121 columns]"
            ],
            "text/html": [
              "\n",
              "  <div id=\"df-0e5f0246-bf2e-493f-87ee-942cde5285b4\" class=\"colab-df-container\">\n",
              "    <div>\n",
              "<style scoped>\n",
              "    .dataframe tbody tr th:only-of-type {\n",
              "        vertical-align: middle;\n",
              "    }\n",
              "\n",
              "    .dataframe tbody tr th {\n",
              "        vertical-align: top;\n",
              "    }\n",
              "\n",
              "    .dataframe thead th {\n",
              "        text-align: right;\n",
              "    }\n",
              "</style>\n",
              "<table border=\"1\" class=\"dataframe\">\n",
              "  <thead>\n",
              "    <tr style=\"text-align: right;\">\n",
              "      <th></th>\n",
              "      <th>0</th>\n",
              "      <th>1</th>\n",
              "      <th>2</th>\n",
              "      <th>3</th>\n",
              "      <th>4</th>\n",
              "      <th>5</th>\n",
              "      <th>6</th>\n",
              "      <th>7</th>\n",
              "      <th>8</th>\n",
              "      <th>9</th>\n",
              "      <th>...</th>\n",
              "      <th>111</th>\n",
              "      <th>112</th>\n",
              "      <th>113</th>\n",
              "      <th>114</th>\n",
              "      <th>115</th>\n",
              "      <th>116</th>\n",
              "      <th>117</th>\n",
              "      <th>118</th>\n",
              "      <th>119</th>\n",
              "      <th>120</th>\n",
              "    </tr>\n",
              "  </thead>\n",
              "  <tbody>\n",
              "    <tr>\n",
              "      <th>0</th>\n",
              "      <td>0.0+0.0j</td>\n",
              "      <td>0.0+0.0j</td>\n",
              "      <td>0.0+0.0j</td>\n",
              "      <td>0.0+0.0j</td>\n",
              "      <td>0.0+0.0j</td>\n",
              "      <td>-0.000012+0.000000j</td>\n",
              "      <td>-0.000049+0.000000j</td>\n",
              "      <td>-0.000048+0.000000j</td>\n",
              "      <td>-0.000096+0.000000j</td>\n",
              "      <td>-0.000150+0.000000j</td>\n",
              "      <td>...</td>\n",
              "      <td>-0.000025+0.000000j</td>\n",
              "      <td>0.0+0.0j</td>\n",
              "      <td>0.0+0.0j</td>\n",
              "      <td>0.0+0.0j</td>\n",
              "      <td>0.0+0.0j</td>\n",
              "      <td>-5.746927e-07+0.000000e+00j</td>\n",
              "      <td>-0.000138+0.000000j</td>\n",
              "      <td>-0.001555+0.000000j</td>\n",
              "      <td>-0.005661+0.000000j</td>\n",
              "      <td>-0.016967+0.000000j</td>\n",
              "    </tr>\n",
              "    <tr>\n",
              "      <th>1</th>\n",
              "      <td>0.0+0.0j</td>\n",
              "      <td>0.0+0.0j</td>\n",
              "      <td>0.0+0.0j</td>\n",
              "      <td>0.0+0.0j</td>\n",
              "      <td>0.0+0.0j</td>\n",
              "      <td>-0.000019+0.000000j</td>\n",
              "      <td>-0.000043+0.000000j</td>\n",
              "      <td>-0.000067+0.000000j</td>\n",
              "      <td>-0.000171+0.000000j</td>\n",
              "      <td>-0.000211+0.000000j</td>\n",
              "      <td>...</td>\n",
              "      <td>0.000035+0.000000j</td>\n",
              "      <td>0.0+0.0j</td>\n",
              "      <td>0.0+0.0j</td>\n",
              "      <td>0.0+0.0j</td>\n",
              "      <td>0.0+0.0j</td>\n",
              "      <td>-1.160619e-05+0.000000e+00j</td>\n",
              "      <td>-0.000003+0.000000j</td>\n",
              "      <td>0.000251+0.000000j</td>\n",
              "      <td>0.001142+0.000000j</td>\n",
              "      <td>0.003994+0.000000j</td>\n",
              "    </tr>\n",
              "    <tr>\n",
              "      <th>2</th>\n",
              "      <td>0.0+0.0j</td>\n",
              "      <td>0.0+0.0j</td>\n",
              "      <td>0.0+0.0j</td>\n",
              "      <td>0.0+0.0j</td>\n",
              "      <td>0.0+0.0j</td>\n",
              "      <td>-0.000018+0.000000j</td>\n",
              "      <td>-0.000088+0.000000j</td>\n",
              "      <td>-0.000124+0.000000j</td>\n",
              "      <td>-0.000232+0.000000j</td>\n",
              "      <td>-0.000403+0.000000j</td>\n",
              "      <td>...</td>\n",
              "      <td>0.000013+0.000000j</td>\n",
              "      <td>0.0+0.0j</td>\n",
              "      <td>0.0+0.0j</td>\n",
              "      <td>0.0+0.0j</td>\n",
              "      <td>0.0+0.0j</td>\n",
              "      <td>-2.200506e-05+0.000000e+00j</td>\n",
              "      <td>-0.000111+0.000000j</td>\n",
              "      <td>-0.001411+0.000000j</td>\n",
              "      <td>-0.005803+0.000000j</td>\n",
              "      <td>-0.018019+0.000000j</td>\n",
              "    </tr>\n",
              "    <tr>\n",
              "      <th>3</th>\n",
              "      <td>0.0+0.0j</td>\n",
              "      <td>0.0+0.0j</td>\n",
              "      <td>0.0+0.0j</td>\n",
              "      <td>0.0+0.0j</td>\n",
              "      <td>0.0+0.0j</td>\n",
              "      <td>0.000022+0.000000j</td>\n",
              "      <td>0.000069+0.000000j</td>\n",
              "      <td>0.000011+0.000000j</td>\n",
              "      <td>0.000070+0.000000j</td>\n",
              "      <td>0.000139+0.000000j</td>\n",
              "      <td>...</td>\n",
              "      <td>-0.000016+0.000000j</td>\n",
              "      <td>0.0+0.0j</td>\n",
              "      <td>0.0+0.0j</td>\n",
              "      <td>0.0+0.0j</td>\n",
              "      <td>0.0+0.0j</td>\n",
              "      <td>-1.090998e-05+0.000000e+00j</td>\n",
              "      <td>0.000003+0.000000j</td>\n",
              "      <td>0.000233+0.000000j</td>\n",
              "      <td>0.000605+0.000000j</td>\n",
              "      <td>-0.000368+0.000000j</td>\n",
              "    </tr>\n",
              "    <tr>\n",
              "      <th>4</th>\n",
              "      <td>0.0+0.0j</td>\n",
              "      <td>0.0+0.0j</td>\n",
              "      <td>0.0+0.0j</td>\n",
              "      <td>0.0+0.0j</td>\n",
              "      <td>0.0+0.0j</td>\n",
              "      <td>-0.000022+0.000000j</td>\n",
              "      <td>-0.000101+0.000000j</td>\n",
              "      <td>-0.000163+0.000000j</td>\n",
              "      <td>-0.000271+0.000000j</td>\n",
              "      <td>-0.000519+0.000000j</td>\n",
              "      <td>...</td>\n",
              "      <td>0.000026+0.000000j</td>\n",
              "      <td>0.0+0.0j</td>\n",
              "      <td>0.0+0.0j</td>\n",
              "      <td>0.0+0.0j</td>\n",
              "      <td>0.0+0.0j</td>\n",
              "      <td>-8.332826e-06+0.000000e+00j</td>\n",
              "      <td>-0.000027+0.000000j</td>\n",
              "      <td>-0.000704+0.000000j</td>\n",
              "      <td>-0.003455+0.000000j</td>\n",
              "      <td>-0.011757+0.000000j</td>\n",
              "    </tr>\n",
              "  </tbody>\n",
              "</table>\n",
              "<p>5 rows × 121 columns</p>\n",
              "</div>\n",
              "    <div class=\"colab-df-buttons\">\n",
              "\n",
              "  <div class=\"colab-df-container\">\n",
              "    <button class=\"colab-df-convert\" onclick=\"convertToInteractive('df-0e5f0246-bf2e-493f-87ee-942cde5285b4')\"\n",
              "            title=\"Convert this dataframe to an interactive table.\"\n",
              "            style=\"display:none;\">\n",
              "\n",
              "  <svg xmlns=\"http://www.w3.org/2000/svg\" height=\"24px\" viewBox=\"0 -960 960 960\">\n",
              "    <path d=\"M120-120v-720h720v720H120Zm60-500h600v-160H180v160Zm220 220h160v-160H400v160Zm0 220h160v-160H400v160ZM180-400h160v-160H180v160Zm440 0h160v-160H620v160ZM180-180h160v-160H180v160Zm440 0h160v-160H620v160Z\"/>\n",
              "  </svg>\n",
              "    </button>\n",
              "\n",
              "  <style>\n",
              "    .colab-df-container {\n",
              "      display:flex;\n",
              "      gap: 12px;\n",
              "    }\n",
              "\n",
              "    .colab-df-convert {\n",
              "      background-color: #E8F0FE;\n",
              "      border: none;\n",
              "      border-radius: 50%;\n",
              "      cursor: pointer;\n",
              "      display: none;\n",
              "      fill: #1967D2;\n",
              "      height: 32px;\n",
              "      padding: 0 0 0 0;\n",
              "      width: 32px;\n",
              "    }\n",
              "\n",
              "    .colab-df-convert:hover {\n",
              "      background-color: #E2EBFA;\n",
              "      box-shadow: 0px 1px 2px rgba(60, 64, 67, 0.3), 0px 1px 3px 1px rgba(60, 64, 67, 0.15);\n",
              "      fill: #174EA6;\n",
              "    }\n",
              "\n",
              "    .colab-df-buttons div {\n",
              "      margin-bottom: 4px;\n",
              "    }\n",
              "\n",
              "    [theme=dark] .colab-df-convert {\n",
              "      background-color: #3B4455;\n",
              "      fill: #D2E3FC;\n",
              "    }\n",
              "\n",
              "    [theme=dark] .colab-df-convert:hover {\n",
              "      background-color: #434B5C;\n",
              "      box-shadow: 0px 1px 3px 1px rgba(0, 0, 0, 0.15);\n",
              "      filter: drop-shadow(0px 1px 2px rgba(0, 0, 0, 0.3));\n",
              "      fill: #FFFFFF;\n",
              "    }\n",
              "  </style>\n",
              "\n",
              "    <script>\n",
              "      const buttonEl =\n",
              "        document.querySelector('#df-0e5f0246-bf2e-493f-87ee-942cde5285b4 button.colab-df-convert');\n",
              "      buttonEl.style.display =\n",
              "        google.colab.kernel.accessAllowed ? 'block' : 'none';\n",
              "\n",
              "      async function convertToInteractive(key) {\n",
              "        const element = document.querySelector('#df-0e5f0246-bf2e-493f-87ee-942cde5285b4');\n",
              "        const dataTable =\n",
              "          await google.colab.kernel.invokeFunction('convertToInteractive',\n",
              "                                                    [key], {});\n",
              "        if (!dataTable) return;\n",
              "\n",
              "        const docLinkHtml = 'Like what you see? Visit the ' +\n",
              "          '<a target=\"_blank\" href=https://colab.research.google.com/notebooks/data_table.ipynb>data table notebook</a>'\n",
              "          + ' to learn more about interactive tables.';\n",
              "        element.innerHTML = '';\n",
              "        dataTable['output_type'] = 'display_data';\n",
              "        await google.colab.output.renderOutput(dataTable, element);\n",
              "        const docLink = document.createElement('div');\n",
              "        docLink.innerHTML = docLinkHtml;\n",
              "        element.appendChild(docLink);\n",
              "      }\n",
              "    </script>\n",
              "  </div>\n",
              "\n",
              "\n",
              "<div id=\"df-df204aba-9131-4cef-aa2d-8c5b0971c465\">\n",
              "  <button class=\"colab-df-quickchart\" onclick=\"quickchart('df-df204aba-9131-4cef-aa2d-8c5b0971c465')\"\n",
              "            title=\"Suggest charts.\"\n",
              "            style=\"display:none;\">\n",
              "\n",
              "<svg xmlns=\"http://www.w3.org/2000/svg\" height=\"24px\"viewBox=\"0 0 24 24\"\n",
              "     width=\"24px\">\n",
              "    <g>\n",
              "        <path d=\"M19 3H5c-1.1 0-2 .9-2 2v14c0 1.1.9 2 2 2h14c1.1 0 2-.9 2-2V5c0-1.1-.9-2-2-2zM9 17H7v-7h2v7zm4 0h-2V7h2v10zm4 0h-2v-4h2v4z\"/>\n",
              "    </g>\n",
              "</svg>\n",
              "  </button>\n",
              "\n",
              "<style>\n",
              "  .colab-df-quickchart {\n",
              "      --bg-color: #E8F0FE;\n",
              "      --fill-color: #1967D2;\n",
              "      --hover-bg-color: #E2EBFA;\n",
              "      --hover-fill-color: #174EA6;\n",
              "      --disabled-fill-color: #AAA;\n",
              "      --disabled-bg-color: #DDD;\n",
              "  }\n",
              "\n",
              "  [theme=dark] .colab-df-quickchart {\n",
              "      --bg-color: #3B4455;\n",
              "      --fill-color: #D2E3FC;\n",
              "      --hover-bg-color: #434B5C;\n",
              "      --hover-fill-color: #FFFFFF;\n",
              "      --disabled-bg-color: #3B4455;\n",
              "      --disabled-fill-color: #666;\n",
              "  }\n",
              "\n",
              "  .colab-df-quickchart {\n",
              "    background-color: var(--bg-color);\n",
              "    border: none;\n",
              "    border-radius: 50%;\n",
              "    cursor: pointer;\n",
              "    display: none;\n",
              "    fill: var(--fill-color);\n",
              "    height: 32px;\n",
              "    padding: 0;\n",
              "    width: 32px;\n",
              "  }\n",
              "\n",
              "  .colab-df-quickchart:hover {\n",
              "    background-color: var(--hover-bg-color);\n",
              "    box-shadow: 0 1px 2px rgba(60, 64, 67, 0.3), 0 1px 3px 1px rgba(60, 64, 67, 0.15);\n",
              "    fill: var(--button-hover-fill-color);\n",
              "  }\n",
              "\n",
              "  .colab-df-quickchart-complete:disabled,\n",
              "  .colab-df-quickchart-complete:disabled:hover {\n",
              "    background-color: var(--disabled-bg-color);\n",
              "    fill: var(--disabled-fill-color);\n",
              "    box-shadow: none;\n",
              "  }\n",
              "\n",
              "  .colab-df-spinner {\n",
              "    border: 2px solid var(--fill-color);\n",
              "    border-color: transparent;\n",
              "    border-bottom-color: var(--fill-color);\n",
              "    animation:\n",
              "      spin 1s steps(1) infinite;\n",
              "  }\n",
              "\n",
              "  @keyframes spin {\n",
              "    0% {\n",
              "      border-color: transparent;\n",
              "      border-bottom-color: var(--fill-color);\n",
              "      border-left-color: var(--fill-color);\n",
              "    }\n",
              "    20% {\n",
              "      border-color: transparent;\n",
              "      border-left-color: var(--fill-color);\n",
              "      border-top-color: var(--fill-color);\n",
              "    }\n",
              "    30% {\n",
              "      border-color: transparent;\n",
              "      border-left-color: var(--fill-color);\n",
              "      border-top-color: var(--fill-color);\n",
              "      border-right-color: var(--fill-color);\n",
              "    }\n",
              "    40% {\n",
              "      border-color: transparent;\n",
              "      border-right-color: var(--fill-color);\n",
              "      border-top-color: var(--fill-color);\n",
              "    }\n",
              "    60% {\n",
              "      border-color: transparent;\n",
              "      border-right-color: var(--fill-color);\n",
              "    }\n",
              "    80% {\n",
              "      border-color: transparent;\n",
              "      border-right-color: var(--fill-color);\n",
              "      border-bottom-color: var(--fill-color);\n",
              "    }\n",
              "    90% {\n",
              "      border-color: transparent;\n",
              "      border-bottom-color: var(--fill-color);\n",
              "    }\n",
              "  }\n",
              "</style>\n",
              "\n",
              "  <script>\n",
              "    async function quickchart(key) {\n",
              "      const quickchartButtonEl =\n",
              "        document.querySelector('#' + key + ' button');\n",
              "      quickchartButtonEl.disabled = true;  // To prevent multiple clicks.\n",
              "      quickchartButtonEl.classList.add('colab-df-spinner');\n",
              "      try {\n",
              "        const charts = await google.colab.kernel.invokeFunction(\n",
              "            'suggestCharts', [key], {});\n",
              "      } catch (error) {\n",
              "        console.error('Error during call to suggestCharts:', error);\n",
              "      }\n",
              "      quickchartButtonEl.classList.remove('colab-df-spinner');\n",
              "      quickchartButtonEl.classList.add('colab-df-quickchart-complete');\n",
              "    }\n",
              "    (() => {\n",
              "      let quickchartButtonEl =\n",
              "        document.querySelector('#df-df204aba-9131-4cef-aa2d-8c5b0971c465 button');\n",
              "      quickchartButtonEl.style.display =\n",
              "        google.colab.kernel.accessAllowed ? 'block' : 'none';\n",
              "    })();\n",
              "  </script>\n",
              "</div>\n",
              "    </div>\n",
              "  </div>\n"
            ]
          },
          "metadata": {},
          "execution_count": 25
        }
      ]
    },
    {
      "cell_type": "code",
      "source": [
        "projection_matrix.shape"
      ],
      "metadata": {
        "colab": {
          "base_uri": "https://localhost:8080/"
        },
        "id": "wrMbkRUkuK8j",
        "outputId": "a627c4a6-e448-457e-ecd2-90f7137aca49"
      },
      "execution_count": null,
      "outputs": [
        {
          "output_type": "execute_result",
          "data": {
            "text/plain": [
              "(784, 121)"
            ]
          },
          "metadata": {},
          "execution_count": 26
        }
      ]
    },
    {
      "cell_type": "code",
      "source": [
        "class K(Dataset):\n",
        "    def __init__(self, df, transform=None, target_transform=None):\n",
        "        self.img_labels = df.iloc[:,0]\n",
        "        # self.img_dir = img_dir\n",
        "        self.transform = transform\n",
        "        self.target_transform = target_transform\n",
        "        self.df = df\n",
        "\n",
        "    def __len__(self):\n",
        "        return len(self.img_labels)\n",
        "\n",
        "    def __getitem__(self, idx):\n",
        "        #img_path = os.path.join( self.img_labels.iloc[idx, 0])\n",
        "        image = (self.df.iloc[idx,1:].values)\n",
        "        image = torch.tensor(image)\n",
        "        label = self.img_labels.iloc[idx]\n",
        "        if self.transform:\n",
        "            image = self.transform(image)\n",
        "        if self.target_transform:\n",
        "            label = self.target_transform(label)\n",
        "        return image, label\n"
      ],
      "metadata": {
        "id": "wo0hFoaDuaUf"
      },
      "execution_count": null,
      "outputs": []
    },
    {
      "cell_type": "code",
      "source": [
        "tr = K(training_data)"
      ],
      "metadata": {
        "id": "xXnmAvc34sb8"
      },
      "execution_count": null,
      "outputs": []
    },
    {
      "cell_type": "code",
      "source": [
        "ts = K(training_data)"
      ],
      "metadata": {
        "id": "4ToFJCZm5Onc"
      },
      "execution_count": null,
      "outputs": []
    },
    {
      "cell_type": "code",
      "source": [
        "train_size = int(0.9*(len(tr)))\n",
        "val_size = len(tr) - train_size\n",
        "train_set, val_set = random_split(tr, [train_size, val_size])"
      ],
      "metadata": {
        "id": "2eM1_ija5Q5c"
      },
      "execution_count": null,
      "outputs": []
    },
    {
      "cell_type": "code",
      "source": [
        "from torch.utils.data import DataLoader, random_split\n",
        "\n",
        "train_dataloader = DataLoader(train_set, batch_size=64, shuffle=True)\n",
        "test_dataloader = DataLoader(ts, batch_size=64, shuffle=True)\n",
        "val_dataloader = DataLoader(val_set,batch_size = 64,shuffle=True)"
      ],
      "metadata": {
        "id": "_raltOT15d-F"
      },
      "execution_count": null,
      "outputs": []
    },
    {
      "cell_type": "code",
      "source": [
        "train_features,train_labels = next(iter(train_dataloader))\n",
        "print(f\"Feature batch shape: {train_features.size()}\")\n",
        "print(f\"Labels batch shape: {train_labels.size()}\")\n",
        "img = train_features[0].reshape(28,28).squeeze()\n",
        "label = train_labels[0]\n",
        "plt.imshow(img,cmap='gray')\n",
        "plt.show()\n",
        "print(f\"Label: {label}\")"
      ],
      "metadata": {
        "colab": {
          "base_uri": "https://localhost:8080/",
          "height": 482
        },
        "id": "91pv9Psu5oEU",
        "outputId": "ca19f727-c76d-4392-f0b2-4456bee220d3"
      },
      "execution_count": null,
      "outputs": [
        {
          "output_type": "stream",
          "name": "stdout",
          "text": [
            "Feature batch shape: torch.Size([64, 784])\n",
            "Labels batch shape: torch.Size([64])\n"
          ]
        },
        {
          "output_type": "display_data",
          "data": {
            "text/plain": [
              "<Figure size 640x480 with 1 Axes>"
            ],
            "image/png": "[encoded data removed]"
          },
          "metadata": {}
        },
        {
          "output_type": "stream",
          "name": "stdout",
          "text": [
            "Label: 2\n"
          ]
        }
      ]
    },
    {
      "cell_type": "code",
      "source": [
        "device = (\n",
        "    \"cuda\"\n",
        "    if torch.cuda.is_available()\n",
        "    else \"mps\"\n",
        "    if torch.backends.mps.is_available()\n",
        "    else \"cpu\"\n",
        ")\n",
        "print(f\"Using {device} device\")"
      ],
      "metadata": {
        "colab": {
          "base_uri": "https://localhost:8080/"
        },
        "id": "gxrzKkbM5sOE",
        "outputId": "75447533-b15a-46c1-f898-944a1fb00f54"
      },
      "execution_count": null,
      "outputs": [
        {
          "output_type": "stream",
          "name": "stdout",
          "text": [
            "Using cuda device\n"
          ]
        }
      ]
    },
    {
      "cell_type": "code",
      "source": [
        "import os\n",
        "import torch\n",
        "from torch import nn\n",
        "from torch.utils.data import DataLoader\n",
        "from torchvision import datasets, transforms"
      ],
      "metadata": {
        "id": "hNyB1xN-6UGH"
      },
      "execution_count": null,
      "outputs": []
    },
    {
      "cell_type": "code",
      "source": [
        "import torch.nn.functional as F"
      ],
      "metadata": {
        "id": "BukOfKNE55W8"
      },
      "execution_count": null,
      "outputs": []
    },
    {
      "cell_type": "code",
      "source": [
        "class NeuralNetwork(nn.Module):\n",
        "    def __init__(self):\n",
        "        super().__init__()\n",
        "        self.fc1 = nn.Linear(28*28,1000)#just a random Neural Network with 6 Hidden Layers\n",
        "        self.fc2 = nn.Linear(1000,500)\n",
        "        self.fc3 = nn.Linear(500,250)\n",
        "        self.fc4 = nn.Linear(250,112)\n",
        "        self.fc5 = nn.Linear(112,250)\n",
        "        self.fc6 = nn.Linear(250,500)\n",
        "\n",
        "    def forward(self,x):\n",
        "        x = F.relu(self.fc1(x.float()))# using a common Activation Function\n",
        "        x = F.relu(self.fc2(x))\n",
        "        x = F.relu(self.fc3(x))\n",
        "        x = F.relu(self.fc4(x))\n",
        "        x = F.relu(self.fc5(x))\n",
        "        output = F.relu(self.fc6(x))\n",
        "        return output\n"
      ],
      "metadata": {
        "id": "zyPwqH3c5-Jk"
      },
      "execution_count": null,
      "outputs": []
    },
    {
      "cell_type": "code",
      "source": [
        "model = NeuralNetwork()"
      ],
      "metadata": {
        "id": "4dP0QpkI6dLE"
      },
      "execution_count": null,
      "outputs": []
    },
    {
      "cell_type": "code",
      "source": [
        "model.cuda"
      ],
      "metadata": {
        "colab": {
          "base_uri": "https://localhost:8080/"
        },
        "id": "w96y5VoD6ngE",
        "outputId": "f37afd51-d917-4421-c5ca-2add727bba7c"
      },
      "execution_count": null,
      "outputs": [
        {
          "output_type": "execute_result",
          "data": {
            "text/plain": [
              "<bound method Module.cuda of NeuralNetwork(\n",
              "  (fc1): Linear(in_features=784, out_features=1000, bias=True)\n",
              "  (fc2): Linear(in_features=1000, out_features=500, bias=True)\n",
              "  (fc3): Linear(in_features=500, out_features=250, bias=True)\n",
              "  (fc4): Linear(in_features=250, out_features=112, bias=True)\n",
              "  (fc5): Linear(in_features=112, out_features=250, bias=True)\n",
              "  (fc6): Linear(in_features=250, out_features=500, bias=True)\n",
              ")>"
            ]
          },
          "metadata": {},
          "execution_count": 38
        }
      ]
    },
    {
      "cell_type": "code",
      "source": [
        "device = torch.device(\"cuda:0\")\n",
        "model.to(device)"
      ],
      "metadata": {
        "colab": {
          "base_uri": "https://localhost:8080/"
        },
        "id": "iGqx_sC56qzk",
        "outputId": "359888ef-1b08-402e-f069-4b01fe7fc4da"
      },
      "execution_count": null,
      "outputs": [
        {
          "output_type": "execute_result",
          "data": {
            "text/plain": [
              "NeuralNetwork(\n",
              "  (fc1): Linear(in_features=784, out_features=1000, bias=True)\n",
              "  (fc2): Linear(in_features=1000, out_features=500, bias=True)\n",
              "  (fc3): Linear(in_features=500, out_features=250, bias=True)\n",
              "  (fc4): Linear(in_features=250, out_features=112, bias=True)\n",
              "  (fc5): Linear(in_features=112, out_features=250, bias=True)\n",
              "  (fc6): Linear(in_features=250, out_features=500, bias=True)\n",
              ")"
            ]
          },
          "metadata": {},
          "execution_count": 39
        }
      ]
    },
    {
      "cell_type": "code",
      "source": [
        "loss_fn = nn.MSELoss()\n",
        "optimizer = torch.optim.Adam(model.parameters(), lr = 1e-4)"
      ],
      "metadata": {
        "id": "u2rAkceE6s-k"
      },
      "execution_count": null,
      "outputs": []
    },
    {
      "cell_type": "code",
      "source": [
        "epochs = 10"
      ],
      "metadata": {
        "id": "UVWhM1jT60uM"
      },
      "execution_count": null,
      "outputs": []
    },
    {
      "cell_type": "code",
      "source": [
        "class Encoder(nn.Module):\n",
        "  def __init__(self, n_in, n_hidden_1, n_hidden_2, n_hidden_3, n_out):\n",
        "    super(Encoder, self).__init__()\n",
        "    self.layer1 = nn.Sequential(\n",
        "        nn.Linear(n_in, n_hidden_1, bias=True),\n",
        "        nn.BatchNorm1d(n_hidden_1),\n",
        "        nn.Sigmoid())\n",
        "    self.layer2 = nn.Sequential(\n",
        "        nn.Linear(n_hidden_1, n_hidden_2, bias=True),\n",
        "        nn.BatchNorm1d(n_hidden_2),\n",
        "        nn.Sigmoid())\n",
        "    self.layer3 = nn.Sequential(\n",
        "        nn.Linear(n_hidden_2, n_hidden_3, bias=True),\n",
        "        nn.BatchNorm1d(n_hidden_3),\n",
        "        nn.Sigmoid())\n",
        "    self.layer4 = nn.Sequential(\n",
        "        nn.Linear(n_hidden_3, n_out, bias=True),\n",
        "        nn.BatchNorm1d(n_out),\n",
        "        nn.Sigmoid())\n",
        "\n",
        "  def forward(self, x):\n",
        "    x = self.layer1(x.float())\n",
        "    x = self.layer2(x)\n",
        "    x = self.layer3(x)\n",
        "    return self.layer4(x)\n",
        "\n",
        "class Decoder(nn.Module):\n",
        "  def __init__(self, n_in, n_hidden_1, n_hidden_2, n_hidden_3, n_out):\n",
        "    super(Decoder, self).__init__()\n",
        "    self.layer1 = nn.Sequential(\n",
        "        nn.Linear(n_in, n_hidden_1, bias=True),\n",
        "        nn.BatchNorm1d(n_hidden_1),\n",
        "        nn.Sigmoid())\n",
        "    self.layer2 = nn.Sequential(\n",
        "        nn.Linear(n_hidden_1, n_hidden_2, bias=True),\n",
        "        nn.BatchNorm1d(n_hidden_2),\n",
        "        nn.Sigmoid())\n",
        "    self.layer3 = nn.Sequential(\n",
        "        nn.Linear(n_hidden_2, n_hidden_3, bias=True),\n",
        "        nn.BatchNorm1d(n_hidden_3),\n",
        "        nn.Sigmoid())\n",
        "    n_size = 28\n",
        "    self.layer4 = nn.Sequential(\n",
        "        nn.Linear(n_hidden_3, n_out, bias=True),\n",
        "        nn.BatchNorm1d(n_out),\n",
        "        nn.Sigmoid())\n",
        "  def forward(self, x):\n",
        "    x = self.layer1(x.float())\n",
        "    x = self.layer2(x)\n",
        "    x = self.layer3(x)\n",
        "    return self.layer4(x)"
      ],
      "metadata": {
        "id": "8VUyVL5764iM"
      },
      "execution_count": null,
      "outputs": []
    },
    {
      "cell_type": "code",
      "source": [
        "encoder = Encoder(784, 1000, 500, 250, 2)\n",
        "decoder = Decoder(2, 250, 500, 1000, 784)"
      ],
      "metadata": {
        "id": "8CVKawJqoZVN"
      },
      "execution_count": null,
      "outputs": []
    },
    {
      "cell_type": "code",
      "source": [
        "for epoch in range(epochs):\n",
        "  for input, labels in train_dataloader:\n",
        "    optimizer.zero_grad()\n",
        "    code = encoder(input)\n",
        "    output = decoder(code)\n",
        "    loss = loss_fn(output, input)\n",
        "    optimizer.step()\n",
        "  print(f\"Epoch: {epoch} Loss: {loss}\")"
      ],
      "metadata": {
        "colab": {
          "base_uri": "https://localhost:8080/"
        },
        "id": "WzbHjEYBhIAw",
        "outputId": "3dea8b26-67ed-4f46-f3e7-4051c6de6b6a"
      },
      "execution_count": null,
      "outputs": [
        {
          "output_type": "stream",
          "name": "stdout",
          "text": [
            "Epoch: 0 Loss: 4048.84619140625\n",
            "Epoch: 1 Loss: 4127.1904296875\n",
            "Epoch: 2 Loss: 4365.8837890625\n",
            "Epoch: 3 Loss: 4102.06201171875\n",
            "Epoch: 4 Loss: 4356.6611328125\n",
            "Epoch: 5 Loss: 4471.92626953125\n",
            "Epoch: 6 Loss: 3828.498291015625\n",
            "Epoch: 7 Loss: 4450.64990234375\n",
            "Epoch: 8 Loss: 4442.4130859375\n",
            "Epoch: 9 Loss: 4109.7431640625\n"
          ]
        }
      ]
    }
  ]
}